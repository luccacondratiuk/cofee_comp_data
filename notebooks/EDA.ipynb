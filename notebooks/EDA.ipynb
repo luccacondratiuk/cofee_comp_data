{
 "cells": [
  {
   "cell_type": "code",
   "execution_count": 1,
   "metadata": {},
   "outputs": [
    {
     "name": "stderr",
     "output_type": "stream",
     "text": [
      "/home/jeanlucca/.local/share/virtualenvs/coffee_comp_data-SWVeHkw8/lib/python3.12/site-packages/fuzzywuzzy/fuzz.py:11: UserWarning: Using slow pure-python SequenceMatcher. Install python-Levenshtein to remove this warning\n",
      "  warnings.warn('Using slow pure-python SequenceMatcher. Install python-Levenshtein to remove this warning')\n"
     ]
    }
   ],
   "source": [
    "import pandas as pd\n",
    "import plotly.express as px\n",
    "import re\n",
    "from fuzzywuzzy import process"
   ]
  },
  {
   "cell_type": "code",
   "execution_count": 2,
   "metadata": {},
   "outputs": [],
   "source": [
    "coffee_raw_df = pd.read_csv('./coffee_df.csv')"
   ]
  },
  {
   "cell_type": "code",
   "execution_count": 3,
   "metadata": {},
   "outputs": [],
   "source": [
    "def printDataFrameInfo(df: pd.DataFrame)->None:\n",
    "    \"\"\"\n",
    "    Função que printa as informações do df (df.info())\n",
    "    e também printa as primeiras 5 linhas do df\n",
    "    \"\"\"\n",
    "    print(\"--------------------\")\n",
    "    df.info()\n",
    "    print(\"--------------------\")\n",
    "    print(\"--------------------\")\n",
    "    print(df.head())\n",
    "    print(\"--------------------\")\n",
    "\n",
    "\n",
    "def convert_to_int_if_possible(col):\n",
    "    \"\"\"\n",
    "    Função para checar se todos os valores da coluna são inteiros, se sim, converte para integer, se não retorna a original\n",
    "    \"\"\"\n",
    "    # checando se todos os valores são inteiros\n",
    "    if col.apply(float.is_integer).all():\n",
    "        # Converte para integer\n",
    "        return col.astype(int)\n",
    "    else:\n",
    "        # retorna a coluna original\n",
    "        return col"
   ]
  },
  {
   "cell_type": "markdown",
   "metadata": {},
   "source": [
    "## 1- Explorando os dados e primeiras impressões "
   ]
  },
  {
   "cell_type": "code",
   "execution_count": 4,
   "metadata": {},
   "outputs": [
    {
     "name": "stdout",
     "output_type": "stream",
     "text": [
      "--------------------\n",
      "<class 'pandas.core.frame.DataFrame'>\n",
      "RangeIndex: 2282 entries, 0 to 2281\n",
      "Data columns (total 20 columns):\n",
      " #   Column       Non-Null Count  Dtype  \n",
      "---  ------       --------------  -----  \n",
      " 0   slug         2282 non-null   object \n",
      " 1   all_text     2282 non-null   object \n",
      " 2   rating       2282 non-null   int64  \n",
      " 3   roaster      2282 non-null   object \n",
      " 4   name         2282 non-null   object \n",
      " 5   location     2281 non-null   object \n",
      " 6   origin       2282 non-null   object \n",
      " 7   roast        2229 non-null   object \n",
      " 8   est_price    2277 non-null   object \n",
      " 9   review_date  2282 non-null   object \n",
      " 10  agtron       2282 non-null   object \n",
      " 11  aroma        2255 non-null   float64\n",
      " 12  acid         1947 non-null   float64\n",
      " 13  body         2279 non-null   float64\n",
      " 14  flavor       2279 non-null   float64\n",
      " 15  aftertaste   2279 non-null   float64\n",
      " 16  with_milk    356 non-null    float64\n",
      " 17  desc_1       2282 non-null   object \n",
      " 18  desc_2       2282 non-null   object \n",
      " 19  desc_3       2280 non-null   object \n",
      "dtypes: float64(6), int64(1), object(13)\n",
      "memory usage: 356.7+ KB\n",
      "--------------------\n",
      "--------------------\n",
      "                                                slug  \\\n",
      "0  https://www.coffeereview.com/review/sweety-esp...   \n",
      "1  https://www.coffeereview.com/review/flora-blen...   \n",
      "2  https://www.coffeereview.com/review/ethiopia-s...   \n",
      "3  https://www.coffeereview.com/review/ethiopia-s...   \n",
      "4  https://www.coffeereview.com/review/ethiopia-g...   \n",
      "\n",
      "                                            all_text  rating  \\\n",
      "0   \\n\\n\\n95\\n\\n\\nA.R.C.\\n“Sweety” Espresso Blend...      95   \n",
      "1   \\n\\n\\n94\\n\\n\\nA.R.C.\\nFlora Blend Espresso\\n\\...      94   \n",
      "2   \\n\\n\\n92\\n\\n\\nRevel Coffee\\nEthiopia Shakiso ...      92   \n",
      "3   \\n\\n\\n92\\n\\n\\nRoast House\\nEthiopia Suke Quto...      92   \n",
      "4   \\n\\n\\n94\\n\\n\\nBig Creek Coffee Roasters\\nEthi...      94   \n",
      "\n",
      "                     roaster                        name             location  \\\n",
      "0                     A.R.C.     “Sweety” Espresso Blend     Hong Kong, China   \n",
      "1                     A.R.C.        Flora Blend Espresso     Hong Kong, China   \n",
      "2               Revel Coffee    Ethiopia Shakiso Mormora    Billings, Montana   \n",
      "3                Roast House          Ethiopia Suke Quto  Spokane, Washington   \n",
      "4  Big Creek Coffee Roasters  Ethiopia Gedeb Halo Beriti    Hamilton, Montana   \n",
      "\n",
      "                                             origin         roast  \\\n",
      "0                                  Panama; Ethiopia  Medium-Light   \n",
      "1                              Africa; Asia Pacific  Medium-Light   \n",
      "2                      Guji Zone, southern Ethiopia  Medium-Light   \n",
      "3  Guji Zone, Oromia Region, south-central Ethiopia  Medium-Light   \n",
      "4     Gedeb District, Gedeo Zone, southern Ethiopia        Medium   \n",
      "\n",
      "            est_price    review_date agtron  aroma  acid  body  flavor  \\\n",
      "0  HKD $250/227 grams  November 2017  50/73    9.0   NaN   9.0     9.0   \n",
      "1  HKD $158/227 grams  November 2017  54/77    9.0   NaN   9.0     9.0   \n",
      "2    $16.00/12 ounces  November 2017  54/70    9.0   8.0   8.0     9.0   \n",
      "3    $19.00/16 ounces  November 2017  53/79    8.0   8.0   9.0     9.0   \n",
      "4    $16.50/12 ounces  November 2017  48/70    9.0   9.0   9.0     9.0   \n",
      "\n",
      "   aftertaste  with_milk                                             desc_1  \\\n",
      "0         9.0        9.0  Evaluated as espresso. Sweet-toned, deeply ric...   \n",
      "1         8.0        9.0  Evaluated as espresso. Sweetly tart, floral-to...   \n",
      "2         8.0        NaN  Crisply sweet, cocoa-toned. Lemon blossom, roa...   \n",
      "3         8.0        NaN  Delicate, sweetly spice-toned. Pink peppercorn...   \n",
      "4         8.0        NaN  Deeply sweet, subtly pungent. Honey, pear, tan...   \n",
      "\n",
      "                                              desc_2  \\\n",
      "0  An espresso blend comprised of coffees from Pa...   \n",
      "1  An espresso blend comprised of coffees from Af...   \n",
      "2  This coffee tied for the third-highest rating ...   \n",
      "3  This coffee tied for the third-highest rating ...   \n",
      "4  Southern Ethiopia coffees like this one are pr...   \n",
      "\n",
      "                                              desc_3  \n",
      "0  A radiant espresso blend that shines equally i...  \n",
      "1  A floral-driven straight shot, amplified with ...  \n",
      "2  A gently spice-toned, floral- driven wet-proce...  \n",
      "3  Lavender-like flowers and hints of zesty pink ...  \n",
      "4  A deeply and generously lush cup saved from se...  \n",
      "--------------------\n"
     ]
    }
   ],
   "source": [
    "printDataFrameInfo(coffee_raw_df)"
   ]
  },
  {
   "cell_type": "markdown",
   "metadata": {},
   "source": [
    "- ```all_text``` é uma coluna que aparenta ter todas as informações em modo texto, no caso, não é relevante para este propósito\n",
    "- ```aroma```, ```acid```, ```body```, ```aftertaste```, ```flavor``` - são colunas de avalição 0-5 de propriedades do café\n",
    "- ```with_milk``` é um avaliação que apresenta muitos dados nulos, e também não achei interessante incluir na comparação, visto que não tomo café com leite :)\n",
    "- ```agtron```é uma coluna meramente informativa, a respeito da coloração do café torrado - pode ser útil para compor uma página\n",
    "- ```location``` aparenta ser uma coluna de onde o café foi torrado e embalado. As informações estão bem bagunçadas, misturando cidades, estados, provícias e países\n",
    "- ```origin``` aparenta ser uma coluna de onde o café foi produzido. As informações estão bem bagunçadas, misturando cidades, estados, provícias e países\n",
    "- ```est_price``` é um dado interessante para incluir, porém preciso normalizar, visto que possuem moedas diferentes e referências de peso diferentes.\n",
    "- ```roast``` aparenta ter dados bem normalizados, poderei usar como categorização\n",
    "- ```desc_x``` aparenta ser uma descrição do café, em modo texto, pode ser útil para compor uma página\n",
    "- ```rating``` uma classificação de 0 a 100, com números inteiros\n",
    "- ```slug```contem o link da review de onde os dados foram retirados, útil para redirecionar para o site original\n",
    "- ```review_date``` é a data em que a review foi publicada, não vejo necessidades de trabalhar com essa informação, que não seja apenas exibi-la\n",
    "- ```name```diz respeito ao nome do café\n",
    "- ```roaster``` diz respeito ao nome da empresa que fez a torreifação\n"
   ]
  },
  {
   "cell_type": "markdown",
   "metadata": {},
   "source": [
    "## 2- Limpeza e tratamento dos dados\n",
    "### 2.1 - Plano de ação\n",
    "\n",
    "- Dropar colunas: ```all_text```, ```with_milk```\n",
    "- Dropar nulos\n",
    "- Verificar se existem valores com vírgula, ou apenas inteiros: ```aroma```, ```acid```, ```body```, ```aftertaste```, ```flavor```\n",
    "- Verificar únicos em ```roast``` e usar como categoria\n",
    "- Normalizar: ```location```, ```origin```, ```est_price```"
   ]
  },
  {
   "cell_type": "code",
   "execution_count": 5,
   "metadata": {},
   "outputs": [
    {
     "name": "stdout",
     "output_type": "stream",
     "text": [
      "--------------------\n",
      "<class 'pandas.core.frame.DataFrame'>\n",
      "RangeIndex: 2282 entries, 0 to 2281\n",
      "Data columns (total 18 columns):\n",
      " #   Column       Non-Null Count  Dtype  \n",
      "---  ------       --------------  -----  \n",
      " 0   slug         2282 non-null   object \n",
      " 1   rating       2282 non-null   int64  \n",
      " 2   roaster      2282 non-null   object \n",
      " 3   name         2282 non-null   object \n",
      " 4   location     2281 non-null   object \n",
      " 5   origin       2282 non-null   object \n",
      " 6   roast        2229 non-null   object \n",
      " 7   est_price    2277 non-null   object \n",
      " 8   review_date  2282 non-null   object \n",
      " 9   agtron       2282 non-null   object \n",
      " 10  aroma        2255 non-null   float64\n",
      " 11  acid         1947 non-null   float64\n",
      " 12  body         2279 non-null   float64\n",
      " 13  flavor       2279 non-null   float64\n",
      " 14  aftertaste   2279 non-null   float64\n",
      " 15  desc_1       2282 non-null   object \n",
      " 16  desc_2       2282 non-null   object \n",
      " 17  desc_3       2280 non-null   object \n",
      "dtypes: float64(5), int64(1), object(12)\n",
      "memory usage: 321.0+ KB\n",
      "--------------------\n",
      "--------------------\n",
      "                                                slug  rating  \\\n",
      "0  https://www.coffeereview.com/review/sweety-esp...      95   \n",
      "1  https://www.coffeereview.com/review/flora-blen...      94   \n",
      "2  https://www.coffeereview.com/review/ethiopia-s...      92   \n",
      "3  https://www.coffeereview.com/review/ethiopia-s...      92   \n",
      "4  https://www.coffeereview.com/review/ethiopia-g...      94   \n",
      "\n",
      "                     roaster                        name             location  \\\n",
      "0                     A.R.C.     “Sweety” Espresso Blend     Hong Kong, China   \n",
      "1                     A.R.C.        Flora Blend Espresso     Hong Kong, China   \n",
      "2               Revel Coffee    Ethiopia Shakiso Mormora    Billings, Montana   \n",
      "3                Roast House          Ethiopia Suke Quto  Spokane, Washington   \n",
      "4  Big Creek Coffee Roasters  Ethiopia Gedeb Halo Beriti    Hamilton, Montana   \n",
      "\n",
      "                                             origin         roast  \\\n",
      "0                                  Panama; Ethiopia  Medium-Light   \n",
      "1                              Africa; Asia Pacific  Medium-Light   \n",
      "2                      Guji Zone, southern Ethiopia  Medium-Light   \n",
      "3  Guji Zone, Oromia Region, south-central Ethiopia  Medium-Light   \n",
      "4     Gedeb District, Gedeo Zone, southern Ethiopia        Medium   \n",
      "\n",
      "            est_price    review_date agtron  aroma  acid  body  flavor  \\\n",
      "0  HKD $250/227 grams  November 2017  50/73    9.0   NaN   9.0     9.0   \n",
      "1  HKD $158/227 grams  November 2017  54/77    9.0   NaN   9.0     9.0   \n",
      "2    $16.00/12 ounces  November 2017  54/70    9.0   8.0   8.0     9.0   \n",
      "3    $19.00/16 ounces  November 2017  53/79    8.0   8.0   9.0     9.0   \n",
      "4    $16.50/12 ounces  November 2017  48/70    9.0   9.0   9.0     9.0   \n",
      "\n",
      "   aftertaste                                             desc_1  \\\n",
      "0         9.0  Evaluated as espresso. Sweet-toned, deeply ric...   \n",
      "1         8.0  Evaluated as espresso. Sweetly tart, floral-to...   \n",
      "2         8.0  Crisply sweet, cocoa-toned. Lemon blossom, roa...   \n",
      "3         8.0  Delicate, sweetly spice-toned. Pink peppercorn...   \n",
      "4         8.0  Deeply sweet, subtly pungent. Honey, pear, tan...   \n",
      "\n",
      "                                              desc_2  \\\n",
      "0  An espresso blend comprised of coffees from Pa...   \n",
      "1  An espresso blend comprised of coffees from Af...   \n",
      "2  This coffee tied for the third-highest rating ...   \n",
      "3  This coffee tied for the third-highest rating ...   \n",
      "4  Southern Ethiopia coffees like this one are pr...   \n",
      "\n",
      "                                              desc_3  \n",
      "0  A radiant espresso blend that shines equally i...  \n",
      "1  A floral-driven straight shot, amplified with ...  \n",
      "2  A gently spice-toned, floral- driven wet-proce...  \n",
      "3  Lavender-like flowers and hints of zesty pink ...  \n",
      "4  A deeply and generously lush cup saved from se...  \n",
      "--------------------\n"
     ]
    }
   ],
   "source": [
    "# Dropando colunas desejadas\n",
    "coffee_raw_df.drop(columns=['all_text', 'with_milk'], inplace=True)\n",
    "printDataFrameInfo(coffee_raw_df)"
   ]
  },
  {
   "cell_type": "code",
   "execution_count": 6,
   "metadata": {},
   "outputs": [
    {
     "name": "stdout",
     "output_type": "stream",
     "text": [
      "--------------------\n",
      "<class 'pandas.core.frame.DataFrame'>\n",
      "Index: 1908 entries, 2 to 2280\n",
      "Data columns (total 18 columns):\n",
      " #   Column       Non-Null Count  Dtype  \n",
      "---  ------       --------------  -----  \n",
      " 0   slug         1908 non-null   object \n",
      " 1   rating       1908 non-null   int64  \n",
      " 2   roaster      1908 non-null   object \n",
      " 3   name         1908 non-null   object \n",
      " 4   location     1908 non-null   object \n",
      " 5   origin       1908 non-null   object \n",
      " 6   roast        1908 non-null   object \n",
      " 7   est_price    1908 non-null   object \n",
      " 8   review_date  1908 non-null   object \n",
      " 9   agtron       1908 non-null   object \n",
      " 10  aroma        1908 non-null   float64\n",
      " 11  acid         1908 non-null   float64\n",
      " 12  body         1908 non-null   float64\n",
      " 13  flavor       1908 non-null   float64\n",
      " 14  aftertaste   1908 non-null   float64\n",
      " 15  desc_1       1908 non-null   object \n",
      " 16  desc_2       1908 non-null   object \n",
      " 17  desc_3       1908 non-null   object \n",
      "dtypes: float64(5), int64(1), object(12)\n",
      "memory usage: 283.2+ KB\n",
      "--------------------\n",
      "--------------------\n",
      "                                                slug  rating  \\\n",
      "2  https://www.coffeereview.com/review/ethiopia-s...      92   \n",
      "3  https://www.coffeereview.com/review/ethiopia-s...      92   \n",
      "4  https://www.coffeereview.com/review/ethiopia-g...      94   \n",
      "5  https://www.coffeereview.com/review/ethiopia-k...      93   \n",
      "6  https://www.coffeereview.com/review/ethiopia-g...      93   \n",
      "\n",
      "                      roaster                              name  \\\n",
      "2                Revel Coffee          Ethiopia Shakiso Mormora   \n",
      "3                 Roast House                Ethiopia Suke Quto   \n",
      "4   Big Creek Coffee Roasters        Ethiopia Gedeb Halo Beriti   \n",
      "5  Red Rooster Coffee Roaster           Ethiopia Kayon Mountain   \n",
      "6   Willoughby's Coffee & Tea  Ethiopia Gelgelu Natural Organic   \n",
      "\n",
      "                location                                             origin  \\\n",
      "2      Billings, Montana                       Guji Zone, southern Ethiopia   \n",
      "3    Spokane, Washington   Guji Zone, Oromia Region, south-central Ethiopia   \n",
      "4      Hamilton, Montana      Gedeb District, Gedeo Zone, southern Ethiopia   \n",
      "5        Floyd, Virginia  Odo Shakiso District, Guji Zone, southern Ethi...   \n",
      "6  Branford, Connecticut      Yirgacheffe growing region, southern Ethiopia   \n",
      "\n",
      "          roast         est_price    review_date agtron  aroma  acid  body  \\\n",
      "2  Medium-Light  $16.00/12 ounces  November 2017  54/70    9.0   8.0   8.0   \n",
      "3  Medium-Light  $19.00/16 ounces  November 2017  53/79    8.0   8.0   9.0   \n",
      "4        Medium  $16.50/12 ounces  November 2017  48/70    9.0   9.0   9.0   \n",
      "5         Light  $17.49/12 ounces  November 2017  66/92    9.0   8.0   9.0   \n",
      "6  Medium-Light  $17.99/16 ounces  November 2017  54/75    9.0   8.0   9.0   \n",
      "\n",
      "   flavor  aftertaste                                             desc_1  \\\n",
      "2     9.0         8.0  Crisply sweet, cocoa-toned. Lemon blossom, roa...   \n",
      "3     9.0         8.0  Delicate, sweetly spice-toned. Pink peppercorn...   \n",
      "4     9.0         8.0  Deeply sweet, subtly pungent. Honey, pear, tan...   \n",
      "5     9.0         8.0  Delicate, richly and sweetly tart. Dried hibis...   \n",
      "6     9.0         8.0  High-toned, floral. Dried apricot, magnolia, a...   \n",
      "\n",
      "                                              desc_2  \\\n",
      "2  This coffee tied for the third-highest rating ...   \n",
      "3  This coffee tied for the third-highest rating ...   \n",
      "4  Southern Ethiopia coffees like this one are pr...   \n",
      "5  This coffee tied for the second-highest rating...   \n",
      "6  This coffee tied for the second-highest rating...   \n",
      "\n",
      "                                              desc_3  \n",
      "2  A gently spice-toned, floral- driven wet-proce...  \n",
      "3  Lavender-like flowers and hints of zesty pink ...  \n",
      "4  A deeply and generously lush cup saved from se...  \n",
      "5  A lively and crisply sweet, fruit-forward natu...  \n",
      "6  A deeply sweet natural-processed Ethiopia cup,...  \n",
      "--------------------\n"
     ]
    }
   ],
   "source": [
    "# Dropando nulos\n",
    "coffee_raw_df.dropna(inplace=True)\n",
    "printDataFrameInfo(coffee_raw_df)"
   ]
  },
  {
   "cell_type": "code",
   "execution_count": 7,
   "metadata": {},
   "outputs": [
    {
     "name": "stdout",
     "output_type": "stream",
     "text": [
      "--------------------\n",
      "<class 'pandas.core.frame.DataFrame'>\n",
      "Index: 1908 entries, 2 to 2280\n",
      "Data columns (total 18 columns):\n",
      " #   Column       Non-Null Count  Dtype \n",
      "---  ------       --------------  ----- \n",
      " 0   slug         1908 non-null   object\n",
      " 1   rating       1908 non-null   int64 \n",
      " 2   roaster      1908 non-null   object\n",
      " 3   name         1908 non-null   object\n",
      " 4   location     1908 non-null   object\n",
      " 5   origin       1908 non-null   object\n",
      " 6   roast        1908 non-null   object\n",
      " 7   est_price    1908 non-null   object\n",
      " 8   review_date  1908 non-null   object\n",
      " 9   agtron       1908 non-null   object\n",
      " 10  aroma        1908 non-null   int64 \n",
      " 11  acid         1908 non-null   int64 \n",
      " 12  body         1908 non-null   int64 \n",
      " 13  flavor       1908 non-null   int64 \n",
      " 14  aftertaste   1908 non-null   int64 \n",
      " 15  desc_1       1908 non-null   object\n",
      " 16  desc_2       1908 non-null   object\n",
      " 17  desc_3       1908 non-null   object\n",
      "dtypes: int64(6), object(12)\n",
      "memory usage: 283.2+ KB\n",
      "--------------------\n",
      "--------------------\n",
      "                                                slug  rating  \\\n",
      "2  https://www.coffeereview.com/review/ethiopia-s...      92   \n",
      "3  https://www.coffeereview.com/review/ethiopia-s...      92   \n",
      "4  https://www.coffeereview.com/review/ethiopia-g...      94   \n",
      "5  https://www.coffeereview.com/review/ethiopia-k...      93   \n",
      "6  https://www.coffeereview.com/review/ethiopia-g...      93   \n",
      "\n",
      "                      roaster                              name  \\\n",
      "2                Revel Coffee          Ethiopia Shakiso Mormora   \n",
      "3                 Roast House                Ethiopia Suke Quto   \n",
      "4   Big Creek Coffee Roasters        Ethiopia Gedeb Halo Beriti   \n",
      "5  Red Rooster Coffee Roaster           Ethiopia Kayon Mountain   \n",
      "6   Willoughby's Coffee & Tea  Ethiopia Gelgelu Natural Organic   \n",
      "\n",
      "                location                                             origin  \\\n",
      "2      Billings, Montana                       Guji Zone, southern Ethiopia   \n",
      "3    Spokane, Washington   Guji Zone, Oromia Region, south-central Ethiopia   \n",
      "4      Hamilton, Montana      Gedeb District, Gedeo Zone, southern Ethiopia   \n",
      "5        Floyd, Virginia  Odo Shakiso District, Guji Zone, southern Ethi...   \n",
      "6  Branford, Connecticut      Yirgacheffe growing region, southern Ethiopia   \n",
      "\n",
      "          roast         est_price    review_date agtron  aroma  acid  body  \\\n",
      "2  Medium-Light  $16.00/12 ounces  November 2017  54/70      9     8     8   \n",
      "3  Medium-Light  $19.00/16 ounces  November 2017  53/79      8     8     9   \n",
      "4        Medium  $16.50/12 ounces  November 2017  48/70      9     9     9   \n",
      "5         Light  $17.49/12 ounces  November 2017  66/92      9     8     9   \n",
      "6  Medium-Light  $17.99/16 ounces  November 2017  54/75      9     8     9   \n",
      "\n",
      "   flavor  aftertaste                                             desc_1  \\\n",
      "2       9           8  Crisply sweet, cocoa-toned. Lemon blossom, roa...   \n",
      "3       9           8  Delicate, sweetly spice-toned. Pink peppercorn...   \n",
      "4       9           8  Deeply sweet, subtly pungent. Honey, pear, tan...   \n",
      "5       9           8  Delicate, richly and sweetly tart. Dried hibis...   \n",
      "6       9           8  High-toned, floral. Dried apricot, magnolia, a...   \n",
      "\n",
      "                                              desc_2  \\\n",
      "2  This coffee tied for the third-highest rating ...   \n",
      "3  This coffee tied for the third-highest rating ...   \n",
      "4  Southern Ethiopia coffees like this one are pr...   \n",
      "5  This coffee tied for the second-highest rating...   \n",
      "6  This coffee tied for the second-highest rating...   \n",
      "\n",
      "                                              desc_3  \n",
      "2  A gently spice-toned, floral- driven wet-proce...  \n",
      "3  Lavender-like flowers and hints of zesty pink ...  \n",
      "4  A deeply and generously lush cup saved from se...  \n",
      "5  A lively and crisply sweet, fruit-forward natu...  \n",
      "6  A deeply sweet natural-processed Ethiopia cup,...  \n",
      "--------------------\n"
     ]
    }
   ],
   "source": [
    "# Convertendo (se possível) alguns tipos\n",
    "columns_to_check = ['aroma', 'acid', 'body', 'aftertaste', 'flavor']\n",
    "for col in columns_to_check:\n",
    "    coffee_raw_df[col] = convert_to_int_if_possible(coffee_raw_df[col])\n",
    "    \n",
    "printDataFrameInfo(coffee_raw_df)"
   ]
  },
  {
   "cell_type": "code",
   "execution_count": 8,
   "metadata": {},
   "outputs": [
    {
     "name": "stdout",
     "output_type": "stream",
     "text": [
      "['Medium-Light' 'Medium' 'Light' 'Very Dark' 'Medium-Dark' 'Dark']\n"
     ]
    }
   ],
   "source": [
    "# Verificar valores únicos em roast\n",
    "print(coffee_raw_df['roast'].unique())"
   ]
  },
  {
   "cell_type": "code",
   "execution_count": 9,
   "metadata": {},
   "outputs": [
    {
     "name": "stdout",
     "output_type": "stream",
     "text": [
      "--------------------\n",
      "<class 'pandas.core.frame.DataFrame'>\n",
      "Index: 1908 entries, 2 to 2280\n",
      "Data columns (total 18 columns):\n",
      " #   Column       Non-Null Count  Dtype   \n",
      "---  ------       --------------  -----   \n",
      " 0   slug         1908 non-null   object  \n",
      " 1   rating       1908 non-null   int64   \n",
      " 2   roaster      1908 non-null   object  \n",
      " 3   name         1908 non-null   object  \n",
      " 4   location     1908 non-null   object  \n",
      " 5   origin       1908 non-null   object  \n",
      " 6   roast        1908 non-null   category\n",
      " 7   est_price    1908 non-null   object  \n",
      " 8   review_date  1908 non-null   object  \n",
      " 9   agtron       1908 non-null   object  \n",
      " 10  aroma        1908 non-null   int64   \n",
      " 11  acid         1908 non-null   int64   \n",
      " 12  body         1908 non-null   int64   \n",
      " 13  flavor       1908 non-null   int64   \n",
      " 14  aftertaste   1908 non-null   int64   \n",
      " 15  desc_1       1908 non-null   object  \n",
      " 16  desc_2       1908 non-null   object  \n",
      " 17  desc_3       1908 non-null   object  \n",
      "dtypes: category(1), int64(6), object(11)\n",
      "memory usage: 270.4+ KB\n",
      "--------------------\n",
      "--------------------\n",
      "                                                slug  rating  \\\n",
      "2  https://www.coffeereview.com/review/ethiopia-s...      92   \n",
      "3  https://www.coffeereview.com/review/ethiopia-s...      92   \n",
      "4  https://www.coffeereview.com/review/ethiopia-g...      94   \n",
      "5  https://www.coffeereview.com/review/ethiopia-k...      93   \n",
      "6  https://www.coffeereview.com/review/ethiopia-g...      93   \n",
      "\n",
      "                      roaster                              name  \\\n",
      "2                Revel Coffee          Ethiopia Shakiso Mormora   \n",
      "3                 Roast House                Ethiopia Suke Quto   \n",
      "4   Big Creek Coffee Roasters        Ethiopia Gedeb Halo Beriti   \n",
      "5  Red Rooster Coffee Roaster           Ethiopia Kayon Mountain   \n",
      "6   Willoughby's Coffee & Tea  Ethiopia Gelgelu Natural Organic   \n",
      "\n",
      "                location                                             origin  \\\n",
      "2      Billings, Montana                       Guji Zone, southern Ethiopia   \n",
      "3    Spokane, Washington   Guji Zone, Oromia Region, south-central Ethiopia   \n",
      "4      Hamilton, Montana      Gedeb District, Gedeo Zone, southern Ethiopia   \n",
      "5        Floyd, Virginia  Odo Shakiso District, Guji Zone, southern Ethi...   \n",
      "6  Branford, Connecticut      Yirgacheffe growing region, southern Ethiopia   \n",
      "\n",
      "          roast         est_price    review_date agtron  aroma  acid  body  \\\n",
      "2  Medium-Light  $16.00/12 ounces  November 2017  54/70      9     8     8   \n",
      "3  Medium-Light  $19.00/16 ounces  November 2017  53/79      8     8     9   \n",
      "4        Medium  $16.50/12 ounces  November 2017  48/70      9     9     9   \n",
      "5         Light  $17.49/12 ounces  November 2017  66/92      9     8     9   \n",
      "6  Medium-Light  $17.99/16 ounces  November 2017  54/75      9     8     9   \n",
      "\n",
      "   flavor  aftertaste                                             desc_1  \\\n",
      "2       9           8  Crisply sweet, cocoa-toned. Lemon blossom, roa...   \n",
      "3       9           8  Delicate, sweetly spice-toned. Pink peppercorn...   \n",
      "4       9           8  Deeply sweet, subtly pungent. Honey, pear, tan...   \n",
      "5       9           8  Delicate, richly and sweetly tart. Dried hibis...   \n",
      "6       9           8  High-toned, floral. Dried apricot, magnolia, a...   \n",
      "\n",
      "                                              desc_2  \\\n",
      "2  This coffee tied for the third-highest rating ...   \n",
      "3  This coffee tied for the third-highest rating ...   \n",
      "4  Southern Ethiopia coffees like this one are pr...   \n",
      "5  This coffee tied for the second-highest rating...   \n",
      "6  This coffee tied for the second-highest rating...   \n",
      "\n",
      "                                              desc_3  \n",
      "2  A gently spice-toned, floral- driven wet-proce...  \n",
      "3  Lavender-like flowers and hints of zesty pink ...  \n",
      "4  A deeply and generously lush cup saved from se...  \n",
      "5  A lively and crisply sweet, fruit-forward natu...  \n",
      "6  A deeply sweet natural-processed Ethiopia cup,...  \n",
      "--------------------\n"
     ]
    }
   ],
   "source": [
    "coffee_raw_df['roast'] = coffee_raw_df['roast'].astype('category')\n",
    "printDataFrameInfo(coffee_raw_df)"
   ]
  },
  {
   "cell_type": "markdown",
   "metadata": {},
   "source": [
    "### Limpando ```location``` e ```origin```"
   ]
  },
  {
   "cell_type": "code",
   "execution_count": 10,
   "metadata": {},
   "outputs": [
    {
     "name": "stdout",
     "output_type": "stream",
     "text": [
      "location\n",
      "Madison, Wisconsin                        137\n",
      "Chia-Yi, Taiwan                           108\n",
      "Minneapolis, Minnesota                    107\n",
      "San Diego, California                     100\n",
      "Taipei, Taiwan                             85\n",
      "                                         ... \n",
      "Glendora, California                        1\n",
      "Songshan District, Taipei City, Taiwan      1\n",
      "Kountze, Texas                              1\n",
      "Savannah, Georgia                           1\n",
      "Bigfork, Montana                            1\n",
      "Name: count, Length: 272, dtype: int64\n",
      "------------------------\n",
      "origin\n",
      "Yirgacheffe growing region, southern Ethiopia                  77\n",
      "Guji Zone, Oromia Region, southern Ethiopia                    58\n",
      "Nyeri growing region, south-central Kenya                      53\n",
      "Boquete growing region, western Panama                         34\n",
      "Sidamo (also Sidama) growing region, south-central Ethiopia    32\n",
      "                                                               ..\n",
      "Kona growing region, “Big Island” of Hawai’i                    1\n",
      " Valle de Cauca, Colombia                                       1\n",
      "Sierra Madre, Chiapas State, Mexico                             1\n",
      "Armenia, Quindio Department, Colombia; Ethiopia                 1\n",
      "Cobán growing region, Alta Verapaz Department, Guatemala        1\n",
      "Name: count, Length: 824, dtype: int64\n"
     ]
    }
   ],
   "source": [
    "## LIMPANDO location e origin\n",
    "\n",
    "print(coffee_raw_df[\"location\"].value_counts())\n",
    "print('------------------------')\n",
    "print(coffee_raw_df[\"origin\"].value_counts())"
   ]
  },
  {
   "cell_type": "markdown",
   "metadata": {},
   "source": [
    "#### Conclusões\n",
    "- Percebi que ambas estão no seguinte padrão:\n",
    "    - Se há o delimitador \";\" quer dizer que são duas regiões diferentes, como se os dados estivessem em uma lista. Ex: Brazil;Ecuador;Ethiopia\n",
    "    - Se há o delimitador \",\" quer dizer que há uma subregião (menor) e uma região (maior)Ex: Cidade, Estado ou Província, País.\n",
    "    - Há a combinação de ambos casos. Ex: Bazil; Oromia Region, Ethiopia\n",
    "- Quero manter apenas os países criando duas colunas novas ```location_country``` e ```origin_country```"
   ]
  },
  {
   "cell_type": "code",
   "execution_count": 11,
   "metadata": {},
   "outputs": [
    {
     "name": "stdout",
     "output_type": "stream",
     "text": [
      "--------------------\n",
      "<class 'pandas.core.frame.DataFrame'>\n",
      "Index: 1908 entries, 2 to 2280\n",
      "Data columns (total 20 columns):\n",
      " #   Column            Non-Null Count  Dtype   \n",
      "---  ------            --------------  -----   \n",
      " 0   slug              1908 non-null   object  \n",
      " 1   rating            1908 non-null   int64   \n",
      " 2   roaster           1908 non-null   object  \n",
      " 3   name              1908 non-null   object  \n",
      " 4   location          1908 non-null   object  \n",
      " 5   origin            1908 non-null   object  \n",
      " 6   roast             1908 non-null   category\n",
      " 7   est_price         1908 non-null   object  \n",
      " 8   review_date       1908 non-null   object  \n",
      " 9   agtron            1908 non-null   object  \n",
      " 10  aroma             1908 non-null   int64   \n",
      " 11  acid              1908 non-null   int64   \n",
      " 12  body              1908 non-null   int64   \n",
      " 13  flavor            1908 non-null   int64   \n",
      " 14  aftertaste        1908 non-null   int64   \n",
      " 15  desc_1            1908 non-null   object  \n",
      " 16  desc_2            1908 non-null   object  \n",
      " 17  desc_3            1908 non-null   object  \n",
      " 18  location_country  1908 non-null   object  \n",
      " 19  origin_country    1908 non-null   object  \n",
      "dtypes: category(1), int64(6), object(13)\n",
      "memory usage: 300.2+ KB\n",
      "--------------------\n",
      "--------------------\n",
      "                                                slug  rating  \\\n",
      "2  https://www.coffeereview.com/review/ethiopia-s...      92   \n",
      "3  https://www.coffeereview.com/review/ethiopia-s...      92   \n",
      "4  https://www.coffeereview.com/review/ethiopia-g...      94   \n",
      "5  https://www.coffeereview.com/review/ethiopia-k...      93   \n",
      "6  https://www.coffeereview.com/review/ethiopia-g...      93   \n",
      "\n",
      "                      roaster                              name  \\\n",
      "2                Revel Coffee          Ethiopia Shakiso Mormora   \n",
      "3                 Roast House                Ethiopia Suke Quto   \n",
      "4   Big Creek Coffee Roasters        Ethiopia Gedeb Halo Beriti   \n",
      "5  Red Rooster Coffee Roaster           Ethiopia Kayon Mountain   \n",
      "6   Willoughby's Coffee & Tea  Ethiopia Gelgelu Natural Organic   \n",
      "\n",
      "                location                                             origin  \\\n",
      "2      Billings, Montana                       Guji Zone, southern Ethiopia   \n",
      "3    Spokane, Washington   Guji Zone, Oromia Region, south-central Ethiopia   \n",
      "4      Hamilton, Montana      Gedeb District, Gedeo Zone, southern Ethiopia   \n",
      "5        Floyd, Virginia  Odo Shakiso District, Guji Zone, southern Ethi...   \n",
      "6  Branford, Connecticut      Yirgacheffe growing region, southern Ethiopia   \n",
      "\n",
      "          roast         est_price    review_date agtron  aroma  acid  body  \\\n",
      "2  Medium-Light  $16.00/12 ounces  November 2017  54/70      9     8     8   \n",
      "3  Medium-Light  $19.00/16 ounces  November 2017  53/79      8     8     9   \n",
      "4        Medium  $16.50/12 ounces  November 2017  48/70      9     9     9   \n",
      "5         Light  $17.49/12 ounces  November 2017  66/92      9     8     9   \n",
      "6  Medium-Light  $17.99/16 ounces  November 2017  54/75      9     8     9   \n",
      "\n",
      "   flavor  aftertaste                                             desc_1  \\\n",
      "2       9           8  Crisply sweet, cocoa-toned. Lemon blossom, roa...   \n",
      "3       9           8  Delicate, sweetly spice-toned. Pink peppercorn...   \n",
      "4       9           8  Deeply sweet, subtly pungent. Honey, pear, tan...   \n",
      "5       9           8  Delicate, richly and sweetly tart. Dried hibis...   \n",
      "6       9           8  High-toned, floral. Dried apricot, magnolia, a...   \n",
      "\n",
      "                                              desc_2  \\\n",
      "2  This coffee tied for the third-highest rating ...   \n",
      "3  This coffee tied for the third-highest rating ...   \n",
      "4  Southern Ethiopia coffees like this one are pr...   \n",
      "5  This coffee tied for the second-highest rating...   \n",
      "6  This coffee tied for the second-highest rating...   \n",
      "\n",
      "                                              desc_3 location_country  \\\n",
      "2  A gently spice-toned, floral- driven wet-proce...          Montana   \n",
      "3  Lavender-like flowers and hints of zesty pink ...       Washington   \n",
      "4  A deeply and generously lush cup saved from se...          Montana   \n",
      "5  A lively and crisply sweet, fruit-forward natu...         Virginia   \n",
      "6  A deeply sweet natural-processed Ethiopia cup,...      Connecticut   \n",
      "\n",
      "           origin_country  \n",
      "2       southern Ethiopia  \n",
      "3  south-central Ethiopia  \n",
      "4       southern Ethiopia  \n",
      "5       southern Ethiopia  \n",
      "6       southern Ethiopia  \n",
      "--------------------\n"
     ]
    }
   ],
   "source": [
    "def extract_country(location_string:str)->str:\n",
    "    # Dividindo para pegar as diferentes regiões\n",
    "    regions = location_string.split(';')\n",
    "    countries = []\n",
    "    \n",
    "    for region in regions:\n",
    "        # Dividindo por vírgulas e pegando a última parte\n",
    "        parts = region.split(',')\n",
    "        countries.append(parts[-1].strip())\n",
    "    return '; '.join(countries)\n",
    "\n",
    "coffee_raw_df['location_country'] = coffee_raw_df['location'].apply(extract_country)\n",
    "coffee_raw_df['origin_country'] = coffee_raw_df['origin'].apply(extract_country)\n",
    "\n",
    "printDataFrameInfo(coffee_raw_df)"
   ]
  },
  {
   "cell_type": "markdown",
   "metadata": {},
   "source": [
    "### Conclusões\n",
    "- Percebi que:\n",
    "    - Muitos países acompanham termos de direção como southern $Country ou south-central $Country\n",
    "    - Apesar de termos muitos nomes de países, alguns estão escritos incorretamente\n",
    "    - Muitos \"países\" são estados, províncias dos EUA, Canadá, México e etc...\n",
    "- Logo:\n",
    "    - Vou fazer uma lista de palavras relacionadas à direção e remover das strings\n",
    "    - Padronizar os nomes dos países, e usar a biblioteca FuzzyWuzzy para encontrar possíveis erros de digitação e corrigí-los\n",
    "    - Fazer uma lista de estados e províncias dos EUA, México, Canadá e Taiwan para subsituir pelo nome do país apenas"
   ]
  },
  {
   "cell_type": "code",
   "execution_count": 12,
   "metadata": {},
   "outputs": [
    {
     "name": "stdout",
     "output_type": "stream",
     "text": [
      "--------------------\n",
      "<class 'pandas.core.frame.DataFrame'>\n",
      "Index: 1908 entries, 2 to 2280\n",
      "Data columns (total 20 columns):\n",
      " #   Column            Non-Null Count  Dtype   \n",
      "---  ------            --------------  -----   \n",
      " 0   slug              1908 non-null   object  \n",
      " 1   rating            1908 non-null   int64   \n",
      " 2   roaster           1908 non-null   object  \n",
      " 3   name              1908 non-null   object  \n",
      " 4   location          1908 non-null   object  \n",
      " 5   origin            1908 non-null   object  \n",
      " 6   roast             1908 non-null   category\n",
      " 7   est_price         1908 non-null   object  \n",
      " 8   review_date       1908 non-null   object  \n",
      " 9   agtron            1908 non-null   object  \n",
      " 10  aroma             1908 non-null   int64   \n",
      " 11  acid              1908 non-null   int64   \n",
      " 12  body              1908 non-null   int64   \n",
      " 13  flavor            1908 non-null   int64   \n",
      " 14  aftertaste        1908 non-null   int64   \n",
      " 15  desc_1            1908 non-null   object  \n",
      " 16  desc_2            1908 non-null   object  \n",
      " 17  desc_3            1908 non-null   object  \n",
      " 18  location_country  1908 non-null   object  \n",
      " 19  origin_country    1908 non-null   object  \n",
      "dtypes: category(1), int64(6), object(13)\n",
      "memory usage: 300.2+ KB\n",
      "--------------------\n",
      "--------------------\n",
      "                                                slug  rating  \\\n",
      "2  https://www.coffeereview.com/review/ethiopia-s...      92   \n",
      "3  https://www.coffeereview.com/review/ethiopia-s...      92   \n",
      "4  https://www.coffeereview.com/review/ethiopia-g...      94   \n",
      "5  https://www.coffeereview.com/review/ethiopia-k...      93   \n",
      "6  https://www.coffeereview.com/review/ethiopia-g...      93   \n",
      "\n",
      "                      roaster                              name  \\\n",
      "2                Revel Coffee          Ethiopia Shakiso Mormora   \n",
      "3                 Roast House                Ethiopia Suke Quto   \n",
      "4   Big Creek Coffee Roasters        Ethiopia Gedeb Halo Beriti   \n",
      "5  Red Rooster Coffee Roaster           Ethiopia Kayon Mountain   \n",
      "6   Willoughby's Coffee & Tea  Ethiopia Gelgelu Natural Organic   \n",
      "\n",
      "                location                                             origin  \\\n",
      "2      Billings, Montana                       Guji Zone, southern Ethiopia   \n",
      "3    Spokane, Washington   Guji Zone, Oromia Region, south-central Ethiopia   \n",
      "4      Hamilton, Montana      Gedeb District, Gedeo Zone, southern Ethiopia   \n",
      "5        Floyd, Virginia  Odo Shakiso District, Guji Zone, southern Ethi...   \n",
      "6  Branford, Connecticut      Yirgacheffe growing region, southern Ethiopia   \n",
      "\n",
      "          roast         est_price    review_date agtron  aroma  acid  body  \\\n",
      "2  Medium-Light  $16.00/12 ounces  November 2017  54/70      9     8     8   \n",
      "3  Medium-Light  $19.00/16 ounces  November 2017  53/79      8     8     9   \n",
      "4        Medium  $16.50/12 ounces  November 2017  48/70      9     9     9   \n",
      "5         Light  $17.49/12 ounces  November 2017  66/92      9     8     9   \n",
      "6  Medium-Light  $17.99/16 ounces  November 2017  54/75      9     8     9   \n",
      "\n",
      "   flavor  aftertaste                                             desc_1  \\\n",
      "2       9           8  Crisply sweet, cocoa-toned. Lemon blossom, roa...   \n",
      "3       9           8  Delicate, sweetly spice-toned. Pink peppercorn...   \n",
      "4       9           8  Deeply sweet, subtly pungent. Honey, pear, tan...   \n",
      "5       9           8  Delicate, richly and sweetly tart. Dried hibis...   \n",
      "6       9           8  High-toned, floral. Dried apricot, magnolia, a...   \n",
      "\n",
      "                                              desc_2  \\\n",
      "2  This coffee tied for the third-highest rating ...   \n",
      "3  This coffee tied for the third-highest rating ...   \n",
      "4  Southern Ethiopia coffees like this one are pr...   \n",
      "5  This coffee tied for the second-highest rating...   \n",
      "6  This coffee tied for the second-highest rating...   \n",
      "\n",
      "                                              desc_3 location_country  \\\n",
      "2  A gently spice-toned, floral- driven wet-proce...          Montana   \n",
      "3  Lavender-like flowers and hints of zesty pink ...       Washington   \n",
      "4  A deeply and generously lush cup saved from se...          Montana   \n",
      "5  A lively and crisply sweet, fruit-forward natu...         Virginia   \n",
      "6  A deeply sweet natural-processed Ethiopia cup,...      Connecticut   \n",
      "\n",
      "  origin_country  \n",
      "2       Ethiopia  \n",
      "3       Ethiopia  \n",
      "4       Ethiopia  \n",
      "5       Ethiopia  \n",
      "6       Ethiopia  \n",
      "--------------------\n",
      "\n",
      "['Ethiopia' 'Kenya' 'Not disclosed' 'Colombia' 'Ethiopia;Ethiopia'\n",
      " 'Indonesia;and South America' 'Big Island of Hawaii' 'Guatemala'\n",
      " 'El Salvador' 'Ethiopia;Kenya;Colombia'\n",
      " 'Democratic Republic of the Congo' 'Ethiopia;Costa Rica;Panama'\n",
      " 'Nicaragua' 'Costa Rica' 'Panama' 'Indonesia' 'Yemen' 'Honduras'\n",
      " 'Kenya Gatugi AB' 'Rwanda' 'Peru' 'El Salvador;Indonesia'\n",
      " 'Colombia;Kenya' 'Costa Rica;Ethiopia' 'America;South America;Indonesia'\n",
      " 'Guatemala;El Salvador;Ethiopia' 'Kenya;Ethiopia'\n",
      " 'Ethiopia;Kenya;El Salvador' 'Panama;Ethiopia' 'Nepal'\n",
      " 'Ethiopia;Burundi;Kenya' 'Burundi' 'Ecuador' 'Brazil'\n",
      " 'Ethiopia Natural Yirgacheffe Adado Shara' 'Province Kenya' 'Uganda'\n",
      " 'Tanzania' 'Zambia' 'ColombiaNar' 'Guatemala;Indonesia'\n",
      " 'Africa;Indonesia;South America' 'Ethiopia;Rwanda;Colombia'\n",
      " 'Ethiopia;Guatemala;Kenya' 'Ethiopia;Kenya' 'Ethiopia;Sumatra'\n",
      " 'South America' 'south- Ecuador' 'Bolivia' 'Coastal  California'\n",
      " 'Harar also Harrar growing region of  Ethiopia' 'Malaysia' 'Hawaii'\n",
      " 'Mexico' 'Saint Helena Island' 'Philippines' 'Papua New Guinea'\n",
      " 'Asia;Africa;Americas' 'Jamaica'\n",
      " 'Ethiopia;Sumatra;Colombia;Brazil;Guatemala' 'Big Island of Hawai’i'\n",
      " 'Kona;Panama;Mexico' 'Kenya;Guatemala' 'Ethiopia;Colombia'\n",
      " 'Ethiopia;Guatemala' 'Ethiopia;Kenya;Costa Rica' 'Kenya;Ethiopia;Brazil'\n",
      " 'Nicaragua;Ethiopia' 'Sumatra;Panama;Kenya' 'Madagascar'\n",
      " 'Peru;Colombia;Guatemala;Ecuador;Ethiopia;Brazil'\n",
      " 'Ethiopia;Colombia;Guatemala;Brazil' 'Guatemala;Colombia;Brazil'\n",
      " 'DRC Congo' 'Papua New Guinea;Costa Rica' 'Nicaragua;Colombia;East Timor'\n",
      " 'Nicaragua;East Timor' 'Colombia;Honduras;Rwanda'\n",
      " 'Brazil;Colombia;Rwanda;Democratic Republic of the Congo' 'Hawai’i'\n",
      " 'Sumatra;Ethiopia' 'Guatemala;Ethiopia' 'Brazil;Colombia;Ethiopia'\n",
      " 'El Salvador;Peru' 'Brazil;Costa Rica' 'Taiwan' 'Ethiopia;Yemen' 'China'\n",
      " 'the Democratic Republic of the Congo'\n",
      " 'Ethiopia;Democratic Republic of the Congo' 'South Africa'\n",
      " 'Ethiopia;Peru' 'Brazil;Guatemala;Indonesia' 'Haiti'\n",
      " 'Brazil;Guatemala;Sumatra' 'Costa RIca' 'Sumatra' 'Thailand'\n",
      " 'Big island of Hawai’i' 'Africa;America' 'Dominican Republic'\n",
      " 'Columbia;Guatemala;Brazil' 'Africa;South America;America'\n",
      " 'Ethiopia;Colombia;Nicaragua' 'Nicaragua;Guatemala;Ethiopia'\n",
      " 'Ethiopia;America' 'Papua New Guinea;Colombia' 'Haiti;Ethiopia'\n",
      " 'Colombia;Burundi' 'El Salvador;Colombia;Ethiopia' 'Jamaica.'\n",
      " 'El Salvador;Guatemala' 'Brazil;Colombia;Guatemala'\n",
      " 'Panama;Ethiopia;Costa Rica' 'Brazil;Papua New Guinea;Indonesia'\n",
      " 'Vietnam' 'America;Africa' 'Gedeo Zone' 'Brazil;Honduras;Yemen'\n",
      " 'Colombia;Brazil;Kenya' 'Colombia;Guatemala;Costa Rica;Ethiopia'\n",
      " 'Huila Colombia' 'Ethiopia;Guatemala;Brazil' 'Colombia;Ethiopia;Kenya' ''\n",
      " 'Ethiopia;Rwanda;Panama' 'Africa' 'Indonesia;Ethiopia' 'Kenya;Colombia'\n",
      " 'El Salvador;Guatemala;Honduras' 'Papua New Guinea;Guatemala'\n",
      " 'Colombia;Ethiopia' 'Ethiopia;Honduras;Brazil'\n",
      " 'Apaneca Ilamatepec mountain range' 'Sumatra Indonesia'\n",
      " 'Democratic Republic of Congo' 'Colombia;Guatemala;Indonesia'\n",
      " 'Peru;Honduras;Mexico' 'Americas;Indo-Pacific' 'Latin America' 'America'\n",
      " 'Big Island of Hawai‘i' 'Panama;Honduras;Ethiopia' 'The Philippines'\n",
      " 'East Malaysia' 'Nicaragua;Guatemala' 'Costa Rica;Sumatra'\n",
      " 'Sumatra;Colombia' 'Brazil;Guatemala;Nicaragua' 'El Salvador;Costa Rica'\n",
      " 'Ethiopia;Costa Rica' 'Dominican Republic;Honduras']\n",
      "\n",
      "['Montana' 'Washington' 'Virginia' 'Connecticut' 'California' 'Wisconsin'\n",
      " 'Canada' 'Kansas' 'Taiwan' 'China' 'Minnesota' 'Florida' 'Hawaii'\n",
      " 'Wyoming' 'Oregon' 'Colorado' 'Maine' 'Kentucky' 'New Hampshire'\n",
      " 'New Jersey' 'Australia' 'Massachusetts' 'Illinois' 'South Korea' 'Texas'\n",
      " 'Pennsylvania' 'North Carolina' 'United Arab Emirates' 'New Mexico'\n",
      " 'Californiaa' 'Idaho' 'Ohio' 'Uganda' 'Tennessee' 'Oklahoma' 'New York'\n",
      " 'MInnesota' 'Vermont' 'Georgia' 'Michigan' 'Louisiana' 'Mississippi'\n",
      " 'Alabama' 'Mexico' 'Los Angeles' 'Indonesia' 'Maryland' 'Washingto'\n",
      " 'Nevada' 'Iowa' 'D.C.' 'Missouri' 'Hawai’i' 'Guatemala' 'Japan' 'Peru'\n",
      " 'Honduras' 'Colombia' 'England' 'Alaska' 'Branford Connecticut' 'Kenya'\n",
      " 'Arizona' 'Calfornia']\n"
     ]
    }
   ],
   "source": [
    "def remove_directional_terms(location_string:str)->str:\n",
    "    direction_keywords = [\n",
    "        'southern',\n",
    "        'northern',\n",
    "        'eastern',\n",
    "        'western',\n",
    "        'south-central',\n",
    "        'north-central',\n",
    "        'west-central',\n",
    "        'east-central',\n",
    "        \"north-eastern\",\n",
    "        \"south-eastern\",\n",
    "        \"north-western\",\n",
    "        \"south-western\",\n",
    "        \"northeastern\",\n",
    "        \"southeastern\",\n",
    "        \"southwestern\",\n",
    "        \"northwest\",\n",
    "        \"northeast\",\n",
    "        \"southeast\",\n",
    "        \"southwest\",\n",
    "        \"northwestern\",\n",
    "        \"central\",\n",
    "        'south-',\n",
    "        'north-',\n",
    "        'west-',\n",
    "        'east-',\n",
    "        \"far\",\n",
    "        ]\n",
    "    \n",
    "    countries = location_string.split(';')\n",
    "    countries_fixed = []\n",
    "    \n",
    "    for country in countries:\n",
    "        country = re.sub(r'[“”\"\\'()]', '', country)\n",
    "        \n",
    "        for word in direction_keywords:\n",
    "            country = re.sub(rf'\\b{word}\\b', '', country, flags=re.IGNORECASE).strip()\n",
    "        \n",
    "        countries_fixed.append(country)\n",
    "    \n",
    "    return ';'.join(countries_fixed)\n",
    "\n",
    "coffee_raw_df['location_country'] = coffee_raw_df['location_country'].apply(remove_directional_terms)\n",
    "coffee_raw_df['origin_country'] = coffee_raw_df['origin_country'].apply(remove_directional_terms)\n",
    "printDataFrameInfo(coffee_raw_df)\n",
    "print()\n",
    "print( coffee_raw_df['origin_country'].unique())\n",
    "print()\n",
    "print( coffee_raw_df['location_country'].unique())"
   ]
  },
  {
   "cell_type": "code",
   "execution_count": 13,
   "metadata": {},
   "outputs": [
    {
     "name": "stdout",
     "output_type": "stream",
     "text": [
      "--------------------\n",
      "<class 'pandas.core.frame.DataFrame'>\n",
      "Index: 1908 entries, 2 to 2280\n",
      "Data columns (total 20 columns):\n",
      " #   Column            Non-Null Count  Dtype   \n",
      "---  ------            --------------  -----   \n",
      " 0   slug              1908 non-null   object  \n",
      " 1   rating            1908 non-null   int64   \n",
      " 2   roaster           1908 non-null   object  \n",
      " 3   name              1908 non-null   object  \n",
      " 4   location          1908 non-null   object  \n",
      " 5   origin            1908 non-null   object  \n",
      " 6   roast             1908 non-null   category\n",
      " 7   est_price         1908 non-null   object  \n",
      " 8   review_date       1908 non-null   object  \n",
      " 9   agtron            1908 non-null   object  \n",
      " 10  aroma             1908 non-null   int64   \n",
      " 11  acid              1908 non-null   int64   \n",
      " 12  body              1908 non-null   int64   \n",
      " 13  flavor            1908 non-null   int64   \n",
      " 14  aftertaste        1908 non-null   int64   \n",
      " 15  desc_1            1908 non-null   object  \n",
      " 16  desc_2            1908 non-null   object  \n",
      " 17  desc_3            1908 non-null   object  \n",
      " 18  location_country  1908 non-null   object  \n",
      " 19  origin_country    1908 non-null   object  \n",
      "dtypes: category(1), int64(6), object(13)\n",
      "memory usage: 300.2+ KB\n",
      "--------------------\n",
      "--------------------\n",
      "                                                slug  rating  \\\n",
      "2  https://www.coffeereview.com/review/ethiopia-s...      92   \n",
      "3  https://www.coffeereview.com/review/ethiopia-s...      92   \n",
      "4  https://www.coffeereview.com/review/ethiopia-g...      94   \n",
      "5  https://www.coffeereview.com/review/ethiopia-k...      93   \n",
      "6  https://www.coffeereview.com/review/ethiopia-g...      93   \n",
      "\n",
      "                      roaster                              name  \\\n",
      "2                Revel Coffee          Ethiopia Shakiso Mormora   \n",
      "3                 Roast House                Ethiopia Suke Quto   \n",
      "4   Big Creek Coffee Roasters        Ethiopia Gedeb Halo Beriti   \n",
      "5  Red Rooster Coffee Roaster           Ethiopia Kayon Mountain   \n",
      "6   Willoughby's Coffee & Tea  Ethiopia Gelgelu Natural Organic   \n",
      "\n",
      "                location                                             origin  \\\n",
      "2      Billings, Montana                       Guji Zone, southern Ethiopia   \n",
      "3    Spokane, Washington   Guji Zone, Oromia Region, south-central Ethiopia   \n",
      "4      Hamilton, Montana      Gedeb District, Gedeo Zone, southern Ethiopia   \n",
      "5        Floyd, Virginia  Odo Shakiso District, Guji Zone, southern Ethi...   \n",
      "6  Branford, Connecticut      Yirgacheffe growing region, southern Ethiopia   \n",
      "\n",
      "          roast         est_price    review_date agtron  aroma  acid  body  \\\n",
      "2  Medium-Light  $16.00/12 ounces  November 2017  54/70      9     8     8   \n",
      "3  Medium-Light  $19.00/16 ounces  November 2017  53/79      8     8     9   \n",
      "4        Medium  $16.50/12 ounces  November 2017  48/70      9     9     9   \n",
      "5         Light  $17.49/12 ounces  November 2017  66/92      9     8     9   \n",
      "6  Medium-Light  $17.99/16 ounces  November 2017  54/75      9     8     9   \n",
      "\n",
      "   flavor  aftertaste                                             desc_1  \\\n",
      "2       9           8  Crisply sweet, cocoa-toned. Lemon blossom, roa...   \n",
      "3       9           8  Delicate, sweetly spice-toned. Pink peppercorn...   \n",
      "4       9           8  Deeply sweet, subtly pungent. Honey, pear, tan...   \n",
      "5       9           8  Delicate, richly and sweetly tart. Dried hibis...   \n",
      "6       9           8  High-toned, floral. Dried apricot, magnolia, a...   \n",
      "\n",
      "                                              desc_2  \\\n",
      "2  This coffee tied for the third-highest rating ...   \n",
      "3  This coffee tied for the third-highest rating ...   \n",
      "4  Southern Ethiopia coffees like this one are pr...   \n",
      "5  This coffee tied for the second-highest rating...   \n",
      "6  This coffee tied for the second-highest rating...   \n",
      "\n",
      "                                              desc_3 location_country  \\\n",
      "2  A gently spice-toned, floral- driven wet-proce...    United States   \n",
      "3  Lavender-like flowers and hints of zesty pink ...    United States   \n",
      "4  A deeply and generously lush cup saved from se...    United States   \n",
      "5  A lively and crisply sweet, fruit-forward natu...    United States   \n",
      "6  A deeply sweet natural-processed Ethiopia cup,...    United States   \n",
      "\n",
      "  origin_country  \n",
      "2       Ethiopia  \n",
      "3       Ethiopia  \n",
      "4       Ethiopia  \n",
      "5       Ethiopia  \n",
      "6       Ethiopia  \n",
      "--------------------\n",
      "\n",
      "['Ethiopia' 'Kenya' 'Not disclosed' 'Colombia' 'Ethiopia;Ethiopia'\n",
      " 'Indonesia;and South America' 'Big Island of Hawaii' 'Guatemala'\n",
      " 'El Salvador' 'Ethiopia;Kenya;Colombia'\n",
      " 'Democratic Republic of the Congo' 'Ethiopia;Costa Rica;Panama'\n",
      " 'Nicaragua' 'Costa Rica' 'Panama' 'Indonesia' 'Yemen' 'Honduras'\n",
      " 'Kenya Gatugi AB' 'Rwanda' 'Peru' 'El Salvador;Indonesia'\n",
      " 'Colombia;Kenya' 'Costa Rica;Ethiopia' 'America;South America;Indonesia'\n",
      " 'Guatemala;El Salvador;Ethiopia' 'Kenya;Ethiopia'\n",
      " 'Ethiopia;Kenya;El Salvador' 'Panama;Ethiopia' 'Nepal'\n",
      " 'Ethiopia;Burundi;Kenya' 'Burundi' 'Ecuador' 'Brazil'\n",
      " 'Ethiopia Natural Yirgacheffe Adado Shara' 'Province Kenya' 'Uganda'\n",
      " 'Tanzania' 'Zambia' 'ColombiaNar' 'Guatemala;Indonesia'\n",
      " 'Africa;Indonesia;South America' 'Ethiopia;Rwanda;Colombia'\n",
      " 'Ethiopia;Guatemala;Kenya' 'Ethiopia;Kenya' 'Ethiopia;Sumatra'\n",
      " 'South America' 'Bolivia' 'Coastal  California'\n",
      " 'Harar also Harrar growing region of  Ethiopia' 'Malaysia' 'Hawaii'\n",
      " 'Mexico' 'Saint Helena Island' 'Philippines' 'Papua New Guinea'\n",
      " 'Asia;Africa;Americas' 'Jamaica'\n",
      " 'Ethiopia;Sumatra;Colombia;Brazil;Guatemala' 'Kona;Panama;Mexico'\n",
      " 'Kenya;Guatemala' 'Ethiopia;Colombia' 'Ethiopia;Guatemala'\n",
      " 'Ethiopia;Kenya;Costa Rica' 'Kenya;Ethiopia;Brazil' 'Nicaragua;Ethiopia'\n",
      " 'Sumatra;Panama;Kenya' 'Madagascar'\n",
      " 'Peru;Colombia;Guatemala;Ecuador;Ethiopia;Brazil'\n",
      " 'Ethiopia;Colombia;Guatemala;Brazil' 'Guatemala;Colombia;Brazil'\n",
      " 'Papua New Guinea;Costa Rica' 'Nicaragua;Colombia;East Timor'\n",
      " 'Nicaragua;East Timor' 'Colombia;Honduras;Rwanda'\n",
      " 'Brazil;Colombia;Rwanda;Democratic Republic of the Congo'\n",
      " 'Sumatra;Ethiopia' 'Guatemala;Ethiopia' 'Brazil;Colombia;Ethiopia'\n",
      " 'El Salvador;Peru' 'Brazil;Costa Rica' 'Taiwan' 'Ethiopia;Yemen' 'China'\n",
      " 'Ethiopia;Democratic Republic of the Congo' 'South Africa'\n",
      " 'Ethiopia;Peru' 'Brazil;Guatemala;Indonesia' 'Haiti'\n",
      " 'Brazil;Guatemala;Sumatra' 'Sumatra' 'Thailand' 'Big island of Hawaii'\n",
      " 'Africa;America' 'Dominican Republic' 'Colombia;Guatemala;Brazil'\n",
      " 'Africa;South America;America' 'Ethiopia;Colombia;Nicaragua'\n",
      " 'Nicaragua;Guatemala;Ethiopia' 'Ethiopia;America'\n",
      " 'Papua New Guinea;Colombia' 'Haiti;Ethiopia' 'Colombia;Burundi'\n",
      " 'El Salvador;Colombia;Ethiopia' 'Jamaica.' 'El Salvador;Guatemala'\n",
      " 'Brazil;Colombia;Guatemala' 'Panama;Ethiopia;Costa Rica'\n",
      " 'Brazil;Papua New Guinea;Indonesia' 'Vietnam' 'America;Africa'\n",
      " 'Gedeo Zone' 'Brazil;Honduras;Yemen' 'Colombia;Brazil;Kenya'\n",
      " 'Colombia;Guatemala;Costa Rica;Ethiopia' 'Huila Colombia'\n",
      " 'Ethiopia;Guatemala;Brazil' 'Colombia;Ethiopia;Kenya' ''\n",
      " 'Ethiopia;Rwanda;Panama' 'Africa' 'Indonesia;Ethiopia' 'Kenya;Colombia'\n",
      " 'El Salvador;Guatemala;Honduras' 'Papua New Guinea;Guatemala'\n",
      " 'Colombia;Ethiopia' 'Ethiopia;Honduras;Brazil'\n",
      " 'Apaneca Ilamatepec mountain range' 'Sumatra Indonesia'\n",
      " 'Colombia;Guatemala;Indonesia' 'Peru;Honduras;Mexico'\n",
      " 'Americas;Indo-Pacific' 'Latin America' 'America' 'Big Island of Hawai‘i'\n",
      " 'Panama;Honduras;Ethiopia' 'The Philippines' 'Nicaragua;Guatemala'\n",
      " 'Costa Rica;Sumatra' 'Sumatra;Colombia' 'Brazil;Guatemala;Nicaragua'\n",
      " 'El Salvador;Costa Rica' 'Ethiopia;Costa Rica'\n",
      " 'Dominican Republic;Honduras']\n",
      "\n",
      "['United States' 'Canada' 'Taiwan' 'China' 'Australia' 'South Korea'\n",
      " 'United Arab Emirates' 'Uganda' 'Mexico' 'Indonesia' 'Hawai’i'\n",
      " 'Guatemala' 'Japan' 'Peru' 'Honduras' 'Colombia' 'United Kingdom' 'Kenya']\n"
     ]
    }
   ],
   "source": [
    "# Ajustes Manuais\n",
    "\n",
    "#Correções nos nomes dos países\n",
    "name_mapping = {\n",
    "    \"Hawai'i\": \"Hawaii\",\n",
    "    \"Hawai’i\": \"Hawaii\",\n",
    "    \"Big Island of Hawai'i\": \"Hawaii\",\n",
    "    \"Big Island of Hawai’i\": \"Hawaii\",\n",
    "    \"DRC Congo\": \"Democratic Republic of the Congo\",\n",
    "    \"Democratic Republic of Congo\": \"Democratic Republic of the Congo\",\n",
    "    \"Columbia\": \"Colombia\",\n",
    "    \"Costa RIca\": \"Costa Rica\",\n",
    "    \"East Malaysia\": \"Malaysia\",\n",
    "    \"west- Colombia\": \"Colombia\",\n",
    "    \"south- Ecuador\": \"Ecuador\",\n",
    "    \"west- Bolivia\": \"Bolivia\",\n",
    "    \"the Democratic Republic of the Congo\": \"Democratic Republic of the Congo\"\n",
    "}\n",
    "\n",
    "\n",
    "# Mapeamento de estados/províncias\n",
    "state_to_country_mapping = {\n",
    "    'Montana': 'United States',\n",
    "    'Washington': 'United States',\n",
    "    'Virginia': 'United States',\n",
    "    'Connecticut': 'United States',\n",
    "    'California': 'United States',\n",
    "    'Wisconsin': 'United States',\n",
    "    'Kansas': 'United States',\n",
    "    'Minnesota': 'United States',\n",
    "    'Florida': 'United States',\n",
    "    'Hawaii': 'United States',\n",
    "    'Wyoming': 'United States',\n",
    "    'Oregon': 'United States',\n",
    "    'Colorado': 'United States',\n",
    "    'Maine': 'United States',\n",
    "    'Kentucky': 'United States',\n",
    "    'New Hampshire': 'United States',\n",
    "    'New Jersey': 'United States',\n",
    "    'Massachusetts': 'United States',\n",
    "    'Illinois': 'United States',\n",
    "    'Texas': 'United States',\n",
    "    'Pennsylvania': 'United States',\n",
    "    'North Carolina': 'United States',\n",
    "    'New Mexico': 'United States',\n",
    "    'Idaho': 'United States',\n",
    "    'Ohio': 'United States',\n",
    "    'Tennessee': 'United States',\n",
    "    'Oklahoma': 'United States',\n",
    "    'New York': 'United States',\n",
    "    'Vermont': 'United States',\n",
    "    'Georgia': 'United States',\n",
    "    'Michigan': 'United States',\n",
    "    'Louisiana': 'United States',\n",
    "    'Mississippi': 'United States',\n",
    "    'Alabama': 'United States',\n",
    "    'D.C.': 'United States',\n",
    "    'Maryland': 'United States',\n",
    "    'Nevada': 'United States',\n",
    "    'Iowa': 'United States',\n",
    "    'Missouri': 'United States',\n",
    "    'Alaska': 'United States',\n",
    "    'Arizona': 'United States',\n",
    "    'Canada': 'Canada',\n",
    "    'Taiwan': 'Taiwan',\n",
    "    'China': 'China',\n",
    "    'Australia': 'Australia',\n",
    "    'South Korea': 'South Korea',\n",
    "    'United Arab Emirates': 'United Arab Emirates',\n",
    "    'Uganda': 'Uganda',\n",
    "    'Mexico': 'Mexico',\n",
    "    'Indonesia': 'Indonesia',\n",
    "    'Japan': 'Japan',\n",
    "    'Peru': 'Peru',\n",
    "    'Honduras': 'Honduras',\n",
    "    'Colombia': 'Colombia',\n",
    "    'England': 'United Kingdom',\n",
    "    'Guatemala': 'Guatemala',\n",
    "    'Kenya': 'Kenya',\n",
    "    'Californiaa': 'United States',\n",
    "    'Calfornia': 'United States',\n",
    "    'Washingto': 'United States',\n",
    "    'MInnesota': 'United States',\n",
    "    'Los Angeles': 'United States',\n",
    "    'Branford Connecticut': 'United States'\n",
    "}\n",
    "\n",
    "def normalize_origin_manually(location):\n",
    "    location = location.strip()\n",
    "    \n",
    "    # Map to standard names\n",
    "    for key, value in name_mapping.items():\n",
    "        if key in location:\n",
    "            location = location.replace(key, value)\n",
    "\n",
    "    return location\n",
    "\n",
    "def normalize_location_manually(location:str)->str:\n",
    "    return state_to_country_mapping.get(location, location)\n",
    "\n",
    "coffee_raw_df['origin_country'] = coffee_raw_df['origin_country'].apply(normalize_origin_manually)\n",
    "coffee_raw_df['location_country'] = coffee_raw_df['location_country'].apply(normalize_location_manually)\n",
    "\n",
    "printDataFrameInfo(coffee_raw_df)\n",
    "print()\n",
    "print( coffee_raw_df['origin_country'].unique())\n",
    "print()\n",
    "print( coffee_raw_df['location_country'].unique())"
   ]
  },
  {
   "cell_type": "code",
   "execution_count": 14,
   "metadata": {},
   "outputs": [],
   "source": [
    "\n",
    "# coffee_raw_df['countries_separated'] = coffee_raw_df['origin_country'].apply(lambda x: x.split(';') if x else [])\n",
    "# df_uni = coffee_raw_df.explode('countries_separated')"
   ]
  },
  {
   "cell_type": "markdown",
   "metadata": {},
   "source": [
    "### Normalizando ```est_price```"
   ]
  },
  {
   "cell_type": "code",
   "execution_count": 15,
   "metadata": {},
   "outputs": [
    {
     "name": "stdout",
     "output_type": "stream",
     "text": [
      "['USD' 'CAD' 'NT' 'HKD' 'AUD' 'KRW' 'AED' 'NTD' 'IDR' 'US' '¥']\n",
      "['ounces' 'grams' 'capsules' 'pounds' 'sticks']\n"
     ]
    }
   ],
   "source": [
    "# Normalizando est_price para USD/100g\n",
    "\n",
    "def extract_price_info(price_info:str)->pd.Series:\n",
    "    parts = price_info.split(\"/\")\n",
    "    weight_measurement_unit = None\n",
    "    currency = None\n",
    "    weight = None\n",
    "    price = None\n",
    "    try:\n",
    "        weight_measurement_unit = parts[1].split(\" \")[1].replace(\";\",\"\").replace(\"*\",\"\")\n",
    "        currency_value = parts[0].split(\" \")\n",
    "        if(len(currency_value)==2):\n",
    "            currency = currency_value[0].replace(\"$\",\"\")\n",
    "            price = float(currency_value[1].replace(\"$\",\"\").replace(\",\",\".\"))\n",
    "        elif(len(currency_value)==1):\n",
    "            currency = \"USD\"\n",
    "            price = float(currency_value[0].replace(\"$\",\"\").replace(\",\",\".\"))\n",
    "        weight = float(parts[1].split(\" \")[0].replace(\",\",\".\"))\n",
    "\n",
    "    except:\n",
    "        pass\n",
    "    return pd.Series([currency, price, weight, weight_measurement_unit])\n",
    "\n",
    "\n",
    "coffee_raw_df[['currency', 'price', 'weight', 'weight_measurement_unit']] = coffee_raw_df['est_price'].apply(extract_price_info)\n",
    "coffee_raw_df.dropna(inplace=True)\n",
    "print(coffee_raw_df['currency'].unique())\n",
    "print(coffee_raw_df['weight_measurement_unit'].unique())"
   ]
  },
  {
   "cell_type": "code",
   "execution_count": 16,
   "metadata": {},
   "outputs": [
    {
     "name": "stdout",
     "output_type": "stream",
     "text": [
      "['USD' 'CAD' 'NT' 'HKD' 'AUD' 'KRW' 'AED' 'NTD' 'IDR' 'US' '¥']\n",
      "['ounces' 'grams' 'pounds']\n"
     ]
    }
   ],
   "source": [
    "coffee_raw_df = coffee_raw_df[coffee_raw_df['weight_measurement_unit']!='sticks']\n",
    "coffee_raw_df = coffee_raw_df[coffee_raw_df['weight_measurement_unit']!='capsules']\n",
    "print(coffee_raw_df['currency'].unique())\n",
    "print(coffee_raw_df['weight_measurement_unit'].unique())"
   ]
  },
  {
   "cell_type": "code",
   "execution_count": 17,
   "metadata": {},
   "outputs": [
    {
     "name": "stdout",
     "output_type": "stream",
     "text": [
      "--------------------\n",
      "<class 'pandas.core.frame.DataFrame'>\n",
      "Index: 1864 entries, 2 to 2280\n",
      "Data columns (total 27 columns):\n",
      " #   Column                   Non-Null Count  Dtype   \n",
      "---  ------                   --------------  -----   \n",
      " 0   slug                     1864 non-null   object  \n",
      " 1   rating                   1864 non-null   int64   \n",
      " 2   roaster                  1864 non-null   object  \n",
      " 3   name                     1864 non-null   object  \n",
      " 4   location                 1864 non-null   object  \n",
      " 5   origin                   1864 non-null   object  \n",
      " 6   roast                    1864 non-null   category\n",
      " 7   est_price                1864 non-null   object  \n",
      " 8   review_date              1864 non-null   object  \n",
      " 9   agtron                   1864 non-null   object  \n",
      " 10  aroma                    1864 non-null   int64   \n",
      " 11  acid                     1864 non-null   int64   \n",
      " 12  body                     1864 non-null   int64   \n",
      " 13  flavor                   1864 non-null   int64   \n",
      " 14  aftertaste               1864 non-null   int64   \n",
      " 15  desc_1                   1864 non-null   object  \n",
      " 16  desc_2                   1864 non-null   object  \n",
      " 17  desc_3                   1864 non-null   object  \n",
      " 18  location_country         1864 non-null   object  \n",
      " 19  origin_country           1864 non-null   object  \n",
      " 20  currency                 1864 non-null   object  \n",
      " 21  price                    1864 non-null   float64 \n",
      " 22  weight                   1864 non-null   float64 \n",
      " 23  weight_measurement_unit  1864 non-null   object  \n",
      " 24  weight_in_grams          1864 non-null   float64 \n",
      " 25  price_in_usd             1864 non-null   float64 \n",
      " 26  price_per_100g           1864 non-null   float64 \n",
      "dtypes: category(1), float64(5), int64(6), object(15)\n",
      "memory usage: 395.2+ KB\n",
      "--------------------\n",
      "--------------------\n",
      "                                                slug  rating  \\\n",
      "2  https://www.coffeereview.com/review/ethiopia-s...      92   \n",
      "3  https://www.coffeereview.com/review/ethiopia-s...      92   \n",
      "4  https://www.coffeereview.com/review/ethiopia-g...      94   \n",
      "5  https://www.coffeereview.com/review/ethiopia-k...      93   \n",
      "6  https://www.coffeereview.com/review/ethiopia-g...      93   \n",
      "\n",
      "                      roaster                              name  \\\n",
      "2                Revel Coffee          Ethiopia Shakiso Mormora   \n",
      "3                 Roast House                Ethiopia Suke Quto   \n",
      "4   Big Creek Coffee Roasters        Ethiopia Gedeb Halo Beriti   \n",
      "5  Red Rooster Coffee Roaster           Ethiopia Kayon Mountain   \n",
      "6   Willoughby's Coffee & Tea  Ethiopia Gelgelu Natural Organic   \n",
      "\n",
      "                location                                             origin  \\\n",
      "2      Billings, Montana                       Guji Zone, southern Ethiopia   \n",
      "3    Spokane, Washington   Guji Zone, Oromia Region, south-central Ethiopia   \n",
      "4      Hamilton, Montana      Gedeb District, Gedeo Zone, southern Ethiopia   \n",
      "5        Floyd, Virginia  Odo Shakiso District, Guji Zone, southern Ethi...   \n",
      "6  Branford, Connecticut      Yirgacheffe growing region, southern Ethiopia   \n",
      "\n",
      "          roast         est_price    review_date agtron  ...  \\\n",
      "2  Medium-Light  $16.00/12 ounces  November 2017  54/70  ...   \n",
      "3  Medium-Light  $19.00/16 ounces  November 2017  53/79  ...   \n",
      "4        Medium  $16.50/12 ounces  November 2017  48/70  ...   \n",
      "5         Light  $17.49/12 ounces  November 2017  66/92  ...   \n",
      "6  Medium-Light  $17.99/16 ounces  November 2017  54/75  ...   \n",
      "\n",
      "                                              desc_3  location_country  \\\n",
      "2  A gently spice-toned, floral- driven wet-proce...     United States   \n",
      "3  Lavender-like flowers and hints of zesty pink ...     United States   \n",
      "4  A deeply and generously lush cup saved from se...     United States   \n",
      "5  A lively and crisply sweet, fruit-forward natu...     United States   \n",
      "6  A deeply sweet natural-processed Ethiopia cup,...     United States   \n",
      "\n",
      "   origin_country  currency  price weight weight_measurement_unit  \\\n",
      "2        Ethiopia       USD  16.00   12.0                  ounces   \n",
      "3        Ethiopia       USD  19.00   16.0                  ounces   \n",
      "4        Ethiopia       USD  16.50   12.0                  ounces   \n",
      "5        Ethiopia       USD  17.49   12.0                  ounces   \n",
      "6        Ethiopia       USD  17.99   16.0                  ounces   \n",
      "\n",
      "  weight_in_grams price_in_usd price_per_100g  \n",
      "2         340.194        16.00       4.703199  \n",
      "3         453.592        19.00       4.188786  \n",
      "4         340.194        16.50       4.850174  \n",
      "5         340.194        17.49       5.141184  \n",
      "6         453.592        17.99       3.966119  \n",
      "\n",
      "[5 rows x 27 columns]\n",
      "--------------------\n"
     ]
    }
   ],
   "source": [
    "conversion_rates = {\n",
    "    'USD': 1,\n",
    "    'CAD': 0.75,\n",
    "    'NT': 0.032,\n",
    "    'HKD': 0.13,\n",
    "    'AUD': 0.65,\n",
    "    'KRW': 0.00075,\n",
    "    'AED': 0.27,\n",
    "    'NTD': 0.032,\n",
    "    'IDR': 0.000065,\n",
    "    'US': 1,\n",
    "    '¥': 0.0068\n",
    "}\n",
    "\n",
    "# Function to convert weights to grams\n",
    "def convert_weight_to_grams(row):\n",
    "    weight = row['weight']\n",
    "    unit = row['weight_measurement_unit']\n",
    "    if unit == 'ounces':\n",
    "        return weight * 28.3495\n",
    "    elif unit == 'pounds':\n",
    "        return weight * 453.592\n",
    "    return weight\n",
    "\n",
    "# Function to convert prices to USD\n",
    "def convert_price_to_usd(row):\n",
    "    price = row['price']\n",
    "    currency = row['currency']\n",
    "    \n",
    "    conversion_rate = conversion_rates.get(currency, 1) \n",
    "    return price * conversion_rate\n",
    "\n",
    "def normalize_price_per_100g(row):\n",
    "    weight_in_grams = row['weight_in_grams']\n",
    "    price_in_usd = row['price_in_usd']\n",
    "    \n",
    "    if weight_in_grams > 0:\n",
    "        return (price_in_usd / weight_in_grams) * 100\n",
    "    return None\n",
    "\n",
    "\n",
    "coffee_raw_df['weight_in_grams'] = coffee_raw_df.apply(convert_weight_to_grams, axis=1)\n",
    "coffee_raw_df['price_in_usd'] = coffee_raw_df.apply(convert_price_to_usd, axis=1)\n",
    "coffee_raw_df['price_per_100g'] = coffee_raw_df.apply(normalize_price_per_100g, axis=1)\n",
    "coffee_raw_df.dropna(inplace=True)\n",
    "printDataFrameInfo(coffee_raw_df)"
   ]
  },
  {
   "cell_type": "code",
   "execution_count": 18,
   "metadata": {},
   "outputs": [
    {
     "name": "stdout",
     "output_type": "stream",
     "text": [
      "--------------------\n",
      "<class 'pandas.core.frame.DataFrame'>\n",
      "Index: 1864 entries, 2 to 2280\n",
      "Data columns (total 18 columns):\n",
      " #   Column            Non-Null Count  Dtype   \n",
      "---  ------            --------------  -----   \n",
      " 0   slug              1864 non-null   object  \n",
      " 1   rating            1864 non-null   int64   \n",
      " 2   roaster           1864 non-null   object  \n",
      " 3   name              1864 non-null   object  \n",
      " 4   roast             1864 non-null   category\n",
      " 5   review_date       1864 non-null   object  \n",
      " 6   agtron            1864 non-null   object  \n",
      " 7   aroma             1864 non-null   int64   \n",
      " 8   acid              1864 non-null   int64   \n",
      " 9   body              1864 non-null   int64   \n",
      " 10  flavor            1864 non-null   int64   \n",
      " 11  aftertaste        1864 non-null   int64   \n",
      " 12  desc_1            1864 non-null   object  \n",
      " 13  desc_2            1864 non-null   object  \n",
      " 14  desc_3            1864 non-null   object  \n",
      " 15  location_country  1864 non-null   object  \n",
      " 16  origin_country    1864 non-null   object  \n",
      " 17  price_per_100g    1864 non-null   float64 \n",
      "dtypes: category(1), float64(1), int64(6), object(10)\n",
      "memory usage: 264.2+ KB\n",
      "--------------------\n",
      "--------------------\n",
      "                                                slug  rating  \\\n",
      "2  https://www.coffeereview.com/review/ethiopia-s...      92   \n",
      "3  https://www.coffeereview.com/review/ethiopia-s...      92   \n",
      "4  https://www.coffeereview.com/review/ethiopia-g...      94   \n",
      "5  https://www.coffeereview.com/review/ethiopia-k...      93   \n",
      "6  https://www.coffeereview.com/review/ethiopia-g...      93   \n",
      "\n",
      "                      roaster                              name         roast  \\\n",
      "2                Revel Coffee          Ethiopia Shakiso Mormora  Medium-Light   \n",
      "3                 Roast House                Ethiopia Suke Quto  Medium-Light   \n",
      "4   Big Creek Coffee Roasters        Ethiopia Gedeb Halo Beriti        Medium   \n",
      "5  Red Rooster Coffee Roaster           Ethiopia Kayon Mountain         Light   \n",
      "6   Willoughby's Coffee & Tea  Ethiopia Gelgelu Natural Organic  Medium-Light   \n",
      "\n",
      "     review_date agtron  aroma  acid  body  flavor  aftertaste  \\\n",
      "2  November 2017  54/70      9     8     8       9           8   \n",
      "3  November 2017  53/79      8     8     9       9           8   \n",
      "4  November 2017  48/70      9     9     9       9           8   \n",
      "5  November 2017  66/92      9     8     9       9           8   \n",
      "6  November 2017  54/75      9     8     9       9           8   \n",
      "\n",
      "                                              desc_1  \\\n",
      "2  Crisply sweet, cocoa-toned. Lemon blossom, roa...   \n",
      "3  Delicate, sweetly spice-toned. Pink peppercorn...   \n",
      "4  Deeply sweet, subtly pungent. Honey, pear, tan...   \n",
      "5  Delicate, richly and sweetly tart. Dried hibis...   \n",
      "6  High-toned, floral. Dried apricot, magnolia, a...   \n",
      "\n",
      "                                              desc_2  \\\n",
      "2  This coffee tied for the third-highest rating ...   \n",
      "3  This coffee tied for the third-highest rating ...   \n",
      "4  Southern Ethiopia coffees like this one are pr...   \n",
      "5  This coffee tied for the second-highest rating...   \n",
      "6  This coffee tied for the second-highest rating...   \n",
      "\n",
      "                                              desc_3 location_country  \\\n",
      "2  A gently spice-toned, floral- driven wet-proce...    United States   \n",
      "3  Lavender-like flowers and hints of zesty pink ...    United States   \n",
      "4  A deeply and generously lush cup saved from se...    United States   \n",
      "5  A lively and crisply sweet, fruit-forward natu...    United States   \n",
      "6  A deeply sweet natural-processed Ethiopia cup,...    United States   \n",
      "\n",
      "  origin_country  price_per_100g  \n",
      "2       Ethiopia        4.703199  \n",
      "3       Ethiopia        4.188786  \n",
      "4       Ethiopia        4.850174  \n",
      "5       Ethiopia        5.141184  \n",
      "6       Ethiopia        3.966119  \n",
      "--------------------\n"
     ]
    }
   ],
   "source": [
    "coffee_raw_df.drop(columns=['location', 'origin', 'price_in_usd', 'weight_in_grams', 'weight_measurement_unit', 'weight', 'price', 'currency', 'est_price'], inplace=True)\n",
    "printDataFrameInfo(coffee_raw_df)"
   ]
  },
  {
   "cell_type": "code",
   "execution_count": 19,
   "metadata": {},
   "outputs": [],
   "source": [
    "coffee_raw_df.to_csv('data/clean_coffee_data.csv', index=False)"
   ]
  },
  {
   "cell_type": "markdown",
   "metadata": {},
   "source": [
    "## Testando Algumas Visualizações"
   ]
  },
  {
   "cell_type": "code",
   "execution_count": 21,
   "metadata": {},
   "outputs": [
    {
     "data": {
      "application/vnd.plotly.v1+json": {
       "config": {
        "plotlyServerURL": "https://plot.ly"
       },
       "data": [
        {
         "hovertemplate": "r=%{r}<br>theta=%{theta}<extra></extra>",
         "legendgroup": "",
         "line": {
          "color": "#636efa",
          "dash": "solid"
         },
         "marker": {
          "symbol": "circle"
         },
         "mode": "lines",
         "name": "",
         "r": [
          9,
          9,
          9,
          9,
          8,
          9
         ],
         "showlegend": false,
         "subplot": "polar",
         "theta": [
          "aroma",
          "acid",
          "body",
          "flavor",
          "aftertaste",
          "aroma"
         ],
         "type": "scatterpolar"
        }
       ],
       "layout": {
        "legend": {
         "tracegroupgap": 0
        },
        "polar": {
         "angularaxis": {
          "direction": "clockwise",
          "rotation": 90
         },
         "domain": {
          "x": [
           0,
           1
          ],
          "y": [
           0,
           1
          ]
         }
        },
        "template": {
         "data": {
          "bar": [
           {
            "error_x": {
             "color": "#2a3f5f"
            },
            "error_y": {
             "color": "#2a3f5f"
            },
            "marker": {
             "line": {
              "color": "#E5ECF6",
              "width": 0.5
             },
             "pattern": {
              "fillmode": "overlay",
              "size": 10,
              "solidity": 0.2
             }
            },
            "type": "bar"
           }
          ],
          "barpolar": [
           {
            "marker": {
             "line": {
              "color": "#E5ECF6",
              "width": 0.5
             },
             "pattern": {
              "fillmode": "overlay",
              "size": 10,
              "solidity": 0.2
             }
            },
            "type": "barpolar"
           }
          ],
          "carpet": [
           {
            "aaxis": {
             "endlinecolor": "#2a3f5f",
             "gridcolor": "white",
             "linecolor": "white",
             "minorgridcolor": "white",
             "startlinecolor": "#2a3f5f"
            },
            "baxis": {
             "endlinecolor": "#2a3f5f",
             "gridcolor": "white",
             "linecolor": "white",
             "minorgridcolor": "white",
             "startlinecolor": "#2a3f5f"
            },
            "type": "carpet"
           }
          ],
          "choropleth": [
           {
            "colorbar": {
             "outlinewidth": 0,
             "ticks": ""
            },
            "type": "choropleth"
           }
          ],
          "contour": [
           {
            "colorbar": {
             "outlinewidth": 0,
             "ticks": ""
            },
            "colorscale": [
             [
              0,
              "#0d0887"
             ],
             [
              0.1111111111111111,
              "#46039f"
             ],
             [
              0.2222222222222222,
              "#7201a8"
             ],
             [
              0.3333333333333333,
              "#9c179e"
             ],
             [
              0.4444444444444444,
              "#bd3786"
             ],
             [
              0.5555555555555556,
              "#d8576b"
             ],
             [
              0.6666666666666666,
              "#ed7953"
             ],
             [
              0.7777777777777778,
              "#fb9f3a"
             ],
             [
              0.8888888888888888,
              "#fdca26"
             ],
             [
              1,
              "#f0f921"
             ]
            ],
            "type": "contour"
           }
          ],
          "contourcarpet": [
           {
            "colorbar": {
             "outlinewidth": 0,
             "ticks": ""
            },
            "type": "contourcarpet"
           }
          ],
          "heatmap": [
           {
            "colorbar": {
             "outlinewidth": 0,
             "ticks": ""
            },
            "colorscale": [
             [
              0,
              "#0d0887"
             ],
             [
              0.1111111111111111,
              "#46039f"
             ],
             [
              0.2222222222222222,
              "#7201a8"
             ],
             [
              0.3333333333333333,
              "#9c179e"
             ],
             [
              0.4444444444444444,
              "#bd3786"
             ],
             [
              0.5555555555555556,
              "#d8576b"
             ],
             [
              0.6666666666666666,
              "#ed7953"
             ],
             [
              0.7777777777777778,
              "#fb9f3a"
             ],
             [
              0.8888888888888888,
              "#fdca26"
             ],
             [
              1,
              "#f0f921"
             ]
            ],
            "type": "heatmap"
           }
          ],
          "heatmapgl": [
           {
            "colorbar": {
             "outlinewidth": 0,
             "ticks": ""
            },
            "colorscale": [
             [
              0,
              "#0d0887"
             ],
             [
              0.1111111111111111,
              "#46039f"
             ],
             [
              0.2222222222222222,
              "#7201a8"
             ],
             [
              0.3333333333333333,
              "#9c179e"
             ],
             [
              0.4444444444444444,
              "#bd3786"
             ],
             [
              0.5555555555555556,
              "#d8576b"
             ],
             [
              0.6666666666666666,
              "#ed7953"
             ],
             [
              0.7777777777777778,
              "#fb9f3a"
             ],
             [
              0.8888888888888888,
              "#fdca26"
             ],
             [
              1,
              "#f0f921"
             ]
            ],
            "type": "heatmapgl"
           }
          ],
          "histogram": [
           {
            "marker": {
             "pattern": {
              "fillmode": "overlay",
              "size": 10,
              "solidity": 0.2
             }
            },
            "type": "histogram"
           }
          ],
          "histogram2d": [
           {
            "colorbar": {
             "outlinewidth": 0,
             "ticks": ""
            },
            "colorscale": [
             [
              0,
              "#0d0887"
             ],
             [
              0.1111111111111111,
              "#46039f"
             ],
             [
              0.2222222222222222,
              "#7201a8"
             ],
             [
              0.3333333333333333,
              "#9c179e"
             ],
             [
              0.4444444444444444,
              "#bd3786"
             ],
             [
              0.5555555555555556,
              "#d8576b"
             ],
             [
              0.6666666666666666,
              "#ed7953"
             ],
             [
              0.7777777777777778,
              "#fb9f3a"
             ],
             [
              0.8888888888888888,
              "#fdca26"
             ],
             [
              1,
              "#f0f921"
             ]
            ],
            "type": "histogram2d"
           }
          ],
          "histogram2dcontour": [
           {
            "colorbar": {
             "outlinewidth": 0,
             "ticks": ""
            },
            "colorscale": [
             [
              0,
              "#0d0887"
             ],
             [
              0.1111111111111111,
              "#46039f"
             ],
             [
              0.2222222222222222,
              "#7201a8"
             ],
             [
              0.3333333333333333,
              "#9c179e"
             ],
             [
              0.4444444444444444,
              "#bd3786"
             ],
             [
              0.5555555555555556,
              "#d8576b"
             ],
             [
              0.6666666666666666,
              "#ed7953"
             ],
             [
              0.7777777777777778,
              "#fb9f3a"
             ],
             [
              0.8888888888888888,
              "#fdca26"
             ],
             [
              1,
              "#f0f921"
             ]
            ],
            "type": "histogram2dcontour"
           }
          ],
          "mesh3d": [
           {
            "colorbar": {
             "outlinewidth": 0,
             "ticks": ""
            },
            "type": "mesh3d"
           }
          ],
          "parcoords": [
           {
            "line": {
             "colorbar": {
              "outlinewidth": 0,
              "ticks": ""
             }
            },
            "type": "parcoords"
           }
          ],
          "pie": [
           {
            "automargin": true,
            "type": "pie"
           }
          ],
          "scatter": [
           {
            "fillpattern": {
             "fillmode": "overlay",
             "size": 10,
             "solidity": 0.2
            },
            "type": "scatter"
           }
          ],
          "scatter3d": [
           {
            "line": {
             "colorbar": {
              "outlinewidth": 0,
              "ticks": ""
             }
            },
            "marker": {
             "colorbar": {
              "outlinewidth": 0,
              "ticks": ""
             }
            },
            "type": "scatter3d"
           }
          ],
          "scattercarpet": [
           {
            "marker": {
             "colorbar": {
              "outlinewidth": 0,
              "ticks": ""
             }
            },
            "type": "scattercarpet"
           }
          ],
          "scattergeo": [
           {
            "marker": {
             "colorbar": {
              "outlinewidth": 0,
              "ticks": ""
             }
            },
            "type": "scattergeo"
           }
          ],
          "scattergl": [
           {
            "marker": {
             "colorbar": {
              "outlinewidth": 0,
              "ticks": ""
             }
            },
            "type": "scattergl"
           }
          ],
          "scattermapbox": [
           {
            "marker": {
             "colorbar": {
              "outlinewidth": 0,
              "ticks": ""
             }
            },
            "type": "scattermapbox"
           }
          ],
          "scatterpolar": [
           {
            "marker": {
             "colorbar": {
              "outlinewidth": 0,
              "ticks": ""
             }
            },
            "type": "scatterpolar"
           }
          ],
          "scatterpolargl": [
           {
            "marker": {
             "colorbar": {
              "outlinewidth": 0,
              "ticks": ""
             }
            },
            "type": "scatterpolargl"
           }
          ],
          "scatterternary": [
           {
            "marker": {
             "colorbar": {
              "outlinewidth": 0,
              "ticks": ""
             }
            },
            "type": "scatterternary"
           }
          ],
          "surface": [
           {
            "colorbar": {
             "outlinewidth": 0,
             "ticks": ""
            },
            "colorscale": [
             [
              0,
              "#0d0887"
             ],
             [
              0.1111111111111111,
              "#46039f"
             ],
             [
              0.2222222222222222,
              "#7201a8"
             ],
             [
              0.3333333333333333,
              "#9c179e"
             ],
             [
              0.4444444444444444,
              "#bd3786"
             ],
             [
              0.5555555555555556,
              "#d8576b"
             ],
             [
              0.6666666666666666,
              "#ed7953"
             ],
             [
              0.7777777777777778,
              "#fb9f3a"
             ],
             [
              0.8888888888888888,
              "#fdca26"
             ],
             [
              1,
              "#f0f921"
             ]
            ],
            "type": "surface"
           }
          ],
          "table": [
           {
            "cells": {
             "fill": {
              "color": "#EBF0F8"
             },
             "line": {
              "color": "white"
             }
            },
            "header": {
             "fill": {
              "color": "#C8D4E3"
             },
             "line": {
              "color": "white"
             }
            },
            "type": "table"
           }
          ]
         },
         "layout": {
          "annotationdefaults": {
           "arrowcolor": "#2a3f5f",
           "arrowhead": 0,
           "arrowwidth": 1
          },
          "autotypenumbers": "strict",
          "coloraxis": {
           "colorbar": {
            "outlinewidth": 0,
            "ticks": ""
           }
          },
          "colorscale": {
           "diverging": [
            [
             0,
             "#8e0152"
            ],
            [
             0.1,
             "#c51b7d"
            ],
            [
             0.2,
             "#de77ae"
            ],
            [
             0.3,
             "#f1b6da"
            ],
            [
             0.4,
             "#fde0ef"
            ],
            [
             0.5,
             "#f7f7f7"
            ],
            [
             0.6,
             "#e6f5d0"
            ],
            [
             0.7,
             "#b8e186"
            ],
            [
             0.8,
             "#7fbc41"
            ],
            [
             0.9,
             "#4d9221"
            ],
            [
             1,
             "#276419"
            ]
           ],
           "sequential": [
            [
             0,
             "#0d0887"
            ],
            [
             0.1111111111111111,
             "#46039f"
            ],
            [
             0.2222222222222222,
             "#7201a8"
            ],
            [
             0.3333333333333333,
             "#9c179e"
            ],
            [
             0.4444444444444444,
             "#bd3786"
            ],
            [
             0.5555555555555556,
             "#d8576b"
            ],
            [
             0.6666666666666666,
             "#ed7953"
            ],
            [
             0.7777777777777778,
             "#fb9f3a"
            ],
            [
             0.8888888888888888,
             "#fdca26"
            ],
            [
             1,
             "#f0f921"
            ]
           ],
           "sequentialminus": [
            [
             0,
             "#0d0887"
            ],
            [
             0.1111111111111111,
             "#46039f"
            ],
            [
             0.2222222222222222,
             "#7201a8"
            ],
            [
             0.3333333333333333,
             "#9c179e"
            ],
            [
             0.4444444444444444,
             "#bd3786"
            ],
            [
             0.5555555555555556,
             "#d8576b"
            ],
            [
             0.6666666666666666,
             "#ed7953"
            ],
            [
             0.7777777777777778,
             "#fb9f3a"
            ],
            [
             0.8888888888888888,
             "#fdca26"
            ],
            [
             1,
             "#f0f921"
            ]
           ]
          },
          "colorway": [
           "#636efa",
           "#EF553B",
           "#00cc96",
           "#ab63fa",
           "#FFA15A",
           "#19d3f3",
           "#FF6692",
           "#B6E880",
           "#FF97FF",
           "#FECB52"
          ],
          "font": {
           "color": "#2a3f5f"
          },
          "geo": {
           "bgcolor": "white",
           "lakecolor": "white",
           "landcolor": "#E5ECF6",
           "showlakes": true,
           "showland": true,
           "subunitcolor": "white"
          },
          "hoverlabel": {
           "align": "left"
          },
          "hovermode": "closest",
          "mapbox": {
           "style": "light"
          },
          "paper_bgcolor": "white",
          "plot_bgcolor": "#E5ECF6",
          "polar": {
           "angularaxis": {
            "gridcolor": "white",
            "linecolor": "white",
            "ticks": ""
           },
           "bgcolor": "#E5ECF6",
           "radialaxis": {
            "gridcolor": "white",
            "linecolor": "white",
            "ticks": ""
           }
          },
          "scene": {
           "xaxis": {
            "backgroundcolor": "#E5ECF6",
            "gridcolor": "white",
            "gridwidth": 2,
            "linecolor": "white",
            "showbackground": true,
            "ticks": "",
            "zerolinecolor": "white"
           },
           "yaxis": {
            "backgroundcolor": "#E5ECF6",
            "gridcolor": "white",
            "gridwidth": 2,
            "linecolor": "white",
            "showbackground": true,
            "ticks": "",
            "zerolinecolor": "white"
           },
           "zaxis": {
            "backgroundcolor": "#E5ECF6",
            "gridcolor": "white",
            "gridwidth": 2,
            "linecolor": "white",
            "showbackground": true,
            "ticks": "",
            "zerolinecolor": "white"
           }
          },
          "shapedefaults": {
           "line": {
            "color": "#2a3f5f"
           }
          },
          "ternary": {
           "aaxis": {
            "gridcolor": "white",
            "linecolor": "white",
            "ticks": ""
           },
           "baxis": {
            "gridcolor": "white",
            "linecolor": "white",
            "ticks": ""
           },
           "bgcolor": "#E5ECF6",
           "caxis": {
            "gridcolor": "white",
            "linecolor": "white",
            "ticks": ""
           }
          },
          "title": {
           "x": 0.05
          },
          "xaxis": {
           "automargin": true,
           "gridcolor": "white",
           "linecolor": "white",
           "ticks": "",
           "title": {
            "standoff": 15
           },
           "zerolinecolor": "white",
           "zerolinewidth": 2
          },
          "yaxis": {
           "automargin": true,
           "gridcolor": "white",
           "linecolor": "white",
           "ticks": "",
           "title": {
            "standoff": 15
           },
           "zerolinecolor": "white",
           "zerolinewidth": 2
          }
         }
        },
        "title": {
         "text": "Gráfico de Radar - Linha 974"
        }
       }
      },
      "text/html": [
       "<div>                            <div id=\"336ca0d1-3204-4c13-90cc-331da7ae1dd1\" class=\"plotly-graph-div\" style=\"height:525px; width:100%;\"></div>            <script type=\"text/javascript\">                require([\"plotly\"], function(Plotly) {                    window.PLOTLYENV=window.PLOTLYENV || {};                                    if (document.getElementById(\"336ca0d1-3204-4c13-90cc-331da7ae1dd1\")) {                    Plotly.newPlot(                        \"336ca0d1-3204-4c13-90cc-331da7ae1dd1\",                        [{\"hovertemplate\":\"r=%{r}\\u003cbr\\u003etheta=%{theta}\\u003cextra\\u003e\\u003c\\u002fextra\\u003e\",\"legendgroup\":\"\",\"line\":{\"color\":\"#636efa\",\"dash\":\"solid\"},\"marker\":{\"symbol\":\"circle\"},\"mode\":\"lines\",\"name\":\"\",\"r\":[9,9,9,9,8,9],\"showlegend\":false,\"subplot\":\"polar\",\"theta\":[\"aroma\",\"acid\",\"body\",\"flavor\",\"aftertaste\",\"aroma\"],\"type\":\"scatterpolar\"}],                        {\"template\":{\"data\":{\"histogram2dcontour\":[{\"type\":\"histogram2dcontour\",\"colorbar\":{\"outlinewidth\":0,\"ticks\":\"\"},\"colorscale\":[[0.0,\"#0d0887\"],[0.1111111111111111,\"#46039f\"],[0.2222222222222222,\"#7201a8\"],[0.3333333333333333,\"#9c179e\"],[0.4444444444444444,\"#bd3786\"],[0.5555555555555556,\"#d8576b\"],[0.6666666666666666,\"#ed7953\"],[0.7777777777777778,\"#fb9f3a\"],[0.8888888888888888,\"#fdca26\"],[1.0,\"#f0f921\"]]}],\"choropleth\":[{\"type\":\"choropleth\",\"colorbar\":{\"outlinewidth\":0,\"ticks\":\"\"}}],\"histogram2d\":[{\"type\":\"histogram2d\",\"colorbar\":{\"outlinewidth\":0,\"ticks\":\"\"},\"colorscale\":[[0.0,\"#0d0887\"],[0.1111111111111111,\"#46039f\"],[0.2222222222222222,\"#7201a8\"],[0.3333333333333333,\"#9c179e\"],[0.4444444444444444,\"#bd3786\"],[0.5555555555555556,\"#d8576b\"],[0.6666666666666666,\"#ed7953\"],[0.7777777777777778,\"#fb9f3a\"],[0.8888888888888888,\"#fdca26\"],[1.0,\"#f0f921\"]]}],\"heatmap\":[{\"type\":\"heatmap\",\"colorbar\":{\"outlinewidth\":0,\"ticks\":\"\"},\"colorscale\":[[0.0,\"#0d0887\"],[0.1111111111111111,\"#46039f\"],[0.2222222222222222,\"#7201a8\"],[0.3333333333333333,\"#9c179e\"],[0.4444444444444444,\"#bd3786\"],[0.5555555555555556,\"#d8576b\"],[0.6666666666666666,\"#ed7953\"],[0.7777777777777778,\"#fb9f3a\"],[0.8888888888888888,\"#fdca26\"],[1.0,\"#f0f921\"]]}],\"heatmapgl\":[{\"type\":\"heatmapgl\",\"colorbar\":{\"outlinewidth\":0,\"ticks\":\"\"},\"colorscale\":[[0.0,\"#0d0887\"],[0.1111111111111111,\"#46039f\"],[0.2222222222222222,\"#7201a8\"],[0.3333333333333333,\"#9c179e\"],[0.4444444444444444,\"#bd3786\"],[0.5555555555555556,\"#d8576b\"],[0.6666666666666666,\"#ed7953\"],[0.7777777777777778,\"#fb9f3a\"],[0.8888888888888888,\"#fdca26\"],[1.0,\"#f0f921\"]]}],\"contourcarpet\":[{\"type\":\"contourcarpet\",\"colorbar\":{\"outlinewidth\":0,\"ticks\":\"\"}}],\"contour\":[{\"type\":\"contour\",\"colorbar\":{\"outlinewidth\":0,\"ticks\":\"\"},\"colorscale\":[[0.0,\"#0d0887\"],[0.1111111111111111,\"#46039f\"],[0.2222222222222222,\"#7201a8\"],[0.3333333333333333,\"#9c179e\"],[0.4444444444444444,\"#bd3786\"],[0.5555555555555556,\"#d8576b\"],[0.6666666666666666,\"#ed7953\"],[0.7777777777777778,\"#fb9f3a\"],[0.8888888888888888,\"#fdca26\"],[1.0,\"#f0f921\"]]}],\"surface\":[{\"type\":\"surface\",\"colorbar\":{\"outlinewidth\":0,\"ticks\":\"\"},\"colorscale\":[[0.0,\"#0d0887\"],[0.1111111111111111,\"#46039f\"],[0.2222222222222222,\"#7201a8\"],[0.3333333333333333,\"#9c179e\"],[0.4444444444444444,\"#bd3786\"],[0.5555555555555556,\"#d8576b\"],[0.6666666666666666,\"#ed7953\"],[0.7777777777777778,\"#fb9f3a\"],[0.8888888888888888,\"#fdca26\"],[1.0,\"#f0f921\"]]}],\"mesh3d\":[{\"type\":\"mesh3d\",\"colorbar\":{\"outlinewidth\":0,\"ticks\":\"\"}}],\"scatter\":[{\"fillpattern\":{\"fillmode\":\"overlay\",\"size\":10,\"solidity\":0.2},\"type\":\"scatter\"}],\"parcoords\":[{\"type\":\"parcoords\",\"line\":{\"colorbar\":{\"outlinewidth\":0,\"ticks\":\"\"}}}],\"scatterpolargl\":[{\"type\":\"scatterpolargl\",\"marker\":{\"colorbar\":{\"outlinewidth\":0,\"ticks\":\"\"}}}],\"bar\":[{\"error_x\":{\"color\":\"#2a3f5f\"},\"error_y\":{\"color\":\"#2a3f5f\"},\"marker\":{\"line\":{\"color\":\"#E5ECF6\",\"width\":0.5},\"pattern\":{\"fillmode\":\"overlay\",\"size\":10,\"solidity\":0.2}},\"type\":\"bar\"}],\"scattergeo\":[{\"type\":\"scattergeo\",\"marker\":{\"colorbar\":{\"outlinewidth\":0,\"ticks\":\"\"}}}],\"scatterpolar\":[{\"type\":\"scatterpolar\",\"marker\":{\"colorbar\":{\"outlinewidth\":0,\"ticks\":\"\"}}}],\"histogram\":[{\"marker\":{\"pattern\":{\"fillmode\":\"overlay\",\"size\":10,\"solidity\":0.2}},\"type\":\"histogram\"}],\"scattergl\":[{\"type\":\"scattergl\",\"marker\":{\"colorbar\":{\"outlinewidth\":0,\"ticks\":\"\"}}}],\"scatter3d\":[{\"type\":\"scatter3d\",\"line\":{\"colorbar\":{\"outlinewidth\":0,\"ticks\":\"\"}},\"marker\":{\"colorbar\":{\"outlinewidth\":0,\"ticks\":\"\"}}}],\"scattermapbox\":[{\"type\":\"scattermapbox\",\"marker\":{\"colorbar\":{\"outlinewidth\":0,\"ticks\":\"\"}}}],\"scatterternary\":[{\"type\":\"scatterternary\",\"marker\":{\"colorbar\":{\"outlinewidth\":0,\"ticks\":\"\"}}}],\"scattercarpet\":[{\"type\":\"scattercarpet\",\"marker\":{\"colorbar\":{\"outlinewidth\":0,\"ticks\":\"\"}}}],\"carpet\":[{\"aaxis\":{\"endlinecolor\":\"#2a3f5f\",\"gridcolor\":\"white\",\"linecolor\":\"white\",\"minorgridcolor\":\"white\",\"startlinecolor\":\"#2a3f5f\"},\"baxis\":{\"endlinecolor\":\"#2a3f5f\",\"gridcolor\":\"white\",\"linecolor\":\"white\",\"minorgridcolor\":\"white\",\"startlinecolor\":\"#2a3f5f\"},\"type\":\"carpet\"}],\"table\":[{\"cells\":{\"fill\":{\"color\":\"#EBF0F8\"},\"line\":{\"color\":\"white\"}},\"header\":{\"fill\":{\"color\":\"#C8D4E3\"},\"line\":{\"color\":\"white\"}},\"type\":\"table\"}],\"barpolar\":[{\"marker\":{\"line\":{\"color\":\"#E5ECF6\",\"width\":0.5},\"pattern\":{\"fillmode\":\"overlay\",\"size\":10,\"solidity\":0.2}},\"type\":\"barpolar\"}],\"pie\":[{\"automargin\":true,\"type\":\"pie\"}]},\"layout\":{\"autotypenumbers\":\"strict\",\"colorway\":[\"#636efa\",\"#EF553B\",\"#00cc96\",\"#ab63fa\",\"#FFA15A\",\"#19d3f3\",\"#FF6692\",\"#B6E880\",\"#FF97FF\",\"#FECB52\"],\"font\":{\"color\":\"#2a3f5f\"},\"hovermode\":\"closest\",\"hoverlabel\":{\"align\":\"left\"},\"paper_bgcolor\":\"white\",\"plot_bgcolor\":\"#E5ECF6\",\"polar\":{\"bgcolor\":\"#E5ECF6\",\"angularaxis\":{\"gridcolor\":\"white\",\"linecolor\":\"white\",\"ticks\":\"\"},\"radialaxis\":{\"gridcolor\":\"white\",\"linecolor\":\"white\",\"ticks\":\"\"}},\"ternary\":{\"bgcolor\":\"#E5ECF6\",\"aaxis\":{\"gridcolor\":\"white\",\"linecolor\":\"white\",\"ticks\":\"\"},\"baxis\":{\"gridcolor\":\"white\",\"linecolor\":\"white\",\"ticks\":\"\"},\"caxis\":{\"gridcolor\":\"white\",\"linecolor\":\"white\",\"ticks\":\"\"}},\"coloraxis\":{\"colorbar\":{\"outlinewidth\":0,\"ticks\":\"\"}},\"colorscale\":{\"sequential\":[[0.0,\"#0d0887\"],[0.1111111111111111,\"#46039f\"],[0.2222222222222222,\"#7201a8\"],[0.3333333333333333,\"#9c179e\"],[0.4444444444444444,\"#bd3786\"],[0.5555555555555556,\"#d8576b\"],[0.6666666666666666,\"#ed7953\"],[0.7777777777777778,\"#fb9f3a\"],[0.8888888888888888,\"#fdca26\"],[1.0,\"#f0f921\"]],\"sequentialminus\":[[0.0,\"#0d0887\"],[0.1111111111111111,\"#46039f\"],[0.2222222222222222,\"#7201a8\"],[0.3333333333333333,\"#9c179e\"],[0.4444444444444444,\"#bd3786\"],[0.5555555555555556,\"#d8576b\"],[0.6666666666666666,\"#ed7953\"],[0.7777777777777778,\"#fb9f3a\"],[0.8888888888888888,\"#fdca26\"],[1.0,\"#f0f921\"]],\"diverging\":[[0,\"#8e0152\"],[0.1,\"#c51b7d\"],[0.2,\"#de77ae\"],[0.3,\"#f1b6da\"],[0.4,\"#fde0ef\"],[0.5,\"#f7f7f7\"],[0.6,\"#e6f5d0\"],[0.7,\"#b8e186\"],[0.8,\"#7fbc41\"],[0.9,\"#4d9221\"],[1,\"#276419\"]]},\"xaxis\":{\"gridcolor\":\"white\",\"linecolor\":\"white\",\"ticks\":\"\",\"title\":{\"standoff\":15},\"zerolinecolor\":\"white\",\"automargin\":true,\"zerolinewidth\":2},\"yaxis\":{\"gridcolor\":\"white\",\"linecolor\":\"white\",\"ticks\":\"\",\"title\":{\"standoff\":15},\"zerolinecolor\":\"white\",\"automargin\":true,\"zerolinewidth\":2},\"scene\":{\"xaxis\":{\"backgroundcolor\":\"#E5ECF6\",\"gridcolor\":\"white\",\"linecolor\":\"white\",\"showbackground\":true,\"ticks\":\"\",\"zerolinecolor\":\"white\",\"gridwidth\":2},\"yaxis\":{\"backgroundcolor\":\"#E5ECF6\",\"gridcolor\":\"white\",\"linecolor\":\"white\",\"showbackground\":true,\"ticks\":\"\",\"zerolinecolor\":\"white\",\"gridwidth\":2},\"zaxis\":{\"backgroundcolor\":\"#E5ECF6\",\"gridcolor\":\"white\",\"linecolor\":\"white\",\"showbackground\":true,\"ticks\":\"\",\"zerolinecolor\":\"white\",\"gridwidth\":2}},\"shapedefaults\":{\"line\":{\"color\":\"#2a3f5f\"}},\"annotationdefaults\":{\"arrowcolor\":\"#2a3f5f\",\"arrowhead\":0,\"arrowwidth\":1},\"geo\":{\"bgcolor\":\"white\",\"landcolor\":\"#E5ECF6\",\"subunitcolor\":\"white\",\"showland\":true,\"showlakes\":true,\"lakecolor\":\"white\"},\"title\":{\"x\":0.05},\"mapbox\":{\"style\":\"light\"}}},\"polar\":{\"domain\":{\"x\":[0.0,1.0],\"y\":[0.0,1.0]},\"angularaxis\":{\"direction\":\"clockwise\",\"rotation\":90}},\"legend\":{\"tracegroupgap\":0},\"title\":{\"text\":\"Gr\\u00e1fico de Radar - Linha 974\"}},                        {\"responsive\": true}                    ).then(function(){\n",
       "                            \n",
       "var gd = document.getElementById('336ca0d1-3204-4c13-90cc-331da7ae1dd1');\n",
       "var x = new MutationObserver(function (mutations, observer) {{\n",
       "        var display = window.getComputedStyle(gd).display;\n",
       "        if (!display || display === 'none') {{\n",
       "            console.log([gd, 'removed!']);\n",
       "            Plotly.purge(gd);\n",
       "            observer.disconnect();\n",
       "        }}\n",
       "}});\n",
       "\n",
       "// Listen for the removal of the full notebook cells\n",
       "var notebookContainer = gd.closest('#notebook-container');\n",
       "if (notebookContainer) {{\n",
       "    x.observe(notebookContainer, {childList: true});\n",
       "}}\n",
       "\n",
       "// Listen for the clearing of the current output cell\n",
       "var outputEl = gd.closest('.output');\n",
       "if (outputEl) {{\n",
       "    x.observe(outputEl, {childList: true});\n",
       "}}\n",
       "\n",
       "                        })                };                });            </script>        </div>"
      ]
     },
     "metadata": {},
     "output_type": "display_data"
    },
    {
     "data": {
      "application/vnd.plotly.v1+json": {
       "config": {
        "plotlyServerURL": "https://plot.ly"
       },
       "data": [
        {
         "hovertemplate": "r=%{r}<br>theta=%{theta}<extra></extra>",
         "legendgroup": "",
         "line": {
          "color": "#636efa",
          "dash": "solid"
         },
         "marker": {
          "symbol": "circle"
         },
         "mode": "lines",
         "name": "",
         "r": [
          8,
          8,
          8,
          9,
          7,
          8
         ],
         "showlegend": false,
         "subplot": "polar",
         "theta": [
          "aroma",
          "acid",
          "body",
          "flavor",
          "aftertaste",
          "aroma"
         ],
         "type": "scatterpolar"
        }
       ],
       "layout": {
        "legend": {
         "tracegroupgap": 0
        },
        "polar": {
         "angularaxis": {
          "direction": "clockwise",
          "rotation": 90
         },
         "domain": {
          "x": [
           0,
           1
          ],
          "y": [
           0,
           1
          ]
         }
        },
        "template": {
         "data": {
          "bar": [
           {
            "error_x": {
             "color": "#2a3f5f"
            },
            "error_y": {
             "color": "#2a3f5f"
            },
            "marker": {
             "line": {
              "color": "#E5ECF6",
              "width": 0.5
             },
             "pattern": {
              "fillmode": "overlay",
              "size": 10,
              "solidity": 0.2
             }
            },
            "type": "bar"
           }
          ],
          "barpolar": [
           {
            "marker": {
             "line": {
              "color": "#E5ECF6",
              "width": 0.5
             },
             "pattern": {
              "fillmode": "overlay",
              "size": 10,
              "solidity": 0.2
             }
            },
            "type": "barpolar"
           }
          ],
          "carpet": [
           {
            "aaxis": {
             "endlinecolor": "#2a3f5f",
             "gridcolor": "white",
             "linecolor": "white",
             "minorgridcolor": "white",
             "startlinecolor": "#2a3f5f"
            },
            "baxis": {
             "endlinecolor": "#2a3f5f",
             "gridcolor": "white",
             "linecolor": "white",
             "minorgridcolor": "white",
             "startlinecolor": "#2a3f5f"
            },
            "type": "carpet"
           }
          ],
          "choropleth": [
           {
            "colorbar": {
             "outlinewidth": 0,
             "ticks": ""
            },
            "type": "choropleth"
           }
          ],
          "contour": [
           {
            "colorbar": {
             "outlinewidth": 0,
             "ticks": ""
            },
            "colorscale": [
             [
              0,
              "#0d0887"
             ],
             [
              0.1111111111111111,
              "#46039f"
             ],
             [
              0.2222222222222222,
              "#7201a8"
             ],
             [
              0.3333333333333333,
              "#9c179e"
             ],
             [
              0.4444444444444444,
              "#bd3786"
             ],
             [
              0.5555555555555556,
              "#d8576b"
             ],
             [
              0.6666666666666666,
              "#ed7953"
             ],
             [
              0.7777777777777778,
              "#fb9f3a"
             ],
             [
              0.8888888888888888,
              "#fdca26"
             ],
             [
              1,
              "#f0f921"
             ]
            ],
            "type": "contour"
           }
          ],
          "contourcarpet": [
           {
            "colorbar": {
             "outlinewidth": 0,
             "ticks": ""
            },
            "type": "contourcarpet"
           }
          ],
          "heatmap": [
           {
            "colorbar": {
             "outlinewidth": 0,
             "ticks": ""
            },
            "colorscale": [
             [
              0,
              "#0d0887"
             ],
             [
              0.1111111111111111,
              "#46039f"
             ],
             [
              0.2222222222222222,
              "#7201a8"
             ],
             [
              0.3333333333333333,
              "#9c179e"
             ],
             [
              0.4444444444444444,
              "#bd3786"
             ],
             [
              0.5555555555555556,
              "#d8576b"
             ],
             [
              0.6666666666666666,
              "#ed7953"
             ],
             [
              0.7777777777777778,
              "#fb9f3a"
             ],
             [
              0.8888888888888888,
              "#fdca26"
             ],
             [
              1,
              "#f0f921"
             ]
            ],
            "type": "heatmap"
           }
          ],
          "heatmapgl": [
           {
            "colorbar": {
             "outlinewidth": 0,
             "ticks": ""
            },
            "colorscale": [
             [
              0,
              "#0d0887"
             ],
             [
              0.1111111111111111,
              "#46039f"
             ],
             [
              0.2222222222222222,
              "#7201a8"
             ],
             [
              0.3333333333333333,
              "#9c179e"
             ],
             [
              0.4444444444444444,
              "#bd3786"
             ],
             [
              0.5555555555555556,
              "#d8576b"
             ],
             [
              0.6666666666666666,
              "#ed7953"
             ],
             [
              0.7777777777777778,
              "#fb9f3a"
             ],
             [
              0.8888888888888888,
              "#fdca26"
             ],
             [
              1,
              "#f0f921"
             ]
            ],
            "type": "heatmapgl"
           }
          ],
          "histogram": [
           {
            "marker": {
             "pattern": {
              "fillmode": "overlay",
              "size": 10,
              "solidity": 0.2
             }
            },
            "type": "histogram"
           }
          ],
          "histogram2d": [
           {
            "colorbar": {
             "outlinewidth": 0,
             "ticks": ""
            },
            "colorscale": [
             [
              0,
              "#0d0887"
             ],
             [
              0.1111111111111111,
              "#46039f"
             ],
             [
              0.2222222222222222,
              "#7201a8"
             ],
             [
              0.3333333333333333,
              "#9c179e"
             ],
             [
              0.4444444444444444,
              "#bd3786"
             ],
             [
              0.5555555555555556,
              "#d8576b"
             ],
             [
              0.6666666666666666,
              "#ed7953"
             ],
             [
              0.7777777777777778,
              "#fb9f3a"
             ],
             [
              0.8888888888888888,
              "#fdca26"
             ],
             [
              1,
              "#f0f921"
             ]
            ],
            "type": "histogram2d"
           }
          ],
          "histogram2dcontour": [
           {
            "colorbar": {
             "outlinewidth": 0,
             "ticks": ""
            },
            "colorscale": [
             [
              0,
              "#0d0887"
             ],
             [
              0.1111111111111111,
              "#46039f"
             ],
             [
              0.2222222222222222,
              "#7201a8"
             ],
             [
              0.3333333333333333,
              "#9c179e"
             ],
             [
              0.4444444444444444,
              "#bd3786"
             ],
             [
              0.5555555555555556,
              "#d8576b"
             ],
             [
              0.6666666666666666,
              "#ed7953"
             ],
             [
              0.7777777777777778,
              "#fb9f3a"
             ],
             [
              0.8888888888888888,
              "#fdca26"
             ],
             [
              1,
              "#f0f921"
             ]
            ],
            "type": "histogram2dcontour"
           }
          ],
          "mesh3d": [
           {
            "colorbar": {
             "outlinewidth": 0,
             "ticks": ""
            },
            "type": "mesh3d"
           }
          ],
          "parcoords": [
           {
            "line": {
             "colorbar": {
              "outlinewidth": 0,
              "ticks": ""
             }
            },
            "type": "parcoords"
           }
          ],
          "pie": [
           {
            "automargin": true,
            "type": "pie"
           }
          ],
          "scatter": [
           {
            "fillpattern": {
             "fillmode": "overlay",
             "size": 10,
             "solidity": 0.2
            },
            "type": "scatter"
           }
          ],
          "scatter3d": [
           {
            "line": {
             "colorbar": {
              "outlinewidth": 0,
              "ticks": ""
             }
            },
            "marker": {
             "colorbar": {
              "outlinewidth": 0,
              "ticks": ""
             }
            },
            "type": "scatter3d"
           }
          ],
          "scattercarpet": [
           {
            "marker": {
             "colorbar": {
              "outlinewidth": 0,
              "ticks": ""
             }
            },
            "type": "scattercarpet"
           }
          ],
          "scattergeo": [
           {
            "marker": {
             "colorbar": {
              "outlinewidth": 0,
              "ticks": ""
             }
            },
            "type": "scattergeo"
           }
          ],
          "scattergl": [
           {
            "marker": {
             "colorbar": {
              "outlinewidth": 0,
              "ticks": ""
             }
            },
            "type": "scattergl"
           }
          ],
          "scattermapbox": [
           {
            "marker": {
             "colorbar": {
              "outlinewidth": 0,
              "ticks": ""
             }
            },
            "type": "scattermapbox"
           }
          ],
          "scatterpolar": [
           {
            "marker": {
             "colorbar": {
              "outlinewidth": 0,
              "ticks": ""
             }
            },
            "type": "scatterpolar"
           }
          ],
          "scatterpolargl": [
           {
            "marker": {
             "colorbar": {
              "outlinewidth": 0,
              "ticks": ""
             }
            },
            "type": "scatterpolargl"
           }
          ],
          "scatterternary": [
           {
            "marker": {
             "colorbar": {
              "outlinewidth": 0,
              "ticks": ""
             }
            },
            "type": "scatterternary"
           }
          ],
          "surface": [
           {
            "colorbar": {
             "outlinewidth": 0,
             "ticks": ""
            },
            "colorscale": [
             [
              0,
              "#0d0887"
             ],
             [
              0.1111111111111111,
              "#46039f"
             ],
             [
              0.2222222222222222,
              "#7201a8"
             ],
             [
              0.3333333333333333,
              "#9c179e"
             ],
             [
              0.4444444444444444,
              "#bd3786"
             ],
             [
              0.5555555555555556,
              "#d8576b"
             ],
             [
              0.6666666666666666,
              "#ed7953"
             ],
             [
              0.7777777777777778,
              "#fb9f3a"
             ],
             [
              0.8888888888888888,
              "#fdca26"
             ],
             [
              1,
              "#f0f921"
             ]
            ],
            "type": "surface"
           }
          ],
          "table": [
           {
            "cells": {
             "fill": {
              "color": "#EBF0F8"
             },
             "line": {
              "color": "white"
             }
            },
            "header": {
             "fill": {
              "color": "#C8D4E3"
             },
             "line": {
              "color": "white"
             }
            },
            "type": "table"
           }
          ]
         },
         "layout": {
          "annotationdefaults": {
           "arrowcolor": "#2a3f5f",
           "arrowhead": 0,
           "arrowwidth": 1
          },
          "autotypenumbers": "strict",
          "coloraxis": {
           "colorbar": {
            "outlinewidth": 0,
            "ticks": ""
           }
          },
          "colorscale": {
           "diverging": [
            [
             0,
             "#8e0152"
            ],
            [
             0.1,
             "#c51b7d"
            ],
            [
             0.2,
             "#de77ae"
            ],
            [
             0.3,
             "#f1b6da"
            ],
            [
             0.4,
             "#fde0ef"
            ],
            [
             0.5,
             "#f7f7f7"
            ],
            [
             0.6,
             "#e6f5d0"
            ],
            [
             0.7,
             "#b8e186"
            ],
            [
             0.8,
             "#7fbc41"
            ],
            [
             0.9,
             "#4d9221"
            ],
            [
             1,
             "#276419"
            ]
           ],
           "sequential": [
            [
             0,
             "#0d0887"
            ],
            [
             0.1111111111111111,
             "#46039f"
            ],
            [
             0.2222222222222222,
             "#7201a8"
            ],
            [
             0.3333333333333333,
             "#9c179e"
            ],
            [
             0.4444444444444444,
             "#bd3786"
            ],
            [
             0.5555555555555556,
             "#d8576b"
            ],
            [
             0.6666666666666666,
             "#ed7953"
            ],
            [
             0.7777777777777778,
             "#fb9f3a"
            ],
            [
             0.8888888888888888,
             "#fdca26"
            ],
            [
             1,
             "#f0f921"
            ]
           ],
           "sequentialminus": [
            [
             0,
             "#0d0887"
            ],
            [
             0.1111111111111111,
             "#46039f"
            ],
            [
             0.2222222222222222,
             "#7201a8"
            ],
            [
             0.3333333333333333,
             "#9c179e"
            ],
            [
             0.4444444444444444,
             "#bd3786"
            ],
            [
             0.5555555555555556,
             "#d8576b"
            ],
            [
             0.6666666666666666,
             "#ed7953"
            ],
            [
             0.7777777777777778,
             "#fb9f3a"
            ],
            [
             0.8888888888888888,
             "#fdca26"
            ],
            [
             1,
             "#f0f921"
            ]
           ]
          },
          "colorway": [
           "#636efa",
           "#EF553B",
           "#00cc96",
           "#ab63fa",
           "#FFA15A",
           "#19d3f3",
           "#FF6692",
           "#B6E880",
           "#FF97FF",
           "#FECB52"
          ],
          "font": {
           "color": "#2a3f5f"
          },
          "geo": {
           "bgcolor": "white",
           "lakecolor": "white",
           "landcolor": "#E5ECF6",
           "showlakes": true,
           "showland": true,
           "subunitcolor": "white"
          },
          "hoverlabel": {
           "align": "left"
          },
          "hovermode": "closest",
          "mapbox": {
           "style": "light"
          },
          "paper_bgcolor": "white",
          "plot_bgcolor": "#E5ECF6",
          "polar": {
           "angularaxis": {
            "gridcolor": "white",
            "linecolor": "white",
            "ticks": ""
           },
           "bgcolor": "#E5ECF6",
           "radialaxis": {
            "gridcolor": "white",
            "linecolor": "white",
            "ticks": ""
           }
          },
          "scene": {
           "xaxis": {
            "backgroundcolor": "#E5ECF6",
            "gridcolor": "white",
            "gridwidth": 2,
            "linecolor": "white",
            "showbackground": true,
            "ticks": "",
            "zerolinecolor": "white"
           },
           "yaxis": {
            "backgroundcolor": "#E5ECF6",
            "gridcolor": "white",
            "gridwidth": 2,
            "linecolor": "white",
            "showbackground": true,
            "ticks": "",
            "zerolinecolor": "white"
           },
           "zaxis": {
            "backgroundcolor": "#E5ECF6",
            "gridcolor": "white",
            "gridwidth": 2,
            "linecolor": "white",
            "showbackground": true,
            "ticks": "",
            "zerolinecolor": "white"
           }
          },
          "shapedefaults": {
           "line": {
            "color": "#2a3f5f"
           }
          },
          "ternary": {
           "aaxis": {
            "gridcolor": "white",
            "linecolor": "white",
            "ticks": ""
           },
           "baxis": {
            "gridcolor": "white",
            "linecolor": "white",
            "ticks": ""
           },
           "bgcolor": "#E5ECF6",
           "caxis": {
            "gridcolor": "white",
            "linecolor": "white",
            "ticks": ""
           }
          },
          "title": {
           "x": 0.05
          },
          "xaxis": {
           "automargin": true,
           "gridcolor": "white",
           "linecolor": "white",
           "ticks": "",
           "title": {
            "standoff": 15
           },
           "zerolinecolor": "white",
           "zerolinewidth": 2
          },
          "yaxis": {
           "automargin": true,
           "gridcolor": "white",
           "linecolor": "white",
           "ticks": "",
           "title": {
            "standoff": 15
           },
           "zerolinecolor": "white",
           "zerolinewidth": 2
          }
         }
        },
        "title": {
         "text": "Gráfico de Radar - Linha 533"
        }
       }
      },
      "text/html": [
       "<div>                            <div id=\"6082a3d5-311f-434f-a1c6-fd38b810d360\" class=\"plotly-graph-div\" style=\"height:525px; width:100%;\"></div>            <script type=\"text/javascript\">                require([\"plotly\"], function(Plotly) {                    window.PLOTLYENV=window.PLOTLYENV || {};                                    if (document.getElementById(\"6082a3d5-311f-434f-a1c6-fd38b810d360\")) {                    Plotly.newPlot(                        \"6082a3d5-311f-434f-a1c6-fd38b810d360\",                        [{\"hovertemplate\":\"r=%{r}\\u003cbr\\u003etheta=%{theta}\\u003cextra\\u003e\\u003c\\u002fextra\\u003e\",\"legendgroup\":\"\",\"line\":{\"color\":\"#636efa\",\"dash\":\"solid\"},\"marker\":{\"symbol\":\"circle\"},\"mode\":\"lines\",\"name\":\"\",\"r\":[8,8,8,9,7,8],\"showlegend\":false,\"subplot\":\"polar\",\"theta\":[\"aroma\",\"acid\",\"body\",\"flavor\",\"aftertaste\",\"aroma\"],\"type\":\"scatterpolar\"}],                        {\"template\":{\"data\":{\"histogram2dcontour\":[{\"type\":\"histogram2dcontour\",\"colorbar\":{\"outlinewidth\":0,\"ticks\":\"\"},\"colorscale\":[[0.0,\"#0d0887\"],[0.1111111111111111,\"#46039f\"],[0.2222222222222222,\"#7201a8\"],[0.3333333333333333,\"#9c179e\"],[0.4444444444444444,\"#bd3786\"],[0.5555555555555556,\"#d8576b\"],[0.6666666666666666,\"#ed7953\"],[0.7777777777777778,\"#fb9f3a\"],[0.8888888888888888,\"#fdca26\"],[1.0,\"#f0f921\"]]}],\"choropleth\":[{\"type\":\"choropleth\",\"colorbar\":{\"outlinewidth\":0,\"ticks\":\"\"}}],\"histogram2d\":[{\"type\":\"histogram2d\",\"colorbar\":{\"outlinewidth\":0,\"ticks\":\"\"},\"colorscale\":[[0.0,\"#0d0887\"],[0.1111111111111111,\"#46039f\"],[0.2222222222222222,\"#7201a8\"],[0.3333333333333333,\"#9c179e\"],[0.4444444444444444,\"#bd3786\"],[0.5555555555555556,\"#d8576b\"],[0.6666666666666666,\"#ed7953\"],[0.7777777777777778,\"#fb9f3a\"],[0.8888888888888888,\"#fdca26\"],[1.0,\"#f0f921\"]]}],\"heatmap\":[{\"type\":\"heatmap\",\"colorbar\":{\"outlinewidth\":0,\"ticks\":\"\"},\"colorscale\":[[0.0,\"#0d0887\"],[0.1111111111111111,\"#46039f\"],[0.2222222222222222,\"#7201a8\"],[0.3333333333333333,\"#9c179e\"],[0.4444444444444444,\"#bd3786\"],[0.5555555555555556,\"#d8576b\"],[0.6666666666666666,\"#ed7953\"],[0.7777777777777778,\"#fb9f3a\"],[0.8888888888888888,\"#fdca26\"],[1.0,\"#f0f921\"]]}],\"heatmapgl\":[{\"type\":\"heatmapgl\",\"colorbar\":{\"outlinewidth\":0,\"ticks\":\"\"},\"colorscale\":[[0.0,\"#0d0887\"],[0.1111111111111111,\"#46039f\"],[0.2222222222222222,\"#7201a8\"],[0.3333333333333333,\"#9c179e\"],[0.4444444444444444,\"#bd3786\"],[0.5555555555555556,\"#d8576b\"],[0.6666666666666666,\"#ed7953\"],[0.7777777777777778,\"#fb9f3a\"],[0.8888888888888888,\"#fdca26\"],[1.0,\"#f0f921\"]]}],\"contourcarpet\":[{\"type\":\"contourcarpet\",\"colorbar\":{\"outlinewidth\":0,\"ticks\":\"\"}}],\"contour\":[{\"type\":\"contour\",\"colorbar\":{\"outlinewidth\":0,\"ticks\":\"\"},\"colorscale\":[[0.0,\"#0d0887\"],[0.1111111111111111,\"#46039f\"],[0.2222222222222222,\"#7201a8\"],[0.3333333333333333,\"#9c179e\"],[0.4444444444444444,\"#bd3786\"],[0.5555555555555556,\"#d8576b\"],[0.6666666666666666,\"#ed7953\"],[0.7777777777777778,\"#fb9f3a\"],[0.8888888888888888,\"#fdca26\"],[1.0,\"#f0f921\"]]}],\"surface\":[{\"type\":\"surface\",\"colorbar\":{\"outlinewidth\":0,\"ticks\":\"\"},\"colorscale\":[[0.0,\"#0d0887\"],[0.1111111111111111,\"#46039f\"],[0.2222222222222222,\"#7201a8\"],[0.3333333333333333,\"#9c179e\"],[0.4444444444444444,\"#bd3786\"],[0.5555555555555556,\"#d8576b\"],[0.6666666666666666,\"#ed7953\"],[0.7777777777777778,\"#fb9f3a\"],[0.8888888888888888,\"#fdca26\"],[1.0,\"#f0f921\"]]}],\"mesh3d\":[{\"type\":\"mesh3d\",\"colorbar\":{\"outlinewidth\":0,\"ticks\":\"\"}}],\"scatter\":[{\"fillpattern\":{\"fillmode\":\"overlay\",\"size\":10,\"solidity\":0.2},\"type\":\"scatter\"}],\"parcoords\":[{\"type\":\"parcoords\",\"line\":{\"colorbar\":{\"outlinewidth\":0,\"ticks\":\"\"}}}],\"scatterpolargl\":[{\"type\":\"scatterpolargl\",\"marker\":{\"colorbar\":{\"outlinewidth\":0,\"ticks\":\"\"}}}],\"bar\":[{\"error_x\":{\"color\":\"#2a3f5f\"},\"error_y\":{\"color\":\"#2a3f5f\"},\"marker\":{\"line\":{\"color\":\"#E5ECF6\",\"width\":0.5},\"pattern\":{\"fillmode\":\"overlay\",\"size\":10,\"solidity\":0.2}},\"type\":\"bar\"}],\"scattergeo\":[{\"type\":\"scattergeo\",\"marker\":{\"colorbar\":{\"outlinewidth\":0,\"ticks\":\"\"}}}],\"scatterpolar\":[{\"type\":\"scatterpolar\",\"marker\":{\"colorbar\":{\"outlinewidth\":0,\"ticks\":\"\"}}}],\"histogram\":[{\"marker\":{\"pattern\":{\"fillmode\":\"overlay\",\"size\":10,\"solidity\":0.2}},\"type\":\"histogram\"}],\"scattergl\":[{\"type\":\"scattergl\",\"marker\":{\"colorbar\":{\"outlinewidth\":0,\"ticks\":\"\"}}}],\"scatter3d\":[{\"type\":\"scatter3d\",\"line\":{\"colorbar\":{\"outlinewidth\":0,\"ticks\":\"\"}},\"marker\":{\"colorbar\":{\"outlinewidth\":0,\"ticks\":\"\"}}}],\"scattermapbox\":[{\"type\":\"scattermapbox\",\"marker\":{\"colorbar\":{\"outlinewidth\":0,\"ticks\":\"\"}}}],\"scatterternary\":[{\"type\":\"scatterternary\",\"marker\":{\"colorbar\":{\"outlinewidth\":0,\"ticks\":\"\"}}}],\"scattercarpet\":[{\"type\":\"scattercarpet\",\"marker\":{\"colorbar\":{\"outlinewidth\":0,\"ticks\":\"\"}}}],\"carpet\":[{\"aaxis\":{\"endlinecolor\":\"#2a3f5f\",\"gridcolor\":\"white\",\"linecolor\":\"white\",\"minorgridcolor\":\"white\",\"startlinecolor\":\"#2a3f5f\"},\"baxis\":{\"endlinecolor\":\"#2a3f5f\",\"gridcolor\":\"white\",\"linecolor\":\"white\",\"minorgridcolor\":\"white\",\"startlinecolor\":\"#2a3f5f\"},\"type\":\"carpet\"}],\"table\":[{\"cells\":{\"fill\":{\"color\":\"#EBF0F8\"},\"line\":{\"color\":\"white\"}},\"header\":{\"fill\":{\"color\":\"#C8D4E3\"},\"line\":{\"color\":\"white\"}},\"type\":\"table\"}],\"barpolar\":[{\"marker\":{\"line\":{\"color\":\"#E5ECF6\",\"width\":0.5},\"pattern\":{\"fillmode\":\"overlay\",\"size\":10,\"solidity\":0.2}},\"type\":\"barpolar\"}],\"pie\":[{\"automargin\":true,\"type\":\"pie\"}]},\"layout\":{\"autotypenumbers\":\"strict\",\"colorway\":[\"#636efa\",\"#EF553B\",\"#00cc96\",\"#ab63fa\",\"#FFA15A\",\"#19d3f3\",\"#FF6692\",\"#B6E880\",\"#FF97FF\",\"#FECB52\"],\"font\":{\"color\":\"#2a3f5f\"},\"hovermode\":\"closest\",\"hoverlabel\":{\"align\":\"left\"},\"paper_bgcolor\":\"white\",\"plot_bgcolor\":\"#E5ECF6\",\"polar\":{\"bgcolor\":\"#E5ECF6\",\"angularaxis\":{\"gridcolor\":\"white\",\"linecolor\":\"white\",\"ticks\":\"\"},\"radialaxis\":{\"gridcolor\":\"white\",\"linecolor\":\"white\",\"ticks\":\"\"}},\"ternary\":{\"bgcolor\":\"#E5ECF6\",\"aaxis\":{\"gridcolor\":\"white\",\"linecolor\":\"white\",\"ticks\":\"\"},\"baxis\":{\"gridcolor\":\"white\",\"linecolor\":\"white\",\"ticks\":\"\"},\"caxis\":{\"gridcolor\":\"white\",\"linecolor\":\"white\",\"ticks\":\"\"}},\"coloraxis\":{\"colorbar\":{\"outlinewidth\":0,\"ticks\":\"\"}},\"colorscale\":{\"sequential\":[[0.0,\"#0d0887\"],[0.1111111111111111,\"#46039f\"],[0.2222222222222222,\"#7201a8\"],[0.3333333333333333,\"#9c179e\"],[0.4444444444444444,\"#bd3786\"],[0.5555555555555556,\"#d8576b\"],[0.6666666666666666,\"#ed7953\"],[0.7777777777777778,\"#fb9f3a\"],[0.8888888888888888,\"#fdca26\"],[1.0,\"#f0f921\"]],\"sequentialminus\":[[0.0,\"#0d0887\"],[0.1111111111111111,\"#46039f\"],[0.2222222222222222,\"#7201a8\"],[0.3333333333333333,\"#9c179e\"],[0.4444444444444444,\"#bd3786\"],[0.5555555555555556,\"#d8576b\"],[0.6666666666666666,\"#ed7953\"],[0.7777777777777778,\"#fb9f3a\"],[0.8888888888888888,\"#fdca26\"],[1.0,\"#f0f921\"]],\"diverging\":[[0,\"#8e0152\"],[0.1,\"#c51b7d\"],[0.2,\"#de77ae\"],[0.3,\"#f1b6da\"],[0.4,\"#fde0ef\"],[0.5,\"#f7f7f7\"],[0.6,\"#e6f5d0\"],[0.7,\"#b8e186\"],[0.8,\"#7fbc41\"],[0.9,\"#4d9221\"],[1,\"#276419\"]]},\"xaxis\":{\"gridcolor\":\"white\",\"linecolor\":\"white\",\"ticks\":\"\",\"title\":{\"standoff\":15},\"zerolinecolor\":\"white\",\"automargin\":true,\"zerolinewidth\":2},\"yaxis\":{\"gridcolor\":\"white\",\"linecolor\":\"white\",\"ticks\":\"\",\"title\":{\"standoff\":15},\"zerolinecolor\":\"white\",\"automargin\":true,\"zerolinewidth\":2},\"scene\":{\"xaxis\":{\"backgroundcolor\":\"#E5ECF6\",\"gridcolor\":\"white\",\"linecolor\":\"white\",\"showbackground\":true,\"ticks\":\"\",\"zerolinecolor\":\"white\",\"gridwidth\":2},\"yaxis\":{\"backgroundcolor\":\"#E5ECF6\",\"gridcolor\":\"white\",\"linecolor\":\"white\",\"showbackground\":true,\"ticks\":\"\",\"zerolinecolor\":\"white\",\"gridwidth\":2},\"zaxis\":{\"backgroundcolor\":\"#E5ECF6\",\"gridcolor\":\"white\",\"linecolor\":\"white\",\"showbackground\":true,\"ticks\":\"\",\"zerolinecolor\":\"white\",\"gridwidth\":2}},\"shapedefaults\":{\"line\":{\"color\":\"#2a3f5f\"}},\"annotationdefaults\":{\"arrowcolor\":\"#2a3f5f\",\"arrowhead\":0,\"arrowwidth\":1},\"geo\":{\"bgcolor\":\"white\",\"landcolor\":\"#E5ECF6\",\"subunitcolor\":\"white\",\"showland\":true,\"showlakes\":true,\"lakecolor\":\"white\"},\"title\":{\"x\":0.05},\"mapbox\":{\"style\":\"light\"}}},\"polar\":{\"domain\":{\"x\":[0.0,1.0],\"y\":[0.0,1.0]},\"angularaxis\":{\"direction\":\"clockwise\",\"rotation\":90}},\"legend\":{\"tracegroupgap\":0},\"title\":{\"text\":\"Gr\\u00e1fico de Radar - Linha 533\"}},                        {\"responsive\": true}                    ).then(function(){\n",
       "                            \n",
       "var gd = document.getElementById('6082a3d5-311f-434f-a1c6-fd38b810d360');\n",
       "var x = new MutationObserver(function (mutations, observer) {{\n",
       "        var display = window.getComputedStyle(gd).display;\n",
       "        if (!display || display === 'none') {{\n",
       "            console.log([gd, 'removed!']);\n",
       "            Plotly.purge(gd);\n",
       "            observer.disconnect();\n",
       "        }}\n",
       "}});\n",
       "\n",
       "// Listen for the removal of the full notebook cells\n",
       "var notebookContainer = gd.closest('#notebook-container');\n",
       "if (notebookContainer) {{\n",
       "    x.observe(notebookContainer, {childList: true});\n",
       "}}\n",
       "\n",
       "// Listen for the clearing of the current output cell\n",
       "var outputEl = gd.closest('.output');\n",
       "if (outputEl) {{\n",
       "    x.observe(outputEl, {childList: true});\n",
       "}}\n",
       "\n",
       "                        })                };                });            </script>        </div>"
      ]
     },
     "metadata": {},
     "output_type": "display_data"
    }
   ],
   "source": [
    "import plotly.express as px\n",
    "import pandas as pd\n",
    "import random\n",
    "\n",
    "# Pegando duas linhas aleatórias do DataFrame\n",
    "random_index_1 = random.randint(0, len(coffee_raw_df) - 1)\n",
    "random_index_2 = random.randint(0, len(coffee_raw_df) - 1)\n",
    "\n",
    "# Selecionando os valores de uma linha aleatória\n",
    "row_1 = coffee_raw_df.loc[random_index_1, ['aroma', 'acid', 'body', 'flavor', 'aftertaste']]\n",
    "row_2 = coffee_raw_df.loc[random_index_2, ['aroma', 'acid', 'body', 'flavor', 'aftertaste']]\n",
    "\n",
    "# Criando o gráfico de radar para a primeira linha\n",
    "fig_1 = px.line_polar(r=row_1.values, theta=row_1.index, line_close=True, \n",
    "                      title=f'Gráfico de Radar - Linha {random_index_1}')\n",
    "fig_1.show()\n",
    "\n",
    "# Criando o gráfico de radar para a segunda linha\n",
    "fig_2 = px.line_polar(r=row_2.values, theta=row_2.index, line_close=True, \n",
    "                      title=f'Gráfico de Radar - Linha {random_index_2}')\n",
    "fig_2.show()"
   ]
  },
  {
   "cell_type": "code",
   "execution_count": 22,
   "metadata": {},
   "outputs": [
    {
     "data": {
      "application/vnd.plotly.v1+json": {
       "config": {
        "plotlyServerURL": "https://plot.ly"
       },
       "data": [
        {
         "alignmentgroup": "True",
         "bingroup": "x",
         "hovertemplate": "rating=%{x}<br>count=%{y}<extra></extra>",
         "legendgroup": "",
         "marker": {
          "color": "#636efa",
          "pattern": {
           "shape": ""
          }
         },
         "name": "",
         "nbinsx": 20,
         "offsetgroup": "",
         "orientation": "v",
         "showlegend": false,
         "type": "histogram",
         "x": [
          92,
          92,
          94,
          93,
          93,
          93,
          93,
          94,
          95,
          93,
          90,
          92,
          92,
          91,
          87,
          93,
          97,
          95,
          92,
          95,
          94,
          93,
          92,
          89,
          93,
          92,
          91,
          90,
          93,
          93,
          92,
          89,
          95,
          93,
          93,
          93,
          93,
          95,
          94,
          93,
          93,
          94,
          96,
          95,
          94,
          96,
          95,
          95,
          95,
          93,
          95,
          93,
          93,
          92,
          96,
          91,
          95,
          93,
          92,
          96,
          92,
          93,
          94,
          95,
          92,
          91,
          90,
          90,
          94,
          93,
          95,
          93,
          93,
          90,
          95,
          94,
          92,
          93,
          95,
          92,
          95,
          92,
          91,
          92,
          92,
          93,
          94,
          93,
          92,
          92,
          92,
          94,
          93,
          93,
          93,
          93,
          94,
          93,
          93,
          96,
          92,
          90,
          91,
          92,
          92,
          94,
          93,
          93,
          92,
          92,
          94,
          94,
          92,
          95,
          92,
          95,
          94,
          93,
          93,
          93,
          93,
          94,
          94,
          94,
          94,
          95,
          94,
          95,
          92,
          94,
          92,
          91,
          94,
          92,
          92,
          92,
          92,
          93,
          94,
          93,
          89,
          94,
          96,
          95,
          95,
          93,
          93,
          94,
          94,
          93,
          93,
          93,
          94,
          93,
          93,
          92,
          92,
          95,
          91,
          92,
          92,
          91,
          91,
          91,
          90,
          93,
          93,
          92,
          93,
          94,
          93,
          92,
          92,
          92,
          90,
          90,
          90,
          93,
          93,
          92,
          92,
          92,
          95,
          93,
          94,
          94,
          90,
          93,
          93,
          93,
          93,
          93,
          92,
          90,
          93,
          91,
          93,
          92,
          95,
          94,
          92,
          95,
          93,
          92,
          94,
          93,
          92,
          92,
          91,
          95,
          92,
          94,
          92,
          90,
          68,
          63,
          93,
          93,
          93,
          93,
          94,
          93,
          92,
          93,
          93,
          93,
          92,
          94,
          94,
          90,
          93,
          91,
          95,
          93,
          96,
          94,
          94,
          94,
          96,
          94,
          93,
          93,
          93,
          93,
          93,
          92,
          92,
          92,
          92,
          93,
          96,
          95,
          93,
          90,
          94,
          92,
          91,
          91,
          92,
          95,
          92,
          95,
          96,
          92,
          92,
          91,
          92,
          95,
          94,
          93,
          93,
          90,
          90,
          90,
          95,
          94,
          95,
          94,
          93,
          93,
          93,
          93,
          93,
          93,
          92,
          90,
          95,
          94,
          94,
          94,
          94,
          93,
          93,
          94,
          93,
          91,
          90,
          94,
          93,
          96,
          91,
          91,
          93,
          94,
          92,
          94,
          93,
          94,
          93,
          92,
          95,
          94,
          95,
          94,
          93,
          93,
          93,
          92,
          92,
          96,
          92,
          92,
          95,
          94,
          94,
          93,
          90,
          93,
          95,
          93,
          94,
          94,
          93,
          93,
          93,
          97,
          94,
          94,
          94,
          94,
          92,
          95,
          92,
          92,
          91,
          94,
          91,
          92,
          93,
          93,
          93,
          94,
          94,
          95,
          93,
          93,
          93,
          93,
          92,
          93,
          93,
          91,
          93,
          93,
          92,
          91,
          92,
          93,
          94,
          94,
          92,
          94,
          97,
          93,
          92,
          95,
          95,
          94,
          94,
          93,
          93,
          92,
          91,
          90,
          92,
          92,
          92,
          91,
          94,
          90,
          90,
          92,
          95,
          92,
          95,
          92,
          93,
          90,
          95,
          92,
          90,
          94,
          94,
          93,
          93,
          91,
          92,
          94,
          94,
          93,
          93,
          93,
          93,
          93,
          92,
          92,
          90,
          90,
          87,
          87,
          91,
          94,
          94,
          93,
          92,
          92,
          95,
          94,
          94,
          94,
          94,
          93,
          96,
          92,
          93,
          92,
          91,
          90,
          93,
          93,
          93,
          93,
          93,
          96,
          94,
          92,
          94,
          90,
          96,
          93,
          94,
          93,
          90,
          93,
          93,
          93,
          94,
          92,
          97,
          92,
          95,
          94,
          94,
          93,
          94,
          92,
          92,
          92,
          91,
          91,
          93,
          92,
          94,
          94,
          92,
          92,
          94,
          96,
          95,
          94,
          94,
          94,
          94,
          92,
          90,
          94,
          93,
          94,
          93,
          93,
          92,
          94,
          91,
          91,
          93,
          93,
          93,
          94,
          94,
          92,
          95,
          94,
          92,
          92,
          94,
          96,
          96,
          93,
          93,
          93,
          92,
          92,
          93,
          93,
          93,
          93,
          93,
          98,
          95,
          93,
          93,
          91,
          96,
          91,
          92,
          92,
          95,
          93,
          93,
          91,
          93,
          93,
          96,
          94,
          90,
          97,
          91,
          96,
          93,
          95,
          93,
          93,
          93,
          93,
          92,
          91,
          90,
          90,
          93,
          93,
          94,
          94,
          94,
          95,
          97,
          97,
          94,
          94,
          93,
          93,
          93,
          92,
          91,
          90,
          88,
          94,
          94,
          93,
          93,
          92,
          92,
          92,
          92,
          91,
          86,
          93,
          92,
          92,
          95,
          94,
          93,
          96,
          95,
          94,
          92,
          92,
          91,
          90,
          92,
          91,
          90,
          90,
          90,
          90,
          90,
          89,
          89,
          88,
          87,
          87,
          95,
          94,
          91,
          90,
          93,
          94,
          93,
          93,
          92,
          92,
          92,
          93,
          91,
          94,
          94,
          92,
          91,
          92,
          90,
          94,
          93,
          92,
          92,
          94,
          91,
          92,
          91,
          95,
          93,
          88,
          91,
          90,
          95,
          92,
          90,
          92,
          90,
          96,
          94,
          93,
          93,
          93,
          92,
          92,
          92,
          92,
          94,
          94,
          92,
          94,
          93,
          92,
          93,
          92,
          93,
          93,
          94,
          94,
          94,
          91,
          93,
          92,
          91,
          90,
          95,
          94,
          90,
          93,
          93,
          94,
          93,
          93,
          92,
          93,
          92,
          94,
          93,
          92,
          92,
          91,
          96,
          96,
          95,
          95,
          94,
          94,
          93,
          94,
          94,
          93,
          94,
          93,
          93,
          93,
          92,
          93,
          94,
          93,
          93,
          94,
          94,
          93,
          92,
          92,
          85,
          95,
          92,
          92,
          93,
          93,
          93,
          92,
          93,
          94,
          94,
          93,
          93,
          92,
          90,
          94,
          94,
          94,
          94,
          94,
          92,
          92,
          95,
          93,
          90,
          90,
          93,
          94,
          94,
          94,
          95,
          93,
          92,
          91,
          95,
          94,
          94,
          93,
          95,
          94,
          93,
          95,
          94,
          94,
          93,
          93,
          92,
          93,
          94,
          94,
          90,
          95,
          94,
          94,
          92,
          92,
          93,
          94,
          93,
          95,
          94,
          93,
          93,
          90,
          93,
          93,
          92,
          91,
          94,
          93,
          87,
          95,
          95,
          94,
          94,
          94,
          94,
          94,
          93,
          92,
          92,
          92,
          90,
          93,
          92,
          95,
          94,
          94,
          93,
          94,
          93,
          94,
          90,
          86,
          92,
          91,
          90,
          95,
          93,
          91,
          96,
          94,
          94,
          93,
          93,
          93,
          92,
          92,
          95,
          93,
          93,
          92,
          94,
          93,
          93,
          92,
          94,
          94,
          94,
          95,
          92,
          93,
          96,
          94,
          94,
          91,
          94,
          92,
          91,
          93,
          94,
          93,
          92,
          92,
          92,
          92,
          92,
          93,
          93,
          94,
          94,
          94,
          93,
          94,
          95,
          84,
          93,
          92,
          92,
          94,
          94,
          94,
          92,
          92,
          94,
          94,
          95,
          94,
          94,
          92,
          92,
          91,
          90,
          95,
          95,
          95,
          95,
          94,
          94,
          94,
          94,
          94,
          94,
          94,
          94,
          93,
          92,
          90,
          89,
          86,
          86,
          97,
          94,
          94,
          94,
          93,
          92,
          94,
          92,
          91,
          95,
          94,
          94,
          93,
          93,
          93,
          94,
          92,
          92,
          98,
          94,
          94,
          95,
          95,
          93,
          94,
          93,
          91,
          94,
          93,
          94,
          95,
          94,
          93,
          93,
          93,
          92,
          95,
          92,
          94,
          94,
          94,
          98,
          95,
          91,
          94,
          93,
          94,
          97,
          96,
          94,
          92,
          94,
          93,
          93,
          93,
          95,
          94,
          95,
          95,
          93,
          93,
          92,
          92,
          95,
          94,
          93,
          93,
          96,
          95,
          93,
          93,
          93,
          92,
          93,
          93,
          93,
          94,
          93,
          94,
          94,
          94,
          93,
          92,
          92,
          91,
          93,
          94,
          93,
          93,
          94,
          92,
          93,
          92,
          93,
          92,
          95,
          94,
          92,
          96,
          95,
          95,
          94,
          93,
          93,
          94,
          93,
          93,
          92,
          94,
          90,
          93,
          93,
          92,
          93,
          94,
          93,
          93,
          88,
          93,
          86,
          94,
          93,
          94,
          94,
          94,
          93,
          93,
          94,
          92,
          93,
          93,
          92,
          95,
          95,
          95,
          94,
          95,
          93,
          94,
          94,
          93,
          93,
          94,
          94,
          93,
          93,
          95,
          95,
          93,
          92,
          96,
          95,
          95,
          94,
          93,
          93,
          93,
          93,
          92,
          93,
          93,
          93,
          94,
          94,
          95,
          93,
          93,
          93,
          95,
          93,
          93,
          93,
          95,
          94,
          93,
          91,
          90,
          94,
          94,
          94,
          92,
          96,
          94,
          93,
          93,
          93,
          92,
          94,
          91,
          92,
          92,
          92,
          92,
          93,
          93,
          92,
          92,
          92,
          94,
          94,
          94,
          93,
          92,
          92,
          90,
          94,
          93,
          91,
          94,
          92,
          91,
          94,
          93,
          92,
          92,
          92,
          94,
          93,
          93,
          93,
          93,
          94,
          94,
          94,
          92,
          92,
          93,
          92,
          92,
          92,
          91,
          91,
          90,
          90,
          96,
          95,
          94,
          94,
          94,
          94,
          93,
          93,
          93,
          91,
          95,
          94,
          94,
          94,
          95,
          95,
          95,
          94,
          95,
          93,
          91,
          93,
          90,
          92,
          88,
          93,
          93,
          96,
          93,
          92,
          92,
          94,
          90,
          93,
          93,
          93,
          94,
          91,
          96,
          94,
          93,
          95,
          95,
          94,
          94,
          93,
          93,
          93,
          93,
          93,
          93,
          94,
          93,
          95,
          94,
          94,
          94,
          92,
          92,
          91,
          92,
          95,
          94,
          94,
          94,
          93,
          90,
          94,
          93,
          94,
          92,
          95,
          94,
          94,
          94,
          94,
          94,
          94,
          93,
          93,
          93,
          92,
          95,
          96,
          95,
          95,
          95,
          95,
          95,
          94,
          94,
          93,
          93,
          93,
          93,
          92,
          95,
          94,
          93,
          95,
          95,
          94,
          93,
          94,
          94,
          94,
          93,
          93,
          92,
          93,
          95,
          95,
          94,
          94,
          94,
          93,
          93,
          94,
          93,
          94,
          94,
          93,
          94,
          91,
          93,
          94,
          94,
          95,
          92,
          92,
          90,
          93,
          95,
          92,
          92,
          94,
          90,
          93,
          94,
          93,
          91,
          95,
          93,
          97,
          93,
          94,
          93,
          93,
          93,
          93,
          93,
          93,
          93,
          92,
          92,
          92,
          94,
          93,
          91,
          93,
          93,
          95,
          95,
          94,
          94,
          94,
          92,
          95,
          93,
          93,
          92,
          93,
          93,
          92,
          92,
          93,
          93,
          92,
          91,
          90,
          92,
          94,
          92,
          90,
          96,
          94,
          93,
          93,
          93,
          95,
          94,
          94,
          95,
          95,
          95,
          94,
          94,
          92,
          93,
          95,
          93,
          92,
          92,
          95,
          94,
          94,
          92,
          95,
          94,
          93,
          93,
          93,
          92,
          93,
          94,
          93,
          93,
          92,
          90,
          94,
          94,
          94,
          93,
          96,
          95,
          94,
          93,
          94,
          94,
          95,
          91,
          94,
          94,
          93,
          94,
          93,
          92,
          92,
          94,
          93,
          95,
          95,
          94,
          95,
          94,
          94,
          93,
          94,
          93,
          92,
          91,
          95,
          94,
          96,
          95,
          95,
          95,
          93,
          94,
          95,
          94,
          94,
          94,
          94,
          96,
          96,
          95,
          95,
          94,
          94,
          94,
          90,
          94,
          95,
          95,
          93,
          93,
          90,
          92,
          91,
          94,
          93,
          96,
          92,
          93,
          88,
          96,
          97,
          96,
          94,
          94,
          95,
          96,
          94,
          94,
          95,
          96,
          95,
          94,
          93,
          95,
          92,
          92,
          91,
          92,
          92,
          90,
          90,
          90,
          90,
          93,
          92,
          87,
          87,
          88,
          90,
          92,
          88,
          89,
          93,
          93,
          94,
          93,
          94,
          86,
          87,
          94,
          93,
          92,
          94,
          93,
          92,
          88,
          92,
          95,
          95,
          95,
          93,
          95,
          94,
          93,
          94,
          94,
          94,
          92,
          93,
          93,
          95,
          94,
          94,
          92,
          92,
          92,
          90,
          93,
          88,
          86,
          91,
          94,
          94,
          92,
          92,
          92,
          92,
          94,
          95,
          96,
          93,
          95,
          94,
          93,
          92,
          95,
          94,
          92,
          93,
          91,
          94,
          94,
          94,
          93,
          93,
          93,
          93,
          92,
          92,
          92,
          94,
          92,
          93,
          93,
          93,
          92,
          92,
          92,
          94,
          94,
          94,
          93,
          93,
          93,
          93,
          91,
          95,
          95,
          94,
          93,
          94,
          94,
          93,
          94,
          93,
          93,
          93,
          96,
          97,
          94,
          94,
          95,
          93,
          95,
          92,
          91,
          92,
          95,
          93,
          95,
          92,
          96,
          95,
          94,
          94,
          94,
          94,
          94,
          93,
          93,
          95,
          93,
          95,
          94,
          93,
          95,
          92,
          92,
          95,
          94,
          95,
          95,
          94,
          94,
          94,
          93,
          93,
          93,
          92,
          92,
          91,
          90,
          87,
          84,
          96,
          94,
          93,
          95,
          94,
          94,
          93,
          94,
          93,
          93,
          93,
          92,
          93,
          93,
          92,
          94,
          92,
          93,
          96,
          94,
          94,
          93,
          93,
          95,
          93,
          93,
          93,
          94,
          95,
          95,
          93,
          94,
          94,
          95,
          93,
          94,
          93,
          95,
          94,
          93,
          94,
          93,
          93,
          92,
          94,
          97,
          95,
          93,
          93,
          93,
          93,
          93,
          92,
          93,
          94,
          95,
          95,
          94,
          94,
          93,
          93,
          93,
          92,
          92,
          90,
          94,
          95,
          92,
          90,
          93,
          93,
          95,
          94,
          94,
          95,
          94,
          95,
          95,
          93,
          93,
          93,
          95,
          95,
          95,
          94,
          93,
          95,
          94,
          92,
          95,
          94,
          93,
          92,
          93,
          92,
          94,
          94,
          92,
          93,
          92,
          91,
          90,
          93,
          93,
          93,
          93,
          93,
          93,
          94,
          95,
          95,
          94,
          91,
          94,
          93,
          92,
          95,
          94,
          92,
          95,
          94,
          90,
          95,
          94,
          94,
          93,
          93,
          92,
          93,
          92,
          95,
          95,
          94,
          93,
          92,
          92,
          94,
          94,
          93,
          92,
          90,
          95,
          95,
          94,
          94,
          94,
          95,
          93,
          92,
          91,
          94,
          91,
          95,
          92,
          96,
          93,
          95,
          94,
          93,
          95,
          94,
          91,
          93,
          93,
          95,
          92,
          93,
          93,
          93,
          93,
          93,
          93,
          92,
          91,
          91,
          96,
          94,
          95,
          94,
          93,
          92,
          91,
          93,
          95,
          95,
          92,
          93,
          94,
          95,
          94,
          93,
          92,
          92,
          94,
          94,
          96,
          95,
          95,
          95,
          93,
          94,
          93,
          93,
          93,
          93,
          92,
          94,
          94,
          93,
          92,
          93,
          94,
          95,
          94,
          94,
          92,
          94,
          92,
          96,
          94,
          94,
          94,
          93,
          95,
          94,
          92,
          92,
          92,
          92,
          93,
          90,
          95,
          93,
          92,
          94,
          93,
          93,
          93,
          93,
          93,
          93,
          92,
          95,
          94,
          95,
          95,
          93,
          94,
          96,
          95,
          94,
          92,
          91,
          91,
          95,
          93,
          94,
          93,
          94,
          92,
          95,
          95,
          94,
          96,
          93,
          94,
          93,
          93,
          92,
          92,
          92,
          92,
          91,
          92,
          91,
          95,
          94,
          94,
          92,
          93,
          92,
          93,
          93,
          93
         ],
         "xaxis": "x",
         "yaxis": "y"
        }
       ],
       "layout": {
        "barmode": "relative",
        "legend": {
         "tracegroupgap": 0
        },
        "template": {
         "data": {
          "bar": [
           {
            "error_x": {
             "color": "#2a3f5f"
            },
            "error_y": {
             "color": "#2a3f5f"
            },
            "marker": {
             "line": {
              "color": "#E5ECF6",
              "width": 0.5
             },
             "pattern": {
              "fillmode": "overlay",
              "size": 10,
              "solidity": 0.2
             }
            },
            "type": "bar"
           }
          ],
          "barpolar": [
           {
            "marker": {
             "line": {
              "color": "#E5ECF6",
              "width": 0.5
             },
             "pattern": {
              "fillmode": "overlay",
              "size": 10,
              "solidity": 0.2
             }
            },
            "type": "barpolar"
           }
          ],
          "carpet": [
           {
            "aaxis": {
             "endlinecolor": "#2a3f5f",
             "gridcolor": "white",
             "linecolor": "white",
             "minorgridcolor": "white",
             "startlinecolor": "#2a3f5f"
            },
            "baxis": {
             "endlinecolor": "#2a3f5f",
             "gridcolor": "white",
             "linecolor": "white",
             "minorgridcolor": "white",
             "startlinecolor": "#2a3f5f"
            },
            "type": "carpet"
           }
          ],
          "choropleth": [
           {
            "colorbar": {
             "outlinewidth": 0,
             "ticks": ""
            },
            "type": "choropleth"
           }
          ],
          "contour": [
           {
            "colorbar": {
             "outlinewidth": 0,
             "ticks": ""
            },
            "colorscale": [
             [
              0,
              "#0d0887"
             ],
             [
              0.1111111111111111,
              "#46039f"
             ],
             [
              0.2222222222222222,
              "#7201a8"
             ],
             [
              0.3333333333333333,
              "#9c179e"
             ],
             [
              0.4444444444444444,
              "#bd3786"
             ],
             [
              0.5555555555555556,
              "#d8576b"
             ],
             [
              0.6666666666666666,
              "#ed7953"
             ],
             [
              0.7777777777777778,
              "#fb9f3a"
             ],
             [
              0.8888888888888888,
              "#fdca26"
             ],
             [
              1,
              "#f0f921"
             ]
            ],
            "type": "contour"
           }
          ],
          "contourcarpet": [
           {
            "colorbar": {
             "outlinewidth": 0,
             "ticks": ""
            },
            "type": "contourcarpet"
           }
          ],
          "heatmap": [
           {
            "colorbar": {
             "outlinewidth": 0,
             "ticks": ""
            },
            "colorscale": [
             [
              0,
              "#0d0887"
             ],
             [
              0.1111111111111111,
              "#46039f"
             ],
             [
              0.2222222222222222,
              "#7201a8"
             ],
             [
              0.3333333333333333,
              "#9c179e"
             ],
             [
              0.4444444444444444,
              "#bd3786"
             ],
             [
              0.5555555555555556,
              "#d8576b"
             ],
             [
              0.6666666666666666,
              "#ed7953"
             ],
             [
              0.7777777777777778,
              "#fb9f3a"
             ],
             [
              0.8888888888888888,
              "#fdca26"
             ],
             [
              1,
              "#f0f921"
             ]
            ],
            "type": "heatmap"
           }
          ],
          "heatmapgl": [
           {
            "colorbar": {
             "outlinewidth": 0,
             "ticks": ""
            },
            "colorscale": [
             [
              0,
              "#0d0887"
             ],
             [
              0.1111111111111111,
              "#46039f"
             ],
             [
              0.2222222222222222,
              "#7201a8"
             ],
             [
              0.3333333333333333,
              "#9c179e"
             ],
             [
              0.4444444444444444,
              "#bd3786"
             ],
             [
              0.5555555555555556,
              "#d8576b"
             ],
             [
              0.6666666666666666,
              "#ed7953"
             ],
             [
              0.7777777777777778,
              "#fb9f3a"
             ],
             [
              0.8888888888888888,
              "#fdca26"
             ],
             [
              1,
              "#f0f921"
             ]
            ],
            "type": "heatmapgl"
           }
          ],
          "histogram": [
           {
            "marker": {
             "pattern": {
              "fillmode": "overlay",
              "size": 10,
              "solidity": 0.2
             }
            },
            "type": "histogram"
           }
          ],
          "histogram2d": [
           {
            "colorbar": {
             "outlinewidth": 0,
             "ticks": ""
            },
            "colorscale": [
             [
              0,
              "#0d0887"
             ],
             [
              0.1111111111111111,
              "#46039f"
             ],
             [
              0.2222222222222222,
              "#7201a8"
             ],
             [
              0.3333333333333333,
              "#9c179e"
             ],
             [
              0.4444444444444444,
              "#bd3786"
             ],
             [
              0.5555555555555556,
              "#d8576b"
             ],
             [
              0.6666666666666666,
              "#ed7953"
             ],
             [
              0.7777777777777778,
              "#fb9f3a"
             ],
             [
              0.8888888888888888,
              "#fdca26"
             ],
             [
              1,
              "#f0f921"
             ]
            ],
            "type": "histogram2d"
           }
          ],
          "histogram2dcontour": [
           {
            "colorbar": {
             "outlinewidth": 0,
             "ticks": ""
            },
            "colorscale": [
             [
              0,
              "#0d0887"
             ],
             [
              0.1111111111111111,
              "#46039f"
             ],
             [
              0.2222222222222222,
              "#7201a8"
             ],
             [
              0.3333333333333333,
              "#9c179e"
             ],
             [
              0.4444444444444444,
              "#bd3786"
             ],
             [
              0.5555555555555556,
              "#d8576b"
             ],
             [
              0.6666666666666666,
              "#ed7953"
             ],
             [
              0.7777777777777778,
              "#fb9f3a"
             ],
             [
              0.8888888888888888,
              "#fdca26"
             ],
             [
              1,
              "#f0f921"
             ]
            ],
            "type": "histogram2dcontour"
           }
          ],
          "mesh3d": [
           {
            "colorbar": {
             "outlinewidth": 0,
             "ticks": ""
            },
            "type": "mesh3d"
           }
          ],
          "parcoords": [
           {
            "line": {
             "colorbar": {
              "outlinewidth": 0,
              "ticks": ""
             }
            },
            "type": "parcoords"
           }
          ],
          "pie": [
           {
            "automargin": true,
            "type": "pie"
           }
          ],
          "scatter": [
           {
            "fillpattern": {
             "fillmode": "overlay",
             "size": 10,
             "solidity": 0.2
            },
            "type": "scatter"
           }
          ],
          "scatter3d": [
           {
            "line": {
             "colorbar": {
              "outlinewidth": 0,
              "ticks": ""
             }
            },
            "marker": {
             "colorbar": {
              "outlinewidth": 0,
              "ticks": ""
             }
            },
            "type": "scatter3d"
           }
          ],
          "scattercarpet": [
           {
            "marker": {
             "colorbar": {
              "outlinewidth": 0,
              "ticks": ""
             }
            },
            "type": "scattercarpet"
           }
          ],
          "scattergeo": [
           {
            "marker": {
             "colorbar": {
              "outlinewidth": 0,
              "ticks": ""
             }
            },
            "type": "scattergeo"
           }
          ],
          "scattergl": [
           {
            "marker": {
             "colorbar": {
              "outlinewidth": 0,
              "ticks": ""
             }
            },
            "type": "scattergl"
           }
          ],
          "scattermapbox": [
           {
            "marker": {
             "colorbar": {
              "outlinewidth": 0,
              "ticks": ""
             }
            },
            "type": "scattermapbox"
           }
          ],
          "scatterpolar": [
           {
            "marker": {
             "colorbar": {
              "outlinewidth": 0,
              "ticks": ""
             }
            },
            "type": "scatterpolar"
           }
          ],
          "scatterpolargl": [
           {
            "marker": {
             "colorbar": {
              "outlinewidth": 0,
              "ticks": ""
             }
            },
            "type": "scatterpolargl"
           }
          ],
          "scatterternary": [
           {
            "marker": {
             "colorbar": {
              "outlinewidth": 0,
              "ticks": ""
             }
            },
            "type": "scatterternary"
           }
          ],
          "surface": [
           {
            "colorbar": {
             "outlinewidth": 0,
             "ticks": ""
            },
            "colorscale": [
             [
              0,
              "#0d0887"
             ],
             [
              0.1111111111111111,
              "#46039f"
             ],
             [
              0.2222222222222222,
              "#7201a8"
             ],
             [
              0.3333333333333333,
              "#9c179e"
             ],
             [
              0.4444444444444444,
              "#bd3786"
             ],
             [
              0.5555555555555556,
              "#d8576b"
             ],
             [
              0.6666666666666666,
              "#ed7953"
             ],
             [
              0.7777777777777778,
              "#fb9f3a"
             ],
             [
              0.8888888888888888,
              "#fdca26"
             ],
             [
              1,
              "#f0f921"
             ]
            ],
            "type": "surface"
           }
          ],
          "table": [
           {
            "cells": {
             "fill": {
              "color": "#EBF0F8"
             },
             "line": {
              "color": "white"
             }
            },
            "header": {
             "fill": {
              "color": "#C8D4E3"
             },
             "line": {
              "color": "white"
             }
            },
            "type": "table"
           }
          ]
         },
         "layout": {
          "annotationdefaults": {
           "arrowcolor": "#2a3f5f",
           "arrowhead": 0,
           "arrowwidth": 1
          },
          "autotypenumbers": "strict",
          "coloraxis": {
           "colorbar": {
            "outlinewidth": 0,
            "ticks": ""
           }
          },
          "colorscale": {
           "diverging": [
            [
             0,
             "#8e0152"
            ],
            [
             0.1,
             "#c51b7d"
            ],
            [
             0.2,
             "#de77ae"
            ],
            [
             0.3,
             "#f1b6da"
            ],
            [
             0.4,
             "#fde0ef"
            ],
            [
             0.5,
             "#f7f7f7"
            ],
            [
             0.6,
             "#e6f5d0"
            ],
            [
             0.7,
             "#b8e186"
            ],
            [
             0.8,
             "#7fbc41"
            ],
            [
             0.9,
             "#4d9221"
            ],
            [
             1,
             "#276419"
            ]
           ],
           "sequential": [
            [
             0,
             "#0d0887"
            ],
            [
             0.1111111111111111,
             "#46039f"
            ],
            [
             0.2222222222222222,
             "#7201a8"
            ],
            [
             0.3333333333333333,
             "#9c179e"
            ],
            [
             0.4444444444444444,
             "#bd3786"
            ],
            [
             0.5555555555555556,
             "#d8576b"
            ],
            [
             0.6666666666666666,
             "#ed7953"
            ],
            [
             0.7777777777777778,
             "#fb9f3a"
            ],
            [
             0.8888888888888888,
             "#fdca26"
            ],
            [
             1,
             "#f0f921"
            ]
           ],
           "sequentialminus": [
            [
             0,
             "#0d0887"
            ],
            [
             0.1111111111111111,
             "#46039f"
            ],
            [
             0.2222222222222222,
             "#7201a8"
            ],
            [
             0.3333333333333333,
             "#9c179e"
            ],
            [
             0.4444444444444444,
             "#bd3786"
            ],
            [
             0.5555555555555556,
             "#d8576b"
            ],
            [
             0.6666666666666666,
             "#ed7953"
            ],
            [
             0.7777777777777778,
             "#fb9f3a"
            ],
            [
             0.8888888888888888,
             "#fdca26"
            ],
            [
             1,
             "#f0f921"
            ]
           ]
          },
          "colorway": [
           "#636efa",
           "#EF553B",
           "#00cc96",
           "#ab63fa",
           "#FFA15A",
           "#19d3f3",
           "#FF6692",
           "#B6E880",
           "#FF97FF",
           "#FECB52"
          ],
          "font": {
           "color": "#2a3f5f"
          },
          "geo": {
           "bgcolor": "white",
           "lakecolor": "white",
           "landcolor": "#E5ECF6",
           "showlakes": true,
           "showland": true,
           "subunitcolor": "white"
          },
          "hoverlabel": {
           "align": "left"
          },
          "hovermode": "closest",
          "mapbox": {
           "style": "light"
          },
          "paper_bgcolor": "white",
          "plot_bgcolor": "#E5ECF6",
          "polar": {
           "angularaxis": {
            "gridcolor": "white",
            "linecolor": "white",
            "ticks": ""
           },
           "bgcolor": "#E5ECF6",
           "radialaxis": {
            "gridcolor": "white",
            "linecolor": "white",
            "ticks": ""
           }
          },
          "scene": {
           "xaxis": {
            "backgroundcolor": "#E5ECF6",
            "gridcolor": "white",
            "gridwidth": 2,
            "linecolor": "white",
            "showbackground": true,
            "ticks": "",
            "zerolinecolor": "white"
           },
           "yaxis": {
            "backgroundcolor": "#E5ECF6",
            "gridcolor": "white",
            "gridwidth": 2,
            "linecolor": "white",
            "showbackground": true,
            "ticks": "",
            "zerolinecolor": "white"
           },
           "zaxis": {
            "backgroundcolor": "#E5ECF6",
            "gridcolor": "white",
            "gridwidth": 2,
            "linecolor": "white",
            "showbackground": true,
            "ticks": "",
            "zerolinecolor": "white"
           }
          },
          "shapedefaults": {
           "line": {
            "color": "#2a3f5f"
           }
          },
          "ternary": {
           "aaxis": {
            "gridcolor": "white",
            "linecolor": "white",
            "ticks": ""
           },
           "baxis": {
            "gridcolor": "white",
            "linecolor": "white",
            "ticks": ""
           },
           "bgcolor": "#E5ECF6",
           "caxis": {
            "gridcolor": "white",
            "linecolor": "white",
            "ticks": ""
           }
          },
          "title": {
           "x": 0.05
          },
          "xaxis": {
           "automargin": true,
           "gridcolor": "white",
           "linecolor": "white",
           "ticks": "",
           "title": {
            "standoff": 15
           },
           "zerolinecolor": "white",
           "zerolinewidth": 2
          },
          "yaxis": {
           "automargin": true,
           "gridcolor": "white",
           "linecolor": "white",
           "ticks": "",
           "title": {
            "standoff": 15
           },
           "zerolinecolor": "white",
           "zerolinewidth": 2
          }
         }
        },
        "title": {
         "text": "Histograma de Notas (Ratings)"
        },
        "xaxis": {
         "anchor": "y",
         "domain": [
          0,
          1
         ],
         "title": {
          "text": "rating"
         }
        },
        "yaxis": {
         "anchor": "x",
         "domain": [
          0,
          1
         ],
         "title": {
          "text": "count"
         }
        }
       }
      },
      "text/html": [
       "<div>                            <div id=\"76a84e86-fa87-4361-9147-b22bf24e7425\" class=\"plotly-graph-div\" style=\"height:525px; width:100%;\"></div>            <script type=\"text/javascript\">                require([\"plotly\"], function(Plotly) {                    window.PLOTLYENV=window.PLOTLYENV || {};                                    if (document.getElementById(\"76a84e86-fa87-4361-9147-b22bf24e7425\")) {                    Plotly.newPlot(                        \"76a84e86-fa87-4361-9147-b22bf24e7425\",                        [{\"alignmentgroup\":\"True\",\"bingroup\":\"x\",\"hovertemplate\":\"rating=%{x}\\u003cbr\\u003ecount=%{y}\\u003cextra\\u003e\\u003c\\u002fextra\\u003e\",\"legendgroup\":\"\",\"marker\":{\"color\":\"#636efa\",\"pattern\":{\"shape\":\"\"}},\"name\":\"\",\"nbinsx\":20,\"offsetgroup\":\"\",\"orientation\":\"v\",\"showlegend\":false,\"x\":[92,92,94,93,93,93,93,94,95,93,90,92,92,91,87,93,97,95,92,95,94,93,92,89,93,92,91,90,93,93,92,89,95,93,93,93,93,95,94,93,93,94,96,95,94,96,95,95,95,93,95,93,93,92,96,91,95,93,92,96,92,93,94,95,92,91,90,90,94,93,95,93,93,90,95,94,92,93,95,92,95,92,91,92,92,93,94,93,92,92,92,94,93,93,93,93,94,93,93,96,92,90,91,92,92,94,93,93,92,92,94,94,92,95,92,95,94,93,93,93,93,94,94,94,94,95,94,95,92,94,92,91,94,92,92,92,92,93,94,93,89,94,96,95,95,93,93,94,94,93,93,93,94,93,93,92,92,95,91,92,92,91,91,91,90,93,93,92,93,94,93,92,92,92,90,90,90,93,93,92,92,92,95,93,94,94,90,93,93,93,93,93,92,90,93,91,93,92,95,94,92,95,93,92,94,93,92,92,91,95,92,94,92,90,68,63,93,93,93,93,94,93,92,93,93,93,92,94,94,90,93,91,95,93,96,94,94,94,96,94,93,93,93,93,93,92,92,92,92,93,96,95,93,90,94,92,91,91,92,95,92,95,96,92,92,91,92,95,94,93,93,90,90,90,95,94,95,94,93,93,93,93,93,93,92,90,95,94,94,94,94,93,93,94,93,91,90,94,93,96,91,91,93,94,92,94,93,94,93,92,95,94,95,94,93,93,93,92,92,96,92,92,95,94,94,93,90,93,95,93,94,94,93,93,93,97,94,94,94,94,92,95,92,92,91,94,91,92,93,93,93,94,94,95,93,93,93,93,92,93,93,91,93,93,92,91,92,93,94,94,92,94,97,93,92,95,95,94,94,93,93,92,91,90,92,92,92,91,94,90,90,92,95,92,95,92,93,90,95,92,90,94,94,93,93,91,92,94,94,93,93,93,93,93,92,92,90,90,87,87,91,94,94,93,92,92,95,94,94,94,94,93,96,92,93,92,91,90,93,93,93,93,93,96,94,92,94,90,96,93,94,93,90,93,93,93,94,92,97,92,95,94,94,93,94,92,92,92,91,91,93,92,94,94,92,92,94,96,95,94,94,94,94,92,90,94,93,94,93,93,92,94,91,91,93,93,93,94,94,92,95,94,92,92,94,96,96,93,93,93,92,92,93,93,93,93,93,98,95,93,93,91,96,91,92,92,95,93,93,91,93,93,96,94,90,97,91,96,93,95,93,93,93,93,92,91,90,90,93,93,94,94,94,95,97,97,94,94,93,93,93,92,91,90,88,94,94,93,93,92,92,92,92,91,86,93,92,92,95,94,93,96,95,94,92,92,91,90,92,91,90,90,90,90,90,89,89,88,87,87,95,94,91,90,93,94,93,93,92,92,92,93,91,94,94,92,91,92,90,94,93,92,92,94,91,92,91,95,93,88,91,90,95,92,90,92,90,96,94,93,93,93,92,92,92,92,94,94,92,94,93,92,93,92,93,93,94,94,94,91,93,92,91,90,95,94,90,93,93,94,93,93,92,93,92,94,93,92,92,91,96,96,95,95,94,94,93,94,94,93,94,93,93,93,92,93,94,93,93,94,94,93,92,92,85,95,92,92,93,93,93,92,93,94,94,93,93,92,90,94,94,94,94,94,92,92,95,93,90,90,93,94,94,94,95,93,92,91,95,94,94,93,95,94,93,95,94,94,93,93,92,93,94,94,90,95,94,94,92,92,93,94,93,95,94,93,93,90,93,93,92,91,94,93,87,95,95,94,94,94,94,94,93,92,92,92,90,93,92,95,94,94,93,94,93,94,90,86,92,91,90,95,93,91,96,94,94,93,93,93,92,92,95,93,93,92,94,93,93,92,94,94,94,95,92,93,96,94,94,91,94,92,91,93,94,93,92,92,92,92,92,93,93,94,94,94,93,94,95,84,93,92,92,94,94,94,92,92,94,94,95,94,94,92,92,91,90,95,95,95,95,94,94,94,94,94,94,94,94,93,92,90,89,86,86,97,94,94,94,93,92,94,92,91,95,94,94,93,93,93,94,92,92,98,94,94,95,95,93,94,93,91,94,93,94,95,94,93,93,93,92,95,92,94,94,94,98,95,91,94,93,94,97,96,94,92,94,93,93,93,95,94,95,95,93,93,92,92,95,94,93,93,96,95,93,93,93,92,93,93,93,94,93,94,94,94,93,92,92,91,93,94,93,93,94,92,93,92,93,92,95,94,92,96,95,95,94,93,93,94,93,93,92,94,90,93,93,92,93,94,93,93,88,93,86,94,93,94,94,94,93,93,94,92,93,93,92,95,95,95,94,95,93,94,94,93,93,94,94,93,93,95,95,93,92,96,95,95,94,93,93,93,93,92,93,93,93,94,94,95,93,93,93,95,93,93,93,95,94,93,91,90,94,94,94,92,96,94,93,93,93,92,94,91,92,92,92,92,93,93,92,92,92,94,94,94,93,92,92,90,94,93,91,94,92,91,94,93,92,92,92,94,93,93,93,93,94,94,94,92,92,93,92,92,92,91,91,90,90,96,95,94,94,94,94,93,93,93,91,95,94,94,94,95,95,95,94,95,93,91,93,90,92,88,93,93,96,93,92,92,94,90,93,93,93,94,91,96,94,93,95,95,94,94,93,93,93,93,93,93,94,93,95,94,94,94,92,92,91,92,95,94,94,94,93,90,94,93,94,92,95,94,94,94,94,94,94,93,93,93,92,95,96,95,95,95,95,95,94,94,93,93,93,93,92,95,94,93,95,95,94,93,94,94,94,93,93,92,93,95,95,94,94,94,93,93,94,93,94,94,93,94,91,93,94,94,95,92,92,90,93,95,92,92,94,90,93,94,93,91,95,93,97,93,94,93,93,93,93,93,93,93,92,92,92,94,93,91,93,93,95,95,94,94,94,92,95,93,93,92,93,93,92,92,93,93,92,91,90,92,94,92,90,96,94,93,93,93,95,94,94,95,95,95,94,94,92,93,95,93,92,92,95,94,94,92,95,94,93,93,93,92,93,94,93,93,92,90,94,94,94,93,96,95,94,93,94,94,95,91,94,94,93,94,93,92,92,94,93,95,95,94,95,94,94,93,94,93,92,91,95,94,96,95,95,95,93,94,95,94,94,94,94,96,96,95,95,94,94,94,90,94,95,95,93,93,90,92,91,94,93,96,92,93,88,96,97,96,94,94,95,96,94,94,95,96,95,94,93,95,92,92,91,92,92,90,90,90,90,93,92,87,87,88,90,92,88,89,93,93,94,93,94,86,87,94,93,92,94,93,92,88,92,95,95,95,93,95,94,93,94,94,94,92,93,93,95,94,94,92,92,92,90,93,88,86,91,94,94,92,92,92,92,94,95,96,93,95,94,93,92,95,94,92,93,91,94,94,94,93,93,93,93,92,92,92,94,92,93,93,93,92,92,92,94,94,94,93,93,93,93,91,95,95,94,93,94,94,93,94,93,93,93,96,97,94,94,95,93,95,92,91,92,95,93,95,92,96,95,94,94,94,94,94,93,93,95,93,95,94,93,95,92,92,95,94,95,95,94,94,94,93,93,93,92,92,91,90,87,84,96,94,93,95,94,94,93,94,93,93,93,92,93,93,92,94,92,93,96,94,94,93,93,95,93,93,93,94,95,95,93,94,94,95,93,94,93,95,94,93,94,93,93,92,94,97,95,93,93,93,93,93,92,93,94,95,95,94,94,93,93,93,92,92,90,94,95,92,90,93,93,95,94,94,95,94,95,95,93,93,93,95,95,95,94,93,95,94,92,95,94,93,92,93,92,94,94,92,93,92,91,90,93,93,93,93,93,93,94,95,95,94,91,94,93,92,95,94,92,95,94,90,95,94,94,93,93,92,93,92,95,95,94,93,92,92,94,94,93,92,90,95,95,94,94,94,95,93,92,91,94,91,95,92,96,93,95,94,93,95,94,91,93,93,95,92,93,93,93,93,93,93,92,91,91,96,94,95,94,93,92,91,93,95,95,92,93,94,95,94,93,92,92,94,94,96,95,95,95,93,94,93,93,93,93,92,94,94,93,92,93,94,95,94,94,92,94,92,96,94,94,94,93,95,94,92,92,92,92,93,90,95,93,92,94,93,93,93,93,93,93,92,95,94,95,95,93,94,96,95,94,92,91,91,95,93,94,93,94,92,95,95,94,96,93,94,93,93,92,92,92,92,91,92,91,95,94,94,92,93,92,93,93,93],\"xaxis\":\"x\",\"yaxis\":\"y\",\"type\":\"histogram\"}],                        {\"template\":{\"data\":{\"histogram2dcontour\":[{\"type\":\"histogram2dcontour\",\"colorbar\":{\"outlinewidth\":0,\"ticks\":\"\"},\"colorscale\":[[0.0,\"#0d0887\"],[0.1111111111111111,\"#46039f\"],[0.2222222222222222,\"#7201a8\"],[0.3333333333333333,\"#9c179e\"],[0.4444444444444444,\"#bd3786\"],[0.5555555555555556,\"#d8576b\"],[0.6666666666666666,\"#ed7953\"],[0.7777777777777778,\"#fb9f3a\"],[0.8888888888888888,\"#fdca26\"],[1.0,\"#f0f921\"]]}],\"choropleth\":[{\"type\":\"choropleth\",\"colorbar\":{\"outlinewidth\":0,\"ticks\":\"\"}}],\"histogram2d\":[{\"type\":\"histogram2d\",\"colorbar\":{\"outlinewidth\":0,\"ticks\":\"\"},\"colorscale\":[[0.0,\"#0d0887\"],[0.1111111111111111,\"#46039f\"],[0.2222222222222222,\"#7201a8\"],[0.3333333333333333,\"#9c179e\"],[0.4444444444444444,\"#bd3786\"],[0.5555555555555556,\"#d8576b\"],[0.6666666666666666,\"#ed7953\"],[0.7777777777777778,\"#fb9f3a\"],[0.8888888888888888,\"#fdca26\"],[1.0,\"#f0f921\"]]}],\"heatmap\":[{\"type\":\"heatmap\",\"colorbar\":{\"outlinewidth\":0,\"ticks\":\"\"},\"colorscale\":[[0.0,\"#0d0887\"],[0.1111111111111111,\"#46039f\"],[0.2222222222222222,\"#7201a8\"],[0.3333333333333333,\"#9c179e\"],[0.4444444444444444,\"#bd3786\"],[0.5555555555555556,\"#d8576b\"],[0.6666666666666666,\"#ed7953\"],[0.7777777777777778,\"#fb9f3a\"],[0.8888888888888888,\"#fdca26\"],[1.0,\"#f0f921\"]]}],\"heatmapgl\":[{\"type\":\"heatmapgl\",\"colorbar\":{\"outlinewidth\":0,\"ticks\":\"\"},\"colorscale\":[[0.0,\"#0d0887\"],[0.1111111111111111,\"#46039f\"],[0.2222222222222222,\"#7201a8\"],[0.3333333333333333,\"#9c179e\"],[0.4444444444444444,\"#bd3786\"],[0.5555555555555556,\"#d8576b\"],[0.6666666666666666,\"#ed7953\"],[0.7777777777777778,\"#fb9f3a\"],[0.8888888888888888,\"#fdca26\"],[1.0,\"#f0f921\"]]}],\"contourcarpet\":[{\"type\":\"contourcarpet\",\"colorbar\":{\"outlinewidth\":0,\"ticks\":\"\"}}],\"contour\":[{\"type\":\"contour\",\"colorbar\":{\"outlinewidth\":0,\"ticks\":\"\"},\"colorscale\":[[0.0,\"#0d0887\"],[0.1111111111111111,\"#46039f\"],[0.2222222222222222,\"#7201a8\"],[0.3333333333333333,\"#9c179e\"],[0.4444444444444444,\"#bd3786\"],[0.5555555555555556,\"#d8576b\"],[0.6666666666666666,\"#ed7953\"],[0.7777777777777778,\"#fb9f3a\"],[0.8888888888888888,\"#fdca26\"],[1.0,\"#f0f921\"]]}],\"surface\":[{\"type\":\"surface\",\"colorbar\":{\"outlinewidth\":0,\"ticks\":\"\"},\"colorscale\":[[0.0,\"#0d0887\"],[0.1111111111111111,\"#46039f\"],[0.2222222222222222,\"#7201a8\"],[0.3333333333333333,\"#9c179e\"],[0.4444444444444444,\"#bd3786\"],[0.5555555555555556,\"#d8576b\"],[0.6666666666666666,\"#ed7953\"],[0.7777777777777778,\"#fb9f3a\"],[0.8888888888888888,\"#fdca26\"],[1.0,\"#f0f921\"]]}],\"mesh3d\":[{\"type\":\"mesh3d\",\"colorbar\":{\"outlinewidth\":0,\"ticks\":\"\"}}],\"scatter\":[{\"fillpattern\":{\"fillmode\":\"overlay\",\"size\":10,\"solidity\":0.2},\"type\":\"scatter\"}],\"parcoords\":[{\"type\":\"parcoords\",\"line\":{\"colorbar\":{\"outlinewidth\":0,\"ticks\":\"\"}}}],\"scatterpolargl\":[{\"type\":\"scatterpolargl\",\"marker\":{\"colorbar\":{\"outlinewidth\":0,\"ticks\":\"\"}}}],\"bar\":[{\"error_x\":{\"color\":\"#2a3f5f\"},\"error_y\":{\"color\":\"#2a3f5f\"},\"marker\":{\"line\":{\"color\":\"#E5ECF6\",\"width\":0.5},\"pattern\":{\"fillmode\":\"overlay\",\"size\":10,\"solidity\":0.2}},\"type\":\"bar\"}],\"scattergeo\":[{\"type\":\"scattergeo\",\"marker\":{\"colorbar\":{\"outlinewidth\":0,\"ticks\":\"\"}}}],\"scatterpolar\":[{\"type\":\"scatterpolar\",\"marker\":{\"colorbar\":{\"outlinewidth\":0,\"ticks\":\"\"}}}],\"histogram\":[{\"marker\":{\"pattern\":{\"fillmode\":\"overlay\",\"size\":10,\"solidity\":0.2}},\"type\":\"histogram\"}],\"scattergl\":[{\"type\":\"scattergl\",\"marker\":{\"colorbar\":{\"outlinewidth\":0,\"ticks\":\"\"}}}],\"scatter3d\":[{\"type\":\"scatter3d\",\"line\":{\"colorbar\":{\"outlinewidth\":0,\"ticks\":\"\"}},\"marker\":{\"colorbar\":{\"outlinewidth\":0,\"ticks\":\"\"}}}],\"scattermapbox\":[{\"type\":\"scattermapbox\",\"marker\":{\"colorbar\":{\"outlinewidth\":0,\"ticks\":\"\"}}}],\"scatterternary\":[{\"type\":\"scatterternary\",\"marker\":{\"colorbar\":{\"outlinewidth\":0,\"ticks\":\"\"}}}],\"scattercarpet\":[{\"type\":\"scattercarpet\",\"marker\":{\"colorbar\":{\"outlinewidth\":0,\"ticks\":\"\"}}}],\"carpet\":[{\"aaxis\":{\"endlinecolor\":\"#2a3f5f\",\"gridcolor\":\"white\",\"linecolor\":\"white\",\"minorgridcolor\":\"white\",\"startlinecolor\":\"#2a3f5f\"},\"baxis\":{\"endlinecolor\":\"#2a3f5f\",\"gridcolor\":\"white\",\"linecolor\":\"white\",\"minorgridcolor\":\"white\",\"startlinecolor\":\"#2a3f5f\"},\"type\":\"carpet\"}],\"table\":[{\"cells\":{\"fill\":{\"color\":\"#EBF0F8\"},\"line\":{\"color\":\"white\"}},\"header\":{\"fill\":{\"color\":\"#C8D4E3\"},\"line\":{\"color\":\"white\"}},\"type\":\"table\"}],\"barpolar\":[{\"marker\":{\"line\":{\"color\":\"#E5ECF6\",\"width\":0.5},\"pattern\":{\"fillmode\":\"overlay\",\"size\":10,\"solidity\":0.2}},\"type\":\"barpolar\"}],\"pie\":[{\"automargin\":true,\"type\":\"pie\"}]},\"layout\":{\"autotypenumbers\":\"strict\",\"colorway\":[\"#636efa\",\"#EF553B\",\"#00cc96\",\"#ab63fa\",\"#FFA15A\",\"#19d3f3\",\"#FF6692\",\"#B6E880\",\"#FF97FF\",\"#FECB52\"],\"font\":{\"color\":\"#2a3f5f\"},\"hovermode\":\"closest\",\"hoverlabel\":{\"align\":\"left\"},\"paper_bgcolor\":\"white\",\"plot_bgcolor\":\"#E5ECF6\",\"polar\":{\"bgcolor\":\"#E5ECF6\",\"angularaxis\":{\"gridcolor\":\"white\",\"linecolor\":\"white\",\"ticks\":\"\"},\"radialaxis\":{\"gridcolor\":\"white\",\"linecolor\":\"white\",\"ticks\":\"\"}},\"ternary\":{\"bgcolor\":\"#E5ECF6\",\"aaxis\":{\"gridcolor\":\"white\",\"linecolor\":\"white\",\"ticks\":\"\"},\"baxis\":{\"gridcolor\":\"white\",\"linecolor\":\"white\",\"ticks\":\"\"},\"caxis\":{\"gridcolor\":\"white\",\"linecolor\":\"white\",\"ticks\":\"\"}},\"coloraxis\":{\"colorbar\":{\"outlinewidth\":0,\"ticks\":\"\"}},\"colorscale\":{\"sequential\":[[0.0,\"#0d0887\"],[0.1111111111111111,\"#46039f\"],[0.2222222222222222,\"#7201a8\"],[0.3333333333333333,\"#9c179e\"],[0.4444444444444444,\"#bd3786\"],[0.5555555555555556,\"#d8576b\"],[0.6666666666666666,\"#ed7953\"],[0.7777777777777778,\"#fb9f3a\"],[0.8888888888888888,\"#fdca26\"],[1.0,\"#f0f921\"]],\"sequentialminus\":[[0.0,\"#0d0887\"],[0.1111111111111111,\"#46039f\"],[0.2222222222222222,\"#7201a8\"],[0.3333333333333333,\"#9c179e\"],[0.4444444444444444,\"#bd3786\"],[0.5555555555555556,\"#d8576b\"],[0.6666666666666666,\"#ed7953\"],[0.7777777777777778,\"#fb9f3a\"],[0.8888888888888888,\"#fdca26\"],[1.0,\"#f0f921\"]],\"diverging\":[[0,\"#8e0152\"],[0.1,\"#c51b7d\"],[0.2,\"#de77ae\"],[0.3,\"#f1b6da\"],[0.4,\"#fde0ef\"],[0.5,\"#f7f7f7\"],[0.6,\"#e6f5d0\"],[0.7,\"#b8e186\"],[0.8,\"#7fbc41\"],[0.9,\"#4d9221\"],[1,\"#276419\"]]},\"xaxis\":{\"gridcolor\":\"white\",\"linecolor\":\"white\",\"ticks\":\"\",\"title\":{\"standoff\":15},\"zerolinecolor\":\"white\",\"automargin\":true,\"zerolinewidth\":2},\"yaxis\":{\"gridcolor\":\"white\",\"linecolor\":\"white\",\"ticks\":\"\",\"title\":{\"standoff\":15},\"zerolinecolor\":\"white\",\"automargin\":true,\"zerolinewidth\":2},\"scene\":{\"xaxis\":{\"backgroundcolor\":\"#E5ECF6\",\"gridcolor\":\"white\",\"linecolor\":\"white\",\"showbackground\":true,\"ticks\":\"\",\"zerolinecolor\":\"white\",\"gridwidth\":2},\"yaxis\":{\"backgroundcolor\":\"#E5ECF6\",\"gridcolor\":\"white\",\"linecolor\":\"white\",\"showbackground\":true,\"ticks\":\"\",\"zerolinecolor\":\"white\",\"gridwidth\":2},\"zaxis\":{\"backgroundcolor\":\"#E5ECF6\",\"gridcolor\":\"white\",\"linecolor\":\"white\",\"showbackground\":true,\"ticks\":\"\",\"zerolinecolor\":\"white\",\"gridwidth\":2}},\"shapedefaults\":{\"line\":{\"color\":\"#2a3f5f\"}},\"annotationdefaults\":{\"arrowcolor\":\"#2a3f5f\",\"arrowhead\":0,\"arrowwidth\":1},\"geo\":{\"bgcolor\":\"white\",\"landcolor\":\"#E5ECF6\",\"subunitcolor\":\"white\",\"showland\":true,\"showlakes\":true,\"lakecolor\":\"white\"},\"title\":{\"x\":0.05},\"mapbox\":{\"style\":\"light\"}}},\"xaxis\":{\"anchor\":\"y\",\"domain\":[0.0,1.0],\"title\":{\"text\":\"rating\"}},\"yaxis\":{\"anchor\":\"x\",\"domain\":[0.0,1.0],\"title\":{\"text\":\"count\"}},\"legend\":{\"tracegroupgap\":0},\"title\":{\"text\":\"Histograma de Notas (Ratings)\"},\"barmode\":\"relative\"},                        {\"responsive\": true}                    ).then(function(){\n",
       "                            \n",
       "var gd = document.getElementById('76a84e86-fa87-4361-9147-b22bf24e7425');\n",
       "var x = new MutationObserver(function (mutations, observer) {{\n",
       "        var display = window.getComputedStyle(gd).display;\n",
       "        if (!display || display === 'none') {{\n",
       "            console.log([gd, 'removed!']);\n",
       "            Plotly.purge(gd);\n",
       "            observer.disconnect();\n",
       "        }}\n",
       "}});\n",
       "\n",
       "// Listen for the removal of the full notebook cells\n",
       "var notebookContainer = gd.closest('#notebook-container');\n",
       "if (notebookContainer) {{\n",
       "    x.observe(notebookContainer, {childList: true});\n",
       "}}\n",
       "\n",
       "// Listen for the clearing of the current output cell\n",
       "var outputEl = gd.closest('.output');\n",
       "if (outputEl) {{\n",
       "    x.observe(outputEl, {childList: true});\n",
       "}}\n",
       "\n",
       "                        })                };                });            </script>        </div>"
      ]
     },
     "metadata": {},
     "output_type": "display_data"
    }
   ],
   "source": [
    "# Criando o histograma das notas (ratings)\n",
    "fig_hist = px.histogram(coffee_raw_df, x='rating', nbins=20, title='Histograma de Notas (Ratings)')\n",
    "fig_hist.show()"
   ]
  },
  {
   "cell_type": "code",
   "execution_count": 23,
   "metadata": {},
   "outputs": [
    {
     "data": {
      "application/vnd.plotly.v1+json": {
       "config": {
        "plotlyServerURL": "https://plot.ly"
       },
       "data": [
        {
         "hovertemplate": "Preço por 100g (USD)=%{x}<br>Nota (Rating)=%{y}<extra></extra>",
         "legendgroup": "",
         "marker": {
          "color": "#636efa",
          "symbol": "circle"
         },
         "mode": "markers",
         "name": "",
         "showlegend": false,
         "type": "scattergl",
         "x": [
          4.703198763058726,
          4.188786398349177,
          4.850173724404311,
          5.14118414786857,
          3.9661193319106154,
          5.144123647095481,
          5.291098608441066,
          3.747861514312422,
          7.2017731059336745,
          3.8801389795234487,
          5.732023492477822,
          6.872246696035243,
          3.6651982378854626,
          6.872246696035243,
          4.409248840367556,
          5.276401112306508,
          33.047320058554824,
          4.585618793982257,
          5.291098608441066,
          3.8801389795234487,
          4.629711282385933,
          5.585048531132237,
          5.8789984538234075,
          3.4980040800249275,
          5.864300957688848,
          4.409248840367556,
          4.406309341140644,
          4.406309341140644,
          5.585048531132237,
          4.703198763058726,
          4.982451189615338,
          4.982451189615338,
          5.6000000000000005,
          7.348748067279259,
          4.406309341140644,
          4.997148685749896,
          9.700347448808621,
          6.466898299205748,
          4.409248840367556,
          5.8789984538234075,
          12.345896753029155,
          8.436363636363636,
          16.16724574801437,
          7.348748067279259,
          32.62844141871991,
          5.65853601180503,
          11.020917476498704,
          19.81957353745216,
          5.864300957688848,
          4.982451189615338,
          15.600000000000003,
          12.998465581403554,
          35,
          8.796451436533271,
          5.570351034997678,
          4.629711282385933,
          26.45549304220533,
          17.63699536147022,
          12.125434311010777,
          6,
          13.227746521102665,
          4.997148685749896,
          5.276401112306508,
          5.8789984538234075,
          7.348748067279259,
          7.054798144588088,
          4.112359418449474,
          6,
          35,
          5.070636166422688,
          5.511561050459444,
          90.83052611157164,
          90.83052611157164,
          12.998465581403554,
          35,
          4.994209186522984,
          4.997148685749896,
          35,
          22.48716908587453,
          8.017621145374449,
          23.8099437379848,
          5.585048531132237,
          6.025973415168993,
          7.054798144588088,
          4.5562238017131405,
          4.232878886752853,
          4.585618793982257,
          4.847234225177399,
          6.760848221896919,
          4.0418114370035925,
          4.629711282385933,
          4.115298917676386,
          4.997148685749896,
          6.466898299205748,
          3.527399072294044,
          14.109596289176176,
          4.629711282385933,
          4.629711282385933,
          4.982451189615338,
          8.7655866946507,
          8.7655866946507,
          8.7655866946507,
          7.348748067279259,
          3.419117647058824,
          3.527399072294044,
          4.409248840367556,
          4.115298917676386,
          3.903654973338743,
          0.0033000000000000004,
          3.3363316225447837,
          4.112359418449474,
          4.394551344232997,
          4.26227387902197,
          5.173518639364598,
          35,
          19.81957353745216,
          5.276401112306508,
          4.847234225177399,
          6.150902132312739,
          4.997148685749896,
          5.8789984538234075,
          26.896417926242087,
          4.997148685749896,
          6.172948376514578,
          6.4904142930210424,
          22.48716908587453,
          6.4904142930210424,
          16.53468315137833,
          7.111111111111111,
          12.698636660258558,
          4.933920704845816,
          5.8789984538234075,
          4.409248840367556,
          6.349318330129279,
          7.054798144588088,
          10.875,
          6.613873260551332,
          4.5562238017131405,
          3.8801389795234487,
          4.982451189615338,
          3.527399072294044,
          4.938358701211662,
          33.06936630275666,
          33.06936630275666,
          63.93410818532955,
          5.732023492477822,
          3.7037690259087466,
          5.276401112306508,
          20.26049842148892,
          5.291098608441066,
          12.345896753029155,
          4.997148685749896,
          5.291098608441066,
          5.864300957688848,
          7.3340505711447,
          6.826666666666667,
          8.881057268722467,
          15.432370941286443,
          4.112359418449474,
          4.850173724404311,
          5.6438385156704705,
          4.5562238017131405,
          5.6438385156704705,
          5.291098608441066,
          5.920704845814978,
          5.291098608441066,
          3.1746591650646394,
          4.5562238017131405,
          4.404839591527187,
          4.938358701211662,
          3.668495035185806,
          9.162995594713657,
          4.409248840367556,
          2.645549304220533,
          4.5562238017131405,
          3.5251944478738606,
          5.291098608441066,
          4.519480061376744,
          3.747861514312422,
          5.732023492477822,
          9.244444444444445,
          5.291098608441066,
          5.6438385156704705,
          4.409248840367556,
          5.582109031905325,
          5.438073569786652,
          4.112359418449474,
          3.668495035185806,
          5.6438385156704705,
          5.291098608441066,
          5.291098608441066,
          5.585048531132237,
          4.1006014215418265,
          4.1006014215418265,
          6.172948376514578,
          6.025973415168993,
          8,
          5.638766519823789,
          6.613873260551332,
          3.8801389795234487,
          5.356828193832599,
          8.183565847722182,
          5.570351034997678,
          5.291098608441066,
          4.629711282385933,
          3.5127015761594853,
          0.00525,
          5.8789984538234075,
          5.8789984538234075,
          11.763875906100637,
          11.763875906100637,
          5.291098608441066,
          4.406309341140644,
          4.43,
          3.963914707490432,
          5.034102390316786,
          11.226600000000001,
          4.997148685749896,
          5.291098608441066,
          4.703198763058726,
          5.291098608441066,
          4.703198763058726,
          4.409248840367556,
          5.291098608441066,
          4.997148685749896,
          5.144123647095481,
          4.0418114370035925,
          5.144123647095481,
          6.025973415168993,
          6.172948376514578,
          5.511561050459444,
          4.629711282385933,
          4.335761359694763,
          5.864300957688848,
          11.763875906100637,
          5.732023492477822,
          5.732023492477822,
          5.732023492477822,
          33.06936630275666,
          4.923661205077104,
          4.997148685749896,
          3.9683239563308,
          4.850173724404311,
          3.5127015761594853,
          5.8789984538234075,
          6.172948376514578,
          4.703198763058726,
          4.982451189615338,
          3.527399072294044,
          7.200000000000001,
          5.291098608441066,
          4.091782923861091,
          4.982451189615338,
          4.761988747596959,
          5.864300957688848,
          3.6008865529668372,
          5.291098608441066,
          5.144123647095481,
          36.651982378854626,
          5.732023492477822,
          4.409248840367556,
          33.06936630275666,
          19.841619781654,
          3.9573008342298808,
          6.466898299205748,
          4.541526305578582,
          5.438073569786652,
          5.864300957688848,
          5.732023492477822,
          9.6,
          8,
          4.997148685749896,
          4.406309341140644,
          4.112359418449474,
          30.864741882572886,
          19.841619781654,
          20.458914619305453,
          6.172948376514578,
          5.291098608441066,
          5.570351034997678,
          5.625,
          7.054798144588088,
          5.876058954596495,
          11.023122100918888,
          5.732023492477822,
          30.833333333333336,
          7.9366479126616,
          14.109596289176176,
          4.994209186522984,
          19.841619781654,
          15.8732958253232,
          11.755057408419905,
          11.755057408419905,
          4.232878886752853,
          4.982451189615338,
          5.585048531132237,
          4.1006014215418265,
          7.642697989970429,
          5.732023492477822,
          19.81957353745216,
          4.409248840367555,
          5.144123647095481,
          4.700259263831814,
          7.054798144588088,
          4.112359418449474,
          5.288159109214154,
          5.144123647095481,
          5.288159109214154,
          5.8789984538234075,
          4.703198763058726,
          6,
          4.232878886752853,
          4.091782923861091,
          4.232878886752853,
          16.16724574801437,
          5.732023492477822,
          5.144123647095481,
          7.348748067279259,
          6.760848221896919,
          12,
          6.172948376514578,
          5.6438385156704705,
          19.81957353745216,
          6.613873260551332,
          5.438073569786652,
          6.4,
          4.673803770789609,
          4.997148685749896,
          5.585048531132237,
          5.8789984538234075,
          6.466898299205748,
          4.967753693480779,
          6,
          6,
          5.276401112306508,
          26.45549304220533,
          6.613873260551332,
          7.613302997701312,
          7.054798144588088,
          5.291098608441066,
          4.26227387902197,
          6.170008877287666,
          4.1006014215418265,
          5.585048531132237,
          4.112359418449474,
          8.796451436533271,
          8.796451436533271,
          5.291098608441066,
          11.763875906100637,
          5.585048531132237,
          5.291098608441066,
          5.291098608441066,
          4.407044215947371,
          4.703198763058726,
          5.291098608441066,
          7.613302997701312,
          6.907823183242503,
          19.333333333333332,
          12.088888888888889,
          6.907823183242503,
          5.291098608441066,
          12.720682904460398,
          4.703198763058726,
          13.227746521102665,
          13.227746521102665,
          4.409248840367556,
          4.850173724404311,
          5.72908399325091,
          5.585048531132237,
          5.291098608441066,
          50,
          3.5555555555555554,
          5.291098608441066,
          6.7726062188045635,
          4.982451189615338,
          4.997148685749896,
          4.585618793982257,
          4.997148685749896,
          15.520555918093795,
          16.29217446515812,
          4.688501266924168,
          4.997148685749896,
          3.9683239563308,
          10.582197216882133,
          5.6000000000000005,
          5.291098608441066,
          6.391206194112771,
          4.409248840367556,
          5.9524859344962,
          9.964902379230676,
          3.8213489949852146,
          5.438073569786652,
          5.585048531132237,
          4.76198874759696,
          4.938358701211662,
          4.112359418449474,
          5.933333333333334,
          4.688501266924168,
          16.53468315137833,
          6.760848221896919,
          4.688501266924168,
          5.291098608441066,
          3.9705882352941173,
          8.377572796698354,
          5.864300957688848,
          4.673803770789609,
          5.864300957688848,
          17.592902873066542,
          37.03769025908746,
          10.934937124111537,
          10.229457309652727,
          28.19714633415052,
          21.60531931780102,
          17.63699536147022,
          10.582197216882133,
          14.109596289176176,
          22.046244201837776,
          1.3220397773035386,
          2.0932908869644966,
          1.3958946953796953,
          4.703198763058726,
          17.066666666666666,
          8.533333333333333,
          12.345896753029155,
          5.291098608441066,
          4.394551344232997,
          9.386666666666667,
          5.732023492477822,
          7.3340505711447,
          5.8789984538234075,
          5.079454664103424,
          17.63699536147022,
          26.45549304220533,
          5.585048531132237,
          8.818497680735112,
          4.409248840367556,
          4.409248840367556,
          4.409248840367556,
          5.291098608441066,
          6.172948376514578,
          4.673803770789609,
          3.668495035185806,
          4.703198763058726,
          5.291098608441066,
          6.760848221896919,
          4.997148685749896,
          5.585048531132237,
          21.164394433764265,
          16.666666666666664,
          9.867841409691632,
          15.432370941286443,
          44.048395915271875,
          8.355526552496517,
          13.227746521102665,
          90.83052611157164,
          4.820778732135193,
          11.763875906100637,
          4.409248840367556,
          6.231738361052812,
          4.541526305578582,
          4.938358701211662,
          3.668495035185806,
          3.8801389795234487,
          6.466898299205748,
          8.664173971322246,
          4.76198874759696,
          7.713980846223039,
          16.695652173913043,
          7.348748067279259,
          9.920809890827,
          6.343612334801763,
          9.867841409691632,
          6.172948376514578,
          4.232878886752853,
          6.760848221896919,
          5.585048531132237,
          22.70763152789291,
          21.164394433764265,
          26.45549304220533,
          35.27399072294044,
          18.782608695652176,
          38.4,
          22.046244201837776,
          11.226600000000001,
          10.773000000000001,
          5.585048531132237,
          5.026543678019014,
          3.527399072294044,
          3.527399072294044,
          5.496863554324886,
          35.22989823453677,
          4.938358701211662,
          5.9524859344962,
          4.409248840367556,
          5.8789984538234075,
          6,
          5.291098608441066,
          4.629711282385933,
          6,
          4.26227387902197,
          17.614949117268385,
          4.585618793982257,
          3.527399072294044,
          8.796451436533271,
          5.732023492477822,
          26.45549304220533,
          32.30509650375962,
          5.291098608441066,
          6.956521739130435,
          5.291098608441066,
          25.6,
          19.2,
          5.8789984538234075,
          17.63699536147022,
          5.638766519823789,
          7.040100648453531,
          6.466898299205748,
          476.1904761904762,
          7.822222222222224,
          17.614949117268385,
          17.614949117268385,
          5.291098608441066,
          65,
          5.8789984538234075,
          5.291098608441066,
          4.703198763058726,
          6.4522008030711895,
          5.276401112306508,
          6.158250880380018,
          1.973568281938326,
          6.4,
          7.2017731059336745,
          5.05593867028813,
          5.6438385156704705,
          4.967753693480779,
          110.23122100918887,
          9.671111111111113,
          26.45549304220533,
          5.8789984538234075,
          9.120000000000001,
          5.864300957688848,
          6.172948376514578,
          8,
          5.864300957688848,
          6.172948376514578,
          6.4,
          5.291098608441066,
          4.982451189615338,
          4.8,
          4.982451189615338,
          41.123594184494735,
          4.232878886752853,
          4.232878886752853,
          6.170008877287666,
          555.5555555555555,
          60,
          0.0039,
          0.0039,
          17.592902873066542,
          4.688501266924168,
          4.938358701211663,
          4.76198874759696,
          5.288159109214154,
          5.288159109214154,
          5.288159109214154,
          8,
          5.511561050459444,
          2.8193832599118944,
          5.582109031905325,
          4.409248840367556,
          5.291098608441066,
          4.5,
          4.703198763058726,
          6.724104481560522,
          3.9683239563308,
          5.291098608441066,
          8.796451436533271,
          4.031313225478908,
          8.8,
          16,
          8,
          17.592902873066542,
          5.805510973150615,
          0.032,
          0.032,
          0.032,
          8.533333333333333,
          0.032,
          4.112359418449474,
          3.218751653468315,
          4.406309341140644,
          4.112359418449474,
          5.287571209368772,
          4.112359418449474,
          3.3186946271833135,
          1.5410324697084605,
          1.4668101142289403,
          1.489524426436894,
          0.990978676872608,
          3.083534689030377,
          27.75622145011376,
          45.150708125363764,
          6.208222367237518,
          4.511013215859031,
          5.585048531132237,
          6.757908722670006,
          3.527399072294044,
          5.144123647095481,
          5.291098608441066,
          6.613873260551332,
          5.732023492477822,
          7.8766519823788546,
          7.43612334801762,
          5.805510973150615,
          5.585048531132237,
          3.527399072294044,
          13.227746521102665,
          5.217611127768274,
          4.76198874759696,
          9.6,
          4.406309341140644,
          5.288159109214154,
          4.703198763058726,
          4.232878886752853,
          5.261703616171949,
          10.582197216882133,
          3.9683239563308,
          5.8789984538234075,
          5.879411764705882,
          4.115298917676386,
          17.61179965381098,
          17.61179965381098,
          6.170008877287666,
          5.864300957688848,
          4.409248840367556,
          4.997148685749896,
          4.997148685749896,
          9.700347448808621,
          6.613873260551332,
          5.291098608441066,
          4.997148685749896,
          4.115298917676386,
          5.291098608441066,
          5.8789984538234075,
          4.482736321040348,
          6.466898299205748,
          6.760848221896919,
          6.907823183242503,
          8.48,
          4.850173724404311,
          4.776686243731518,
          5.3498885929793,
          22.0021517134341,
          6.172948376514578,
          4.409248840367556,
          5.585048531132237,
          8.52454775804394,
          8.52454775804394,
          4.112359418449474,
          4.406309341140644,
          4.997148685749896,
          4.112359418449474,
          5.8789984538234075,
          4.112359418449474,
          44.048395915271875,
          6.74615072576236,
          4.394551344232997,
          5.732023492477822,
          5.8789984538234075,
          4.232878886752853,
          4.703198763058726,
          4.232878886752853,
          9.700347448808621,
          11.728601915377697,
          5.144123647095481,
          7.3340505711447,
          17.592902873066542,
          7.054798144588088,
          10.582197216882133,
          10.582197216882133,
          4.26227387902197,
          6.170008877287666,
          5.585048531132237,
          4.232878886752853,
          20.26049842148892,
          20.547099596112812,
          5.291098608441066,
          17.636995361470223,
          8.803800184600552,
          5.291098608441066,
          13.227746521102665,
          5.8789984538234075,
          5.864300957688848,
          5.585048531132237,
          8.458149779735683,
          5.6438385156704705,
          12.345896753029153,
          10.582197216882133,
          17.63699536147022,
          6.74615072576236,
          5.232308623902833,
          5.585048531132237,
          5.144123647095481,
          13.227746521102665,
          4.406309341140644,
          9.28,
          4.703198763058726,
          6.349318330129279,
          5.864300957688848,
          5.511561050459444,
          14.550521173212932,
          14.550521173212932,
          5.8789984538234075,
          6.172948376514578,
          6.172948376514578,
          4.703198763058726,
          4.997148685749896,
          3.9683239563308,
          2.9394992269117037,
          16.711053104993034,
          5.8789984538234075,
          5.291098608441066,
          7.3340505711447,
          3.1746591650646394,
          5.291098608441066,
          11.287677031340941,
          5.291098608441066,
          4.997148685749896,
          4.688501266924168,
          4.688501266924168,
          2.645549304220533,
          6.545454545454546,
          17.636995361470223,
          7.348748067279259,
          16.75514559339671,
          11.023122100918888,
          5.291098608441066,
          4.409248840367556,
          6.172948376514578,
          5.585048531132237,
          6.172948376514578,
          5.291098608441066,
          6.172948376514578,
          9.964902379230676,
          8.230597835352771,
          3.8801389795234487,
          0.028219192578352353,
          5.8789984538234075,
          4.982451189615338,
          5.364586089113859,
          5.276401112306508,
          17.61935836610875,
          5.585048531132237,
          4.115298917676386,
          4.115298917676386,
          26.411400553801656,
          11.728601915377697,
          17.61935836610875,
          17.592902873066542,
          35.185805746133084,
          5.7657657657657655,
          5.6438385156704705,
          5.818181818181818,
          8.465757773505706,
          9.876717402423324,
          5.291098608441066,
          11.333333333333332,
          5.8789984538234075,
          5.291098608441066,
          5.291098608441066,
          5.291098608441066,
          5.8789984538234075,
          14.697496134558518,
          13.815646366485007,
          3.911111111111112,
          5.291098608441066,
          5.8789984538234075,
          4.850173724404311,
          4.115298917676386,
          6.613873260551332,
          4.700259263831814,
          5.291098608441066,
          9.574368910512405,
          4.688501266924168,
          5.585048531132237,
          5.585048531132237,
          6.613873260551332,
          5.291098608441066,
          13.521696443793838,
          6.466898299205748,
          6.172948376514578,
          6.907823183242503,
          4.409248840367556,
          5.582109031905325,
          4.409248840367556,
          5.43513407055974,
          4.997148685749896,
          4.997148685749896,
          4.280750731305415,
          4.280750731305415,
          4.280750731305415,
          4.703198763058726,
          4.703198763058726,
          4.703198763058726,
          5.6438385156704705,
          4.091782923861091,
          5.8789984538234075,
          5.818181818181818,
          8.81849768073511,
          5.28,
          6.172948376514578,
          7.048458149779736,
          7.3340505711447,
          7.3340505711447,
          7.054798144588088,
          4.982451189615338,
          6.4,
          9.73913043478261,
          5.291098608441066,
          4.409248840367555,
          6.466898299205748,
          7.054798144588088,
          8.814970281662815,
          6.172948376514578,
          6.760848221896919,
          5.6438385156704705,
          26.411400553801656,
          22.0021517134341,
          5.864300957688848,
          4.1006014215418265,
          5.511561050459444,
          5.732023492477822,
          5.144123647095481,
          3.527399072294044,
          8,
          5.288159109214154,
          10.582197216882133,
          5.364586089113859,
          4.703198763058726,
          14.697496134558518,
          6.757908722670006,
          5.291098608441066,
          6.172948376514578,
          5.8789984538234075,
          5.8789984538234075,
          5.732023492477822,
          5.8789984538234075,
          6.343612334801763,
          27.75622145011376,
          11.023122100918888,
          22.0021517134341,
          8.814088431894742,
          5.570351034997678,
          6.025973415168993,
          4.703198763058726,
          80,
          5.585048531132237,
          7.613302997701312,
          13.227746521102665,
          3.8801389795234487,
          5.261703616171949,
          5.511561050459444,
          12.345896753029155,
          6.466898299205748,
          5.8789984538234075,
          6.760848221896919,
          14.109596289176176,
          6.466898299205748,
          4.997148685749896,
          10.573913043478262,
          7.822222222222224,
          6.343612334801763,
          4.585618793982257,
          6.4522008030711895,
          7.333333333333333,
          8,
          6.760848221896919,
          5.291098608441066,
          3.8213489949852146,
          4.850173724404311,
          4.850173724404311,
          4.850173724404311,
          2.9394992269117037,
          1.4697496134558519,
          1.4697496134558519,
          5.6438385156704705,
          21.164394433764265,
          10.578669817809837,
          7.348748067279259,
          5.291098608441066,
          6.907823183242503,
          4.982451189615338,
          6.74615072576236,
          4.585618793982257,
          17.592902873066542,
          17.592902873066542,
          5.8789984538234075,
          4.644408778520492,
          6.466898299205748,
          5.291098608441066,
          5.582109031905325,
          5.8789984538234075,
          5.8789984538234075,
          0.8,
          4.982451189615338,
          57.27614243637454,
          49.97148685749897,
          28.660117462389106,
          6.466898299205748,
          12.78682163706591,
          13.66867140513942,
          2.9394992269117037,
          7.348748067279259,
          7.348748067279259,
          3.8213489949852146,
          16.93151554701141,
          5.276401112306508,
          16.125252901915633,
          25.195707659243173,
          5.864300957688848,
          16.125252901915633,
          4.585618793982257,
          5.570351034997678,
          4.585618793982257,
          56.00000000000001,
          4.373974849644615,
          44.09248840367555,
          49.97148685749897,
          5.291098608441066,
          5.585048531132237,
          5.8789984538234075,
          5.28,
          15.432370941286443,
          33.047320058554824,
          17.614949117268385,
          5.8789984538234075,
          0.014109596289176176,
          6.349318330129279,
          9.6,
          5.291098608441066,
          6.343612334801763,
          6.4,
          26.411400553801656,
          6.170008877287666,
          22.0021517134341,
          7.3340505711447,
          3.818409495758303,
          17.592902873066542,
          16.53468315137833,
          14.550521173212932,
          14.330058731194553,
          16.53468315137833,
          33.86303109402282,
          5.864300957688848,
          5.291098608441066,
          8.803800184600552,
          6.466898299205748,
          4.703198763058726,
          5.288159109214154,
          5.288159109214154,
          5.288159109214154,
          90.83052611157164,
          90.83052611157164,
          6.466898299205748,
          24.250868622021553,
          40,
          4.115298917676386,
          4.409248840367556,
          4.409248840367556,
          6.172948376514578,
          8.803800184600552,
          17.49589939857846,
          0.008228,
          0.008228,
          4,
          4,
          6.6255506607929515,
          10.017391304347825,
          4.688501266924168,
          5.217611127768274,
          6.349318330129279,
          4.232878886752853,
          17.63699536147022,
          24.69179350605831,
          17.592902873066542,
          6.760848221896919,
          7.3340505711447,
          6.466898299205748,
          17.592902873066542,
          5.291098608441066,
          6.466898299205748,
          9.523977495193918,
          11.287677031340941,
          4.938358701211662,
          4.982451189615338,
          3.130434782608696,
          4.232878886752853,
          20.869565217391305,
          11.757996907646815,
          9.6,
          8.32,
          28.800000000000004,
          5.8789984538234075,
          0.016,
          6.172948376514578,
          5.570351034997678,
          5.8789984538234075,
          36.684950351858056,
          8.818497680735112,
          14.697496134558518,
          5.291098608441066,
          16.666666666666664,
          5.8789984538234075,
          4.688501266924168,
          5.291098608441066,
          4.629711282385933,
          11.464046984955644,
          66.09464011710965,
          6.319923337860163,
          4.7972627383199,
          11.640416938570345,
          4.373974849644615,
          8.230597835352771,
          5.8789984538234075,
          18.75,
          13.5,
          5.585048531132237,
          22.0021517134341,
          26.411400553801656,
          6.74615072576236,
          22.0021517134341,
          5.361646589886948,
          6.463958799978836,
          5.8789984538234075,
          5.8789984538234075,
          8.373163547857986,
          9.964902379230676,
          4.373974849644615,
          8.74794969928923,
          4.177763276248259,
          8.347826086956522,
          8.223249087285488,
          8.671522719389525,
          5.8789984538234075,
          5.585048531132237,
          4.232878886752853,
          4.409248840367555,
          4.982451189615338,
          4.997148685749896,
          5.244052863436123,
          5.8789984538234075,
          5.570351034997678,
          5.585048531132237,
          3.552422907488987,
          7.3340505711447,
          7.054798144588088,
          7.054798144588088,
          6.613873260551332,
          5.585048531132237,
          5.585048531132237,
          4.16553763173633,
          4.16553763173633,
          5.8789984538234075,
          5.12,
          5.585048531132237,
          4.982451189615338,
          0.010744,
          0.035904,
          6.222222222222222,
          6.172948376514578,
          5.585048531132237,
          4.409248840367556,
          9.244444444444445,
          3.8213489949852146,
          5.291098608441066,
          4.409248840367556,
          6.025973415168993,
          5.291098608441066,
          5.585048531132237,
          5.511561050459444,
          4.406309341140644,
          5.585048531132237,
          5.585048531132237,
          5.570351034997678,
          26.411400553801656,
          8.789102688465993,
          35.22989823453677,
          17.592902873066542,
          7.3340505711447,
          4.629711282385933,
          5.8789984538234075,
          6.172948376514578,
          5.638766519823789,
          11.9049718689924,
          4.582091394909963,
          3.6743740336396296,
          5.818181818181818,
          4.629711282385933,
          3.9683239563308,
          4.629711282385933,
          4.629711282385933,
          22.0021517134341,
          5.805510973150615,
          11.728601915377697,
          5.570351034997678,
          22.0021517134341,
          5.288159109214154,
          8.809679183054374,
          6.956521739130435,
          3.9627426286847642,
          3.9627426286847642,
          4.078555177339989,
          5.276401112306508,
          4.703198763058726,
          8.818497680735112,
          4.703198763058726,
          4.703198763058726,
          4.703198763058726,
          4.703198763058726,
          38.58092735321611,
          26.45549304220533,
          12.345896753029153,
          8.52454775804394,
          14.550521173212932,
          25.195707659243173,
          5.291098608441066,
          4.703198763058726,
          13.815646366485007,
          5.8789984538234075,
          5.291098608441066,
          5.119999999999999,
          4.977777777777778,
          5.502742552778709,
          8.52454775804394,
          6.466898299205748,
          12.345896753029155,
          25.17051195158393,
          7.716185470643222,
          5.585048531132237,
          4.16553763173633,
          4.76198874759696,
          4.16553763173633,
          6.343612334801763,
          4.16553763173633,
          8.803800184600552,
          4.078555177339989,
          40,
          4.409248840367555,
          13.227746521102665,
          4.703198763058726,
          26.411400553801656,
          4.982451189615338,
          5.8789984538234075,
          5.6438385156704705,
          8.533333333333333,
          7.348748067279259,
          5.732023492477822,
          7.048458149779736,
          12.687224669603525,
          5.12,
          7.894273127753304,
          7.3340505711447,
          7.348748067279259,
          7.273055962186283,
          9.171237587964514,
          15.520555918093795,
          3.2496163953508885,
          7.111111111111111,
          5.8789984538234075,
          8.818497680735112,
          4.585618793982257,
          4.232878886752853,
          8,
          8.8,
          10,
          5.276401112306508,
          4.115298917676386,
          5.276401112306508,
          4.115298917676386,
          4.688501266924168,
          6.466898299205748,
          7.348748067279259,
          7.348748067279259,
          7.345808568052346,
          4.644408778520492,
          7.275260586606466,
          7.9366479126616,
          6.4,
          26.411400553801656,
          4.700259263831814,
          7.054798144588088,
          5.8789984538234075,
          5.8789984538234075,
          4.997148685749896,
          4.982451189615338,
          6.319923337860163,
          3.9661193319106154,
          5.144123647095481,
          6.613873260551332,
          3.104111183618759,
          5.640311116598176,
          7.3340505711447,
          4.091782923861091,
          6.02303391594208,
          19.75343480484665,
          4.585618793982257,
          5.291098608441066,
          7.054798144588088,
          25.573643274131825,
          8.230597835352771,
          7.348748067279259,
          10.666666666666668,
          7.348748067279259,
          13.866666666666665,
          30.933333333333334,
          22.046244201837776,
          13.227746521102665,
          8.521608258817029,
          6.025973415168993,
          6.172948376514578,
          5.8789984538234075,
          4.688501266924168,
          15.432370941286443,
          9.6,
          7.9366479126616,
          15.432370941286443,
          15.432370941286443,
          3.574431059924631,
          3.574431059924631,
          5.291098608441066,
          5.784934478562233,
          3.8801389795234487,
          8.959999999999999,
          7.048458149779736,
          6.343612334801763,
          4.394551344232997,
          4.091782923861091,
          7.048458149779736,
          9.58590308370044,
          3.8801389795234487,
          6.684444444444444,
          22.024197957635938,
          5.864300957688848,
          7.670000000000001,
          4.703198763058726,
          4.933920704845816,
          5.291098608441066,
          6.319923337860163,
          4.406309341140644,
          3.818409495758303,
          7.345808568052346,
          66.09464011710965,
          17.63699536147022,
          5.276401112306508,
          21.38053097345133,
          4.115298917676386,
          6.466898299205748,
          4.5150708125363765,
          4,
          3.6651982378854626,
          13.227746521102665,
          5.582109031905325,
          16.15254825187981,
          5.732023492477822,
          5.291098608441066,
          6.025973415168993,
          6.025973415168993,
          11.743299411512256,
          6.466898299205748,
          3.668495035185806,
          5.585048531132237,
          5.291098608441066,
          4.409248840367556,
          11.023122100918888,
          9.162995594713657,
          17.636995361470223,
          39,
          17.94,
          18.58407079646018,
          18.58407079646018,
          7.3340505711447,
          25.71428571428571,
          7.054798144588088,
          8.789102688465993,
          22.0021517134341,
          5.8789984538234075,
          7.054798144588088,
          5.276401112306508,
          4.703198763058726,
          4.688501266924168,
          7.348748067279259,
          6.907823183242503,
          4.997148685749896,
          4.703198763058726,
          4.16,
          4.16,
          4.688501266924168,
          3.6920110290011,
          3.6920110290011,
          4.394551344232997,
          22.784000000000002,
          7.296000000000001,
          20.224,
          19.2,
          6.172948376514578,
          11.170097062264475,
          17.066666666666666,
          4.266666666666667,
          22.0021517134341,
          7.3340505711447,
          22.0021517134341,
          9.479885006790244,
          6.172948376514578,
          5.585048531132237,
          7.9366479126616,
          5.864300957688848,
          4.078555177339989,
          5.864300957688848,
          7.642697989970429,
          6.466898299205748,
          3.6306536337456894,
          7.054798144588088,
          23.51599381529363,
          6.907823183242503,
          6.025973415168993,
          1.4128035320088301,
          14.109596289176176,
          21.157339635619675,
          8.81849768073511,
          17.63699536147022,
          18.812795052234904,
          21.44658635954779,
          4.982451189615338,
          5.570351034997678,
          4.982451189615338,
          5.6438385156704705,
          10.288247294190962,
          10.288247294190962,
          3.8801389795234487,
          5.291098608441066,
          8.465757773505706,
          4.585618793982257,
          6.610933761324421,
          7.642697989970429,
          5.72908399325091,
          4.112359418449474,
          12.345896753029155,
          7.348748067279259,
          7.3340505711447,
          3.524229074889868,
          6.613873260551332,
          5.638766519823789,
          5.8789984538234075,
          8.818497680735112,
          12.521739130434783,
          4.406309341140644,
          4.1006014215418265,
          11.020917476498704,
          12.444444444444445,
          5.585048531132237,
          6.172948376514578,
          5.570351034997678,
          7.9366479126616,
          10.573378719201397,
          5.291098608441066,
          44.09248840367555,
          7.04,
          4.703198763058726,
          5.276401112306508,
          4.409248840367556,
          16.93151554701141,
          3.9506869609693296,
          27.75622145011376,
          23.36901885394804,
          26.45549304220533,
          27.75622145011376,
          6.760848221896919,
          5.864300957688848,
          6.466898299205748,
          7.348748067279259,
          4.703198763058726,
          6.466898299205748,
          7.348748067279259,
          83.77572796698355,
          10.582197216882133,
          26.45549304220533,
          70.5479814458809,
          35.27399072294044,
          25.6,
          16,
          5.438073569786652,
          6.6000000000000005,
          39.66119331910616,
          22.024197957635938,
          4.700259263831814,
          6.907823183242503,
          4.700259263831814,
          5.8789984538234075,
          3.818409495758303,
          11.666666666666666,
          8.230597835352771,
          16.226035732552603,
          7.048458149779736,
          5.356828193832599,
          6.172948376514578,
          22.024197957635938,
          132.27746521102665,
          127.8682163706591,
          29.394992269117036,
          16.75514559339671,
          6.466898299205748,
          6.463958799978836,
          6.170008877287666,
          5.291098608441066,
          22.046244201837776,
          35.27399072294044,
          0.039506869609693296,
          0.028219192578352353,
          11.757996907646815,
          400,
          7.348748067279259,
          4.997148685749896,
          4.078555177339989,
          5.8789984538234075,
          6.4,
          4.409248840367556,
          22.53333333333333,
          3.8213489949852146,
          3.8213489949852146,
          7.054798144588088,
          2.9394992269117037,
          3.8213489949852146,
          4.850173724404311,
          1.4697496134558519,
          4.850173724404311,
          4.850173724404311,
          3.8213489949852146,
          1.4697496134558519,
          5.6438385156704705,
          5.291098608441066,
          5.291098608441066,
          5.291098608441066,
          7.760277959046897,
          4.115298917676386,
          3.9473275332814306,
          22.046244201837776,
          6.466898299205748,
          5.585048531132237,
          26.45549304220533,
          6.025973415168993,
          5.8789984538234075,
          4.997148685749896,
          7.048458149779736,
          13.227746521102665,
          44.09248840367555,
          7.348748067279259,
          8.81849768073511,
          7.642697989970429,
          10.582197216882133,
          7.642697989970429,
          5.6438385156704705,
          12.301804264625478,
          4.982451189615338,
          8.52454775804394,
          7.054798144588088,
          10.4,
          11.023122100918888,
          5.585048531132237,
          11.023122100918888,
          5.585048531132237,
          4.571428571428571,
          7.348748067279259,
          3.9473275332814306,
          8.8,
          4.115298917676386,
          4.115298917676386,
          7.716185470643222,
          15.410324697084606,
          4.700259263831814,
          4.700259263831814,
          11.00107585671705,
          3.818409495758303,
          6.000000000000001,
          5.585048531132237,
          5.291098608441066,
          11.287677031340941,
          5.291098608441066,
          5.8789984538234075,
          7.9366479126616,
          5.585048531132237,
          11.31707202361006,
          13.451327433628318,
          7.348748067279259,
          5.333333333333334,
          6.760848221896919,
          5.8789984538234075,
          3.9473275332814306,
          5.291098608441066,
          10.453333333333333,
          2.8219192578352352,
          4.703198763058726,
          5.291098608441066,
          4.997148685749896,
          4.703198763058726,
          4.703198763058726,
          3.84,
          6.466898299205748,
          9.920809890827,
          5.585048531132237,
          5.144123647095481,
          5.288159109214154,
          7.348748067279259,
          5.288159109214154,
          4.700259263831814,
          5.585048531132237,
          15.8732958253232,
          6.684444444444444,
          5.262222222222222,
          6.349318330129279,
          6.349318330129279,
          5.262222222222222,
          4.232878886752853,
          22.024197957635938,
          7.345808568052346,
          5.582109031905325,
          4.666666666666667,
          7.9366479126616,
          11.023122100918888,
          6.172948376514578,
          6.466898299205748,
          4.26227387902197,
          5.217611127768274,
          6.466898299205748,
          40.56508933138151,
          35.27399072294044,
          36.11174800261028,
          35.27399072294044,
          22.046244201837776,
          10.582197216882133,
          10.582197216882133,
          37.03769025908746,
          11.464046984955644,
          17.63699536147022,
          6.172948376514578,
          6.172948376514578,
          5.585048531132237,
          2.2555066079295156,
          14.109596289176176,
          4.938358701211662,
          5.8789984538234075,
          7.642697989970429,
          5.585048531132237,
          5.8789984538234075,
          5.079454664103424,
          5.6438385156704705,
          8.208695652173912,
          10.572687224669604,
          5.8789984538234075,
          7.9366479126616,
          7.054798144588088,
          6.172948376514578,
          26.45549304220533,
          5.8789984538234075,
          5.8789984538234075,
          25.6,
          22.400000000000002,
          29.078996102224025,
          115.20000000000002,
          8.818497680735112,
          7.2017731059336745,
          10.053087356038027,
          4.26227387902197,
          5,
          6.981818181818182,
          3.9573008342298808,
          3.8948364756580074,
          4.409248840367556,
          3.818409495758303,
          2.67494429648965,
          2.9336202284578805,
          19.75343480484665,
          11.287677031340941,
          5.288159109214154,
          7.642697989970429,
          5.585048531132237,
          14.991446057249687,
          5.732023492477822,
          7.642697989970429,
          5.585048531132237,
          7.054798144588088,
          5.291098608441066,
          5.291098608441066,
          5.864300957688848,
          5.291098608441066,
          4.982451189615338,
          6.907823183242503,
          6.466898299205748,
          7.054798144588088,
          123.45896753029155,
          7.054798144588088,
          22.046244201837776,
          5.585048531132237,
          5.8789984538234075,
          5.732023492477822,
          5.291098608441066,
          5.291098608441066,
          4.997148685749896,
          26.45549304220533,
          26.45549304220533,
          26.45549304220533,
          10.288247294190962,
          14.109596289176176,
          4.933920704845816,
          7.048458149779736,
          4.933920704845816,
          4.933920704845816,
          4.933920704845816,
          16.5,
          6.466898299205748,
          5.291098608441066,
          6.760848221896919,
          4.850173724404311,
          5.438073569786652,
          6.760848221896919,
          5.6438385156704705,
          15.432370941286443,
          8.465757773505706,
          3.9506869609693296,
          5.565217391304348,
          11.287677031340941,
          8.230597835352771,
          4.7972627383199,
          4.078555177339989,
          5.079454664103424,
          7.75330396475771,
          13.392070484581497,
          5.570351034997678,
          8.818497680735112,
          11.170097062264475,
          6.550883991403225,
          5.8789984538234075,
          5.291098608441066,
          14.697496134558518,
          6.343612334801763,
          6.343612334801763,
          8.818497680735112,
          9.345132743362832,
          5.732023492477822,
          5.291098608441066,
          5.291098608441066,
          5.876058954596495,
          61.657142857142865,
          5.291098608441066,
          6.545454545454546,
          6.760848221896919,
          5.585048531132237,
          4.585618793982257,
          4.585618793982257,
          5.291098608441066,
          5.217611127768274,
          5.511561050459444,
          7.9366479126615985,
          28.660117462389106,
          26.45549304220533,
          5.582109031905325,
          5.582109031905325,
          5.511561050459444,
          6.760848221896919,
          5.732023492477822,
          15.712959503855286,
          4.924249104922486,
          15.57934590263203,
          15.57934590263203,
          11.132471472160004,
          4.924249104922486,
          4.115298917676386,
          11.464046984955644,
          4.112359418449474,
          4.115298917676386,
          4.115298917676386,
          4.115298917676386,
          4.112359418449474,
          6.760848221896919,
          5.8789984538234075,
          6.172948376514578,
          6.466898299205748,
          4.688501266924168,
          5.864300957688848,
          11.596324450166671,
          13.227746521102665,
          96.00000000000001,
          9.6,
          3.2422907488986783,
          6.172948376514578,
          7.642697989970429,
          5.8789984538234075,
          7.348748067279259,
          14.08,
          10.08,
          4.938358701211662,
          15.520555918093795,
          5.276401112306508,
          26.45549304220533,
          5.585048531132237,
          11.170097062264475,
          6.343612334801763,
          6.343612334801763,
          6.343612334801763,
          5.144123647095481,
          5.144123647095481,
          5.482166058190327,
          28.660117462389106,
          6.466898299205748,
          8,
          4.409248840367556,
          4.994209186522984,
          6.172948376514578,
          4.739942503395122,
          7.054798144588088,
          4.078555177339989,
          7.054798144588088,
          5.585048531132237,
          44.09248840367555,
          7.9366479126616,
          44.09248840367555,
          11.023122100918888,
          40,
          7.048458149779736,
          8.458149779735683,
          7.048458149779736,
          6.086956521739131,
          4.186581773928993,
          66.66666666666666,
          7.048458149779736,
          22.024197957635938,
          5.144123647095481,
          6.466898299205748,
          10.582197216882133,
          6.466898299205748,
          8.377572796698356,
          5.438073569786652,
          5.864300957688848,
          5.629728919381295,
          6.053016808056579,
          7.054798144588088,
          4.997148685749896,
          3.527399072294044,
          2.8219192578352352,
          3.8213489949852146,
          9.244444444444445,
          6.466898299205748,
          5.585048531132237,
          6.298926914810793,
          7.642697989970429,
          4.9089637089425455,
          7.054798144588088,
          11.61102194630123,
          35.27399072294044,
          4.997148685749896,
          5.288159109214154,
          5.288159109214154,
          4.994209186522984,
          5.570351034997678,
          8.8,
          9.171237587964514,
          12.629333333333333,
          4.4,
          5.8789984538234075,
          8.458149779735683,
          10.434782608695652,
          6.349318330129279,
          7.348748067279259,
          7.054798144588088,
          25.57364327413182,
          17.284255454240814,
          5.502742552778709,
          7.495723028624844,
          8.465757773505706,
          9.876717402423324,
          6.466898299205748,
          14.219827510185365,
          4.703198763058726,
          3.736838392211503,
          11.333333333333332,
          6.466898299205748,
          6.613873260551332,
          7.642697989970429,
          7.642697989970429,
          5.585048531132237,
          5.291098608441066,
          7.330396475770925,
          5.8789984538234075,
          8.8,
          8.8,
          6.4522008030711895,
          4.982451189615338,
          5.6438385156704705,
          5.6438385156704705,
          21.14234818956243,
          6.802841067995656,
          6.878428190973386,
          6.802841067995656,
          26.45549304220533,
          4.585618793982257,
          5.6000000000000005,
          5.2,
          7.200000000000001,
          5.2,
          8,
          7.200000000000001,
          5.2,
          12.5,
          7.348748067279259,
          7.348748067279259,
          9,
          7.330396475770925,
          7.407538051817493,
          5.3057961045756254,
          6.907823183242503,
          9.460869565217392,
          5.291098608441066,
          5.8789984538234075,
          6.4904142930210424,
          7.75330396475771,
          7.048458149779736,
          6.466898299205748,
          5.291098608441066,
          8.818497680735112,
          33.86303109402282,
          38.4,
          3.8213489949852146,
          4.850173724404311,
          1.4697496134558519,
          1.4697496134558519,
          11.023122100918888,
          11.023122100918888,
          11.023122100918888,
          11.023122100918888,
          11.023122100918888,
          4.997148685749896,
          8.81849768073511,
          13.518756944566926,
          5.570351034997678,
          128,
          6.760848221896919,
          12.933796598411496,
          10,
          6.172948376514578,
          5.585048531132237,
          9.167710188892219,
          8.8,
          6.08,
          5.8789984538234075,
          10.666666666666668,
          5.8789984538234075,
          13.227746521102665,
          8.113017866276302,
          7.642697989970429,
          7.04,
          4.703198763058726,
          4.703198763058726,
          2.9394992269117037,
          2.9394992269117037,
          4.703198763058726
         ],
         "xaxis": "x",
         "y": [
          92,
          92,
          94,
          93,
          93,
          93,
          93,
          94,
          95,
          93,
          90,
          92,
          92,
          91,
          87,
          93,
          97,
          95,
          92,
          95,
          94,
          93,
          92,
          89,
          93,
          92,
          91,
          90,
          93,
          93,
          92,
          89,
          95,
          93,
          93,
          93,
          93,
          95,
          94,
          93,
          93,
          94,
          96,
          95,
          94,
          96,
          95,
          95,
          95,
          93,
          95,
          93,
          93,
          92,
          96,
          91,
          95,
          93,
          92,
          96,
          92,
          93,
          94,
          95,
          92,
          91,
          90,
          90,
          94,
          93,
          95,
          93,
          93,
          90,
          95,
          94,
          92,
          93,
          95,
          92,
          95,
          92,
          91,
          92,
          92,
          93,
          94,
          93,
          92,
          92,
          92,
          94,
          93,
          93,
          93,
          93,
          94,
          93,
          93,
          96,
          92,
          90,
          91,
          92,
          92,
          94,
          93,
          93,
          92,
          92,
          94,
          94,
          92,
          95,
          92,
          95,
          94,
          93,
          93,
          93,
          93,
          94,
          94,
          94,
          94,
          95,
          94,
          95,
          92,
          94,
          92,
          91,
          94,
          92,
          92,
          92,
          92,
          93,
          94,
          93,
          89,
          94,
          96,
          95,
          95,
          93,
          93,
          94,
          94,
          93,
          93,
          93,
          94,
          93,
          93,
          92,
          92,
          95,
          91,
          92,
          92,
          91,
          91,
          91,
          90,
          93,
          93,
          92,
          93,
          94,
          93,
          92,
          92,
          92,
          90,
          90,
          90,
          93,
          93,
          92,
          92,
          92,
          95,
          93,
          94,
          94,
          90,
          93,
          93,
          93,
          93,
          93,
          92,
          90,
          93,
          91,
          93,
          92,
          95,
          94,
          92,
          95,
          93,
          92,
          94,
          93,
          92,
          92,
          91,
          95,
          92,
          94,
          92,
          90,
          68,
          63,
          93,
          93,
          93,
          93,
          94,
          93,
          92,
          93,
          93,
          93,
          92,
          94,
          94,
          90,
          93,
          91,
          95,
          93,
          96,
          94,
          94,
          94,
          96,
          94,
          93,
          93,
          93,
          93,
          93,
          92,
          92,
          92,
          92,
          93,
          96,
          95,
          93,
          90,
          94,
          92,
          91,
          91,
          92,
          95,
          92,
          95,
          96,
          92,
          92,
          91,
          92,
          95,
          94,
          93,
          93,
          90,
          90,
          90,
          95,
          94,
          95,
          94,
          93,
          93,
          93,
          93,
          93,
          93,
          92,
          90,
          95,
          94,
          94,
          94,
          94,
          93,
          93,
          94,
          93,
          91,
          90,
          94,
          93,
          96,
          91,
          91,
          93,
          94,
          92,
          94,
          93,
          94,
          93,
          92,
          95,
          94,
          95,
          94,
          93,
          93,
          93,
          92,
          92,
          96,
          92,
          92,
          95,
          94,
          94,
          93,
          90,
          93,
          95,
          93,
          94,
          94,
          93,
          93,
          93,
          97,
          94,
          94,
          94,
          94,
          92,
          95,
          92,
          92,
          91,
          94,
          91,
          92,
          93,
          93,
          93,
          94,
          94,
          95,
          93,
          93,
          93,
          93,
          92,
          93,
          93,
          91,
          93,
          93,
          92,
          91,
          92,
          93,
          94,
          94,
          92,
          94,
          97,
          93,
          92,
          95,
          95,
          94,
          94,
          93,
          93,
          92,
          91,
          90,
          92,
          92,
          92,
          91,
          94,
          90,
          90,
          92,
          95,
          92,
          95,
          92,
          93,
          90,
          95,
          92,
          90,
          94,
          94,
          93,
          93,
          91,
          92,
          94,
          94,
          93,
          93,
          93,
          93,
          93,
          92,
          92,
          90,
          90,
          87,
          87,
          91,
          94,
          94,
          93,
          92,
          92,
          95,
          94,
          94,
          94,
          94,
          93,
          96,
          92,
          93,
          92,
          91,
          90,
          93,
          93,
          93,
          93,
          93,
          96,
          94,
          92,
          94,
          90,
          96,
          93,
          94,
          93,
          90,
          93,
          93,
          93,
          94,
          92,
          97,
          92,
          95,
          94,
          94,
          93,
          94,
          92,
          92,
          92,
          91,
          91,
          93,
          92,
          94,
          94,
          92,
          92,
          94,
          96,
          95,
          94,
          94,
          94,
          94,
          92,
          90,
          94,
          93,
          94,
          93,
          93,
          92,
          94,
          91,
          91,
          93,
          93,
          93,
          94,
          94,
          92,
          95,
          94,
          92,
          92,
          94,
          96,
          96,
          93,
          93,
          93,
          92,
          92,
          93,
          93,
          93,
          93,
          93,
          98,
          95,
          93,
          93,
          91,
          96,
          91,
          92,
          92,
          95,
          93,
          93,
          91,
          93,
          93,
          96,
          94,
          90,
          97,
          91,
          96,
          93,
          95,
          93,
          93,
          93,
          93,
          92,
          91,
          90,
          90,
          93,
          93,
          94,
          94,
          94,
          95,
          97,
          97,
          94,
          94,
          93,
          93,
          93,
          92,
          91,
          90,
          88,
          94,
          94,
          93,
          93,
          92,
          92,
          92,
          92,
          91,
          86,
          93,
          92,
          92,
          95,
          94,
          93,
          96,
          95,
          94,
          92,
          92,
          91,
          90,
          92,
          91,
          90,
          90,
          90,
          90,
          90,
          89,
          89,
          88,
          87,
          87,
          95,
          94,
          91,
          90,
          93,
          94,
          93,
          93,
          92,
          92,
          92,
          93,
          91,
          94,
          94,
          92,
          91,
          92,
          90,
          94,
          93,
          92,
          92,
          94,
          91,
          92,
          91,
          95,
          93,
          88,
          91,
          90,
          95,
          92,
          90,
          92,
          90,
          96,
          94,
          93,
          93,
          93,
          92,
          92,
          92,
          92,
          94,
          94,
          92,
          94,
          93,
          92,
          93,
          92,
          93,
          93,
          94,
          94,
          94,
          91,
          93,
          92,
          91,
          90,
          95,
          94,
          90,
          93,
          93,
          94,
          93,
          93,
          92,
          93,
          92,
          94,
          93,
          92,
          92,
          91,
          96,
          96,
          95,
          95,
          94,
          94,
          93,
          94,
          94,
          93,
          94,
          93,
          93,
          93,
          92,
          93,
          94,
          93,
          93,
          94,
          94,
          93,
          92,
          92,
          85,
          95,
          92,
          92,
          93,
          93,
          93,
          92,
          93,
          94,
          94,
          93,
          93,
          92,
          90,
          94,
          94,
          94,
          94,
          94,
          92,
          92,
          95,
          93,
          90,
          90,
          93,
          94,
          94,
          94,
          95,
          93,
          92,
          91,
          95,
          94,
          94,
          93,
          95,
          94,
          93,
          95,
          94,
          94,
          93,
          93,
          92,
          93,
          94,
          94,
          90,
          95,
          94,
          94,
          92,
          92,
          93,
          94,
          93,
          95,
          94,
          93,
          93,
          90,
          93,
          93,
          92,
          91,
          94,
          93,
          87,
          95,
          95,
          94,
          94,
          94,
          94,
          94,
          93,
          92,
          92,
          92,
          90,
          93,
          92,
          95,
          94,
          94,
          93,
          94,
          93,
          94,
          90,
          86,
          92,
          91,
          90,
          95,
          93,
          91,
          96,
          94,
          94,
          93,
          93,
          93,
          92,
          92,
          95,
          93,
          93,
          92,
          94,
          93,
          93,
          92,
          94,
          94,
          94,
          95,
          92,
          93,
          96,
          94,
          94,
          91,
          94,
          92,
          91,
          93,
          94,
          93,
          92,
          92,
          92,
          92,
          92,
          93,
          93,
          94,
          94,
          94,
          93,
          94,
          95,
          84,
          93,
          92,
          92,
          94,
          94,
          94,
          92,
          92,
          94,
          94,
          95,
          94,
          94,
          92,
          92,
          91,
          90,
          95,
          95,
          95,
          95,
          94,
          94,
          94,
          94,
          94,
          94,
          94,
          94,
          93,
          92,
          90,
          89,
          86,
          86,
          97,
          94,
          94,
          94,
          93,
          92,
          94,
          92,
          91,
          95,
          94,
          94,
          93,
          93,
          93,
          94,
          92,
          92,
          98,
          94,
          94,
          95,
          95,
          93,
          94,
          93,
          91,
          94,
          93,
          94,
          95,
          94,
          93,
          93,
          93,
          92,
          95,
          92,
          94,
          94,
          94,
          98,
          95,
          91,
          94,
          93,
          94,
          97,
          96,
          94,
          92,
          94,
          93,
          93,
          93,
          95,
          94,
          95,
          95,
          93,
          93,
          92,
          92,
          95,
          94,
          93,
          93,
          96,
          95,
          93,
          93,
          93,
          92,
          93,
          93,
          93,
          94,
          93,
          94,
          94,
          94,
          93,
          92,
          92,
          91,
          93,
          94,
          93,
          93,
          94,
          92,
          93,
          92,
          93,
          92,
          95,
          94,
          92,
          96,
          95,
          95,
          94,
          93,
          93,
          94,
          93,
          93,
          92,
          94,
          90,
          93,
          93,
          92,
          93,
          94,
          93,
          93,
          88,
          93,
          86,
          94,
          93,
          94,
          94,
          94,
          93,
          93,
          94,
          92,
          93,
          93,
          92,
          95,
          95,
          95,
          94,
          95,
          93,
          94,
          94,
          93,
          93,
          94,
          94,
          93,
          93,
          95,
          95,
          93,
          92,
          96,
          95,
          95,
          94,
          93,
          93,
          93,
          93,
          92,
          93,
          93,
          93,
          94,
          94,
          95,
          93,
          93,
          93,
          95,
          93,
          93,
          93,
          95,
          94,
          93,
          91,
          90,
          94,
          94,
          94,
          92,
          96,
          94,
          93,
          93,
          93,
          92,
          94,
          91,
          92,
          92,
          92,
          92,
          93,
          93,
          92,
          92,
          92,
          94,
          94,
          94,
          93,
          92,
          92,
          90,
          94,
          93,
          91,
          94,
          92,
          91,
          94,
          93,
          92,
          92,
          92,
          94,
          93,
          93,
          93,
          93,
          94,
          94,
          94,
          92,
          92,
          93,
          92,
          92,
          92,
          91,
          91,
          90,
          90,
          96,
          95,
          94,
          94,
          94,
          94,
          93,
          93,
          93,
          91,
          95,
          94,
          94,
          94,
          95,
          95,
          95,
          94,
          95,
          93,
          91,
          93,
          90,
          92,
          88,
          93,
          93,
          96,
          93,
          92,
          92,
          94,
          90,
          93,
          93,
          93,
          94,
          91,
          96,
          94,
          93,
          95,
          95,
          94,
          94,
          93,
          93,
          93,
          93,
          93,
          93,
          94,
          93,
          95,
          94,
          94,
          94,
          92,
          92,
          91,
          92,
          95,
          94,
          94,
          94,
          93,
          90,
          94,
          93,
          94,
          92,
          95,
          94,
          94,
          94,
          94,
          94,
          94,
          93,
          93,
          93,
          92,
          95,
          96,
          95,
          95,
          95,
          95,
          95,
          94,
          94,
          93,
          93,
          93,
          93,
          92,
          95,
          94,
          93,
          95,
          95,
          94,
          93,
          94,
          94,
          94,
          93,
          93,
          92,
          93,
          95,
          95,
          94,
          94,
          94,
          93,
          93,
          94,
          93,
          94,
          94,
          93,
          94,
          91,
          93,
          94,
          94,
          95,
          92,
          92,
          90,
          93,
          95,
          92,
          92,
          94,
          90,
          93,
          94,
          93,
          91,
          95,
          93,
          97,
          93,
          94,
          93,
          93,
          93,
          93,
          93,
          93,
          93,
          92,
          92,
          92,
          94,
          93,
          91,
          93,
          93,
          95,
          95,
          94,
          94,
          94,
          92,
          95,
          93,
          93,
          92,
          93,
          93,
          92,
          92,
          93,
          93,
          92,
          91,
          90,
          92,
          94,
          92,
          90,
          96,
          94,
          93,
          93,
          93,
          95,
          94,
          94,
          95,
          95,
          95,
          94,
          94,
          92,
          93,
          95,
          93,
          92,
          92,
          95,
          94,
          94,
          92,
          95,
          94,
          93,
          93,
          93,
          92,
          93,
          94,
          93,
          93,
          92,
          90,
          94,
          94,
          94,
          93,
          96,
          95,
          94,
          93,
          94,
          94,
          95,
          91,
          94,
          94,
          93,
          94,
          93,
          92,
          92,
          94,
          93,
          95,
          95,
          94,
          95,
          94,
          94,
          93,
          94,
          93,
          92,
          91,
          95,
          94,
          96,
          95,
          95,
          95,
          93,
          94,
          95,
          94,
          94,
          94,
          94,
          96,
          96,
          95,
          95,
          94,
          94,
          94,
          90,
          94,
          95,
          95,
          93,
          93,
          90,
          92,
          91,
          94,
          93,
          96,
          92,
          93,
          88,
          96,
          97,
          96,
          94,
          94,
          95,
          96,
          94,
          94,
          95,
          96,
          95,
          94,
          93,
          95,
          92,
          92,
          91,
          92,
          92,
          90,
          90,
          90,
          90,
          93,
          92,
          87,
          87,
          88,
          90,
          92,
          88,
          89,
          93,
          93,
          94,
          93,
          94,
          86,
          87,
          94,
          93,
          92,
          94,
          93,
          92,
          88,
          92,
          95,
          95,
          95,
          93,
          95,
          94,
          93,
          94,
          94,
          94,
          92,
          93,
          93,
          95,
          94,
          94,
          92,
          92,
          92,
          90,
          93,
          88,
          86,
          91,
          94,
          94,
          92,
          92,
          92,
          92,
          94,
          95,
          96,
          93,
          95,
          94,
          93,
          92,
          95,
          94,
          92,
          93,
          91,
          94,
          94,
          94,
          93,
          93,
          93,
          93,
          92,
          92,
          92,
          94,
          92,
          93,
          93,
          93,
          92,
          92,
          92,
          94,
          94,
          94,
          93,
          93,
          93,
          93,
          91,
          95,
          95,
          94,
          93,
          94,
          94,
          93,
          94,
          93,
          93,
          93,
          96,
          97,
          94,
          94,
          95,
          93,
          95,
          92,
          91,
          92,
          95,
          93,
          95,
          92,
          96,
          95,
          94,
          94,
          94,
          94,
          94,
          93,
          93,
          95,
          93,
          95,
          94,
          93,
          95,
          92,
          92,
          95,
          94,
          95,
          95,
          94,
          94,
          94,
          93,
          93,
          93,
          92,
          92,
          91,
          90,
          87,
          84,
          96,
          94,
          93,
          95,
          94,
          94,
          93,
          94,
          93,
          93,
          93,
          92,
          93,
          93,
          92,
          94,
          92,
          93,
          96,
          94,
          94,
          93,
          93,
          95,
          93,
          93,
          93,
          94,
          95,
          95,
          93,
          94,
          94,
          95,
          93,
          94,
          93,
          95,
          94,
          93,
          94,
          93,
          93,
          92,
          94,
          97,
          95,
          93,
          93,
          93,
          93,
          93,
          92,
          93,
          94,
          95,
          95,
          94,
          94,
          93,
          93,
          93,
          92,
          92,
          90,
          94,
          95,
          92,
          90,
          93,
          93,
          95,
          94,
          94,
          95,
          94,
          95,
          95,
          93,
          93,
          93,
          95,
          95,
          95,
          94,
          93,
          95,
          94,
          92,
          95,
          94,
          93,
          92,
          93,
          92,
          94,
          94,
          92,
          93,
          92,
          91,
          90,
          93,
          93,
          93,
          93,
          93,
          93,
          94,
          95,
          95,
          94,
          91,
          94,
          93,
          92,
          95,
          94,
          92,
          95,
          94,
          90,
          95,
          94,
          94,
          93,
          93,
          92,
          93,
          92,
          95,
          95,
          94,
          93,
          92,
          92,
          94,
          94,
          93,
          92,
          90,
          95,
          95,
          94,
          94,
          94,
          95,
          93,
          92,
          91,
          94,
          91,
          95,
          92,
          96,
          93,
          95,
          94,
          93,
          95,
          94,
          91,
          93,
          93,
          95,
          92,
          93,
          93,
          93,
          93,
          93,
          93,
          92,
          91,
          91,
          96,
          94,
          95,
          94,
          93,
          92,
          91,
          93,
          95,
          95,
          92,
          93,
          94,
          95,
          94,
          93,
          92,
          92,
          94,
          94,
          96,
          95,
          95,
          95,
          93,
          94,
          93,
          93,
          93,
          93,
          92,
          94,
          94,
          93,
          92,
          93,
          94,
          95,
          94,
          94,
          92,
          94,
          92,
          96,
          94,
          94,
          94,
          93,
          95,
          94,
          92,
          92,
          92,
          92,
          93,
          90,
          95,
          93,
          92,
          94,
          93,
          93,
          93,
          93,
          93,
          93,
          92,
          95,
          94,
          95,
          95,
          93,
          94,
          96,
          95,
          94,
          92,
          91,
          91,
          95,
          93,
          94,
          93,
          94,
          92,
          95,
          95,
          94,
          96,
          93,
          94,
          93,
          93,
          92,
          92,
          92,
          92,
          91,
          92,
          91,
          95,
          94,
          94,
          92,
          93,
          92,
          93,
          93,
          93
         ],
         "yaxis": "y"
        }
       ],
       "layout": {
        "legend": {
         "tracegroupgap": 0
        },
        "template": {
         "data": {
          "bar": [
           {
            "error_x": {
             "color": "#2a3f5f"
            },
            "error_y": {
             "color": "#2a3f5f"
            },
            "marker": {
             "line": {
              "color": "#E5ECF6",
              "width": 0.5
             },
             "pattern": {
              "fillmode": "overlay",
              "size": 10,
              "solidity": 0.2
             }
            },
            "type": "bar"
           }
          ],
          "barpolar": [
           {
            "marker": {
             "line": {
              "color": "#E5ECF6",
              "width": 0.5
             },
             "pattern": {
              "fillmode": "overlay",
              "size": 10,
              "solidity": 0.2
             }
            },
            "type": "barpolar"
           }
          ],
          "carpet": [
           {
            "aaxis": {
             "endlinecolor": "#2a3f5f",
             "gridcolor": "white",
             "linecolor": "white",
             "minorgridcolor": "white",
             "startlinecolor": "#2a3f5f"
            },
            "baxis": {
             "endlinecolor": "#2a3f5f",
             "gridcolor": "white",
             "linecolor": "white",
             "minorgridcolor": "white",
             "startlinecolor": "#2a3f5f"
            },
            "type": "carpet"
           }
          ],
          "choropleth": [
           {
            "colorbar": {
             "outlinewidth": 0,
             "ticks": ""
            },
            "type": "choropleth"
           }
          ],
          "contour": [
           {
            "colorbar": {
             "outlinewidth": 0,
             "ticks": ""
            },
            "colorscale": [
             [
              0,
              "#0d0887"
             ],
             [
              0.1111111111111111,
              "#46039f"
             ],
             [
              0.2222222222222222,
              "#7201a8"
             ],
             [
              0.3333333333333333,
              "#9c179e"
             ],
             [
              0.4444444444444444,
              "#bd3786"
             ],
             [
              0.5555555555555556,
              "#d8576b"
             ],
             [
              0.6666666666666666,
              "#ed7953"
             ],
             [
              0.7777777777777778,
              "#fb9f3a"
             ],
             [
              0.8888888888888888,
              "#fdca26"
             ],
             [
              1,
              "#f0f921"
             ]
            ],
            "type": "contour"
           }
          ],
          "contourcarpet": [
           {
            "colorbar": {
             "outlinewidth": 0,
             "ticks": ""
            },
            "type": "contourcarpet"
           }
          ],
          "heatmap": [
           {
            "colorbar": {
             "outlinewidth": 0,
             "ticks": ""
            },
            "colorscale": [
             [
              0,
              "#0d0887"
             ],
             [
              0.1111111111111111,
              "#46039f"
             ],
             [
              0.2222222222222222,
              "#7201a8"
             ],
             [
              0.3333333333333333,
              "#9c179e"
             ],
             [
              0.4444444444444444,
              "#bd3786"
             ],
             [
              0.5555555555555556,
              "#d8576b"
             ],
             [
              0.6666666666666666,
              "#ed7953"
             ],
             [
              0.7777777777777778,
              "#fb9f3a"
             ],
             [
              0.8888888888888888,
              "#fdca26"
             ],
             [
              1,
              "#f0f921"
             ]
            ],
            "type": "heatmap"
           }
          ],
          "heatmapgl": [
           {
            "colorbar": {
             "outlinewidth": 0,
             "ticks": ""
            },
            "colorscale": [
             [
              0,
              "#0d0887"
             ],
             [
              0.1111111111111111,
              "#46039f"
             ],
             [
              0.2222222222222222,
              "#7201a8"
             ],
             [
              0.3333333333333333,
              "#9c179e"
             ],
             [
              0.4444444444444444,
              "#bd3786"
             ],
             [
              0.5555555555555556,
              "#d8576b"
             ],
             [
              0.6666666666666666,
              "#ed7953"
             ],
             [
              0.7777777777777778,
              "#fb9f3a"
             ],
             [
              0.8888888888888888,
              "#fdca26"
             ],
             [
              1,
              "#f0f921"
             ]
            ],
            "type": "heatmapgl"
           }
          ],
          "histogram": [
           {
            "marker": {
             "pattern": {
              "fillmode": "overlay",
              "size": 10,
              "solidity": 0.2
             }
            },
            "type": "histogram"
           }
          ],
          "histogram2d": [
           {
            "colorbar": {
             "outlinewidth": 0,
             "ticks": ""
            },
            "colorscale": [
             [
              0,
              "#0d0887"
             ],
             [
              0.1111111111111111,
              "#46039f"
             ],
             [
              0.2222222222222222,
              "#7201a8"
             ],
             [
              0.3333333333333333,
              "#9c179e"
             ],
             [
              0.4444444444444444,
              "#bd3786"
             ],
             [
              0.5555555555555556,
              "#d8576b"
             ],
             [
              0.6666666666666666,
              "#ed7953"
             ],
             [
              0.7777777777777778,
              "#fb9f3a"
             ],
             [
              0.8888888888888888,
              "#fdca26"
             ],
             [
              1,
              "#f0f921"
             ]
            ],
            "type": "histogram2d"
           }
          ],
          "histogram2dcontour": [
           {
            "colorbar": {
             "outlinewidth": 0,
             "ticks": ""
            },
            "colorscale": [
             [
              0,
              "#0d0887"
             ],
             [
              0.1111111111111111,
              "#46039f"
             ],
             [
              0.2222222222222222,
              "#7201a8"
             ],
             [
              0.3333333333333333,
              "#9c179e"
             ],
             [
              0.4444444444444444,
              "#bd3786"
             ],
             [
              0.5555555555555556,
              "#d8576b"
             ],
             [
              0.6666666666666666,
              "#ed7953"
             ],
             [
              0.7777777777777778,
              "#fb9f3a"
             ],
             [
              0.8888888888888888,
              "#fdca26"
             ],
             [
              1,
              "#f0f921"
             ]
            ],
            "type": "histogram2dcontour"
           }
          ],
          "mesh3d": [
           {
            "colorbar": {
             "outlinewidth": 0,
             "ticks": ""
            },
            "type": "mesh3d"
           }
          ],
          "parcoords": [
           {
            "line": {
             "colorbar": {
              "outlinewidth": 0,
              "ticks": ""
             }
            },
            "type": "parcoords"
           }
          ],
          "pie": [
           {
            "automargin": true,
            "type": "pie"
           }
          ],
          "scatter": [
           {
            "fillpattern": {
             "fillmode": "overlay",
             "size": 10,
             "solidity": 0.2
            },
            "type": "scatter"
           }
          ],
          "scatter3d": [
           {
            "line": {
             "colorbar": {
              "outlinewidth": 0,
              "ticks": ""
             }
            },
            "marker": {
             "colorbar": {
              "outlinewidth": 0,
              "ticks": ""
             }
            },
            "type": "scatter3d"
           }
          ],
          "scattercarpet": [
           {
            "marker": {
             "colorbar": {
              "outlinewidth": 0,
              "ticks": ""
             }
            },
            "type": "scattercarpet"
           }
          ],
          "scattergeo": [
           {
            "marker": {
             "colorbar": {
              "outlinewidth": 0,
              "ticks": ""
             }
            },
            "type": "scattergeo"
           }
          ],
          "scattergl": [
           {
            "marker": {
             "colorbar": {
              "outlinewidth": 0,
              "ticks": ""
             }
            },
            "type": "scattergl"
           }
          ],
          "scattermapbox": [
           {
            "marker": {
             "colorbar": {
              "outlinewidth": 0,
              "ticks": ""
             }
            },
            "type": "scattermapbox"
           }
          ],
          "scatterpolar": [
           {
            "marker": {
             "colorbar": {
              "outlinewidth": 0,
              "ticks": ""
             }
            },
            "type": "scatterpolar"
           }
          ],
          "scatterpolargl": [
           {
            "marker": {
             "colorbar": {
              "outlinewidth": 0,
              "ticks": ""
             }
            },
            "type": "scatterpolargl"
           }
          ],
          "scatterternary": [
           {
            "marker": {
             "colorbar": {
              "outlinewidth": 0,
              "ticks": ""
             }
            },
            "type": "scatterternary"
           }
          ],
          "surface": [
           {
            "colorbar": {
             "outlinewidth": 0,
             "ticks": ""
            },
            "colorscale": [
             [
              0,
              "#0d0887"
             ],
             [
              0.1111111111111111,
              "#46039f"
             ],
             [
              0.2222222222222222,
              "#7201a8"
             ],
             [
              0.3333333333333333,
              "#9c179e"
             ],
             [
              0.4444444444444444,
              "#bd3786"
             ],
             [
              0.5555555555555556,
              "#d8576b"
             ],
             [
              0.6666666666666666,
              "#ed7953"
             ],
             [
              0.7777777777777778,
              "#fb9f3a"
             ],
             [
              0.8888888888888888,
              "#fdca26"
             ],
             [
              1,
              "#f0f921"
             ]
            ],
            "type": "surface"
           }
          ],
          "table": [
           {
            "cells": {
             "fill": {
              "color": "#EBF0F8"
             },
             "line": {
              "color": "white"
             }
            },
            "header": {
             "fill": {
              "color": "#C8D4E3"
             },
             "line": {
              "color": "white"
             }
            },
            "type": "table"
           }
          ]
         },
         "layout": {
          "annotationdefaults": {
           "arrowcolor": "#2a3f5f",
           "arrowhead": 0,
           "arrowwidth": 1
          },
          "autotypenumbers": "strict",
          "coloraxis": {
           "colorbar": {
            "outlinewidth": 0,
            "ticks": ""
           }
          },
          "colorscale": {
           "diverging": [
            [
             0,
             "#8e0152"
            ],
            [
             0.1,
             "#c51b7d"
            ],
            [
             0.2,
             "#de77ae"
            ],
            [
             0.3,
             "#f1b6da"
            ],
            [
             0.4,
             "#fde0ef"
            ],
            [
             0.5,
             "#f7f7f7"
            ],
            [
             0.6,
             "#e6f5d0"
            ],
            [
             0.7,
             "#b8e186"
            ],
            [
             0.8,
             "#7fbc41"
            ],
            [
             0.9,
             "#4d9221"
            ],
            [
             1,
             "#276419"
            ]
           ],
           "sequential": [
            [
             0,
             "#0d0887"
            ],
            [
             0.1111111111111111,
             "#46039f"
            ],
            [
             0.2222222222222222,
             "#7201a8"
            ],
            [
             0.3333333333333333,
             "#9c179e"
            ],
            [
             0.4444444444444444,
             "#bd3786"
            ],
            [
             0.5555555555555556,
             "#d8576b"
            ],
            [
             0.6666666666666666,
             "#ed7953"
            ],
            [
             0.7777777777777778,
             "#fb9f3a"
            ],
            [
             0.8888888888888888,
             "#fdca26"
            ],
            [
             1,
             "#f0f921"
            ]
           ],
           "sequentialminus": [
            [
             0,
             "#0d0887"
            ],
            [
             0.1111111111111111,
             "#46039f"
            ],
            [
             0.2222222222222222,
             "#7201a8"
            ],
            [
             0.3333333333333333,
             "#9c179e"
            ],
            [
             0.4444444444444444,
             "#bd3786"
            ],
            [
             0.5555555555555556,
             "#d8576b"
            ],
            [
             0.6666666666666666,
             "#ed7953"
            ],
            [
             0.7777777777777778,
             "#fb9f3a"
            ],
            [
             0.8888888888888888,
             "#fdca26"
            ],
            [
             1,
             "#f0f921"
            ]
           ]
          },
          "colorway": [
           "#636efa",
           "#EF553B",
           "#00cc96",
           "#ab63fa",
           "#FFA15A",
           "#19d3f3",
           "#FF6692",
           "#B6E880",
           "#FF97FF",
           "#FECB52"
          ],
          "font": {
           "color": "#2a3f5f"
          },
          "geo": {
           "bgcolor": "white",
           "lakecolor": "white",
           "landcolor": "#E5ECF6",
           "showlakes": true,
           "showland": true,
           "subunitcolor": "white"
          },
          "hoverlabel": {
           "align": "left"
          },
          "hovermode": "closest",
          "mapbox": {
           "style": "light"
          },
          "paper_bgcolor": "white",
          "plot_bgcolor": "#E5ECF6",
          "polar": {
           "angularaxis": {
            "gridcolor": "white",
            "linecolor": "white",
            "ticks": ""
           },
           "bgcolor": "#E5ECF6",
           "radialaxis": {
            "gridcolor": "white",
            "linecolor": "white",
            "ticks": ""
           }
          },
          "scene": {
           "xaxis": {
            "backgroundcolor": "#E5ECF6",
            "gridcolor": "white",
            "gridwidth": 2,
            "linecolor": "white",
            "showbackground": true,
            "ticks": "",
            "zerolinecolor": "white"
           },
           "yaxis": {
            "backgroundcolor": "#E5ECF6",
            "gridcolor": "white",
            "gridwidth": 2,
            "linecolor": "white",
            "showbackground": true,
            "ticks": "",
            "zerolinecolor": "white"
           },
           "zaxis": {
            "backgroundcolor": "#E5ECF6",
            "gridcolor": "white",
            "gridwidth": 2,
            "linecolor": "white",
            "showbackground": true,
            "ticks": "",
            "zerolinecolor": "white"
           }
          },
          "shapedefaults": {
           "line": {
            "color": "#2a3f5f"
           }
          },
          "ternary": {
           "aaxis": {
            "gridcolor": "white",
            "linecolor": "white",
            "ticks": ""
           },
           "baxis": {
            "gridcolor": "white",
            "linecolor": "white",
            "ticks": ""
           },
           "bgcolor": "#E5ECF6",
           "caxis": {
            "gridcolor": "white",
            "linecolor": "white",
            "ticks": ""
           }
          },
          "title": {
           "x": 0.05
          },
          "xaxis": {
           "automargin": true,
           "gridcolor": "white",
           "linecolor": "white",
           "ticks": "",
           "title": {
            "standoff": 15
           },
           "zerolinecolor": "white",
           "zerolinewidth": 2
          },
          "yaxis": {
           "automargin": true,
           "gridcolor": "white",
           "linecolor": "white",
           "ticks": "",
           "title": {
            "standoff": 15
           },
           "zerolinecolor": "white",
           "zerolinewidth": 2
          }
         }
        },
        "title": {
         "text": "Dispersão: Preço vs Nota (Rating)"
        },
        "xaxis": {
         "anchor": "y",
         "domain": [
          0,
          1
         ],
         "title": {
          "text": "Preço por 100g (USD)"
         }
        },
        "yaxis": {
         "anchor": "x",
         "domain": [
          0,
          1
         ],
         "title": {
          "text": "Nota (Rating)"
         }
        }
       }
      },
      "text/html": [
       "<div>                            <div id=\"80c79e63-1698-4c5c-a240-cb4c9d458e33\" class=\"plotly-graph-div\" style=\"height:525px; width:100%;\"></div>            <script type=\"text/javascript\">                require([\"plotly\"], function(Plotly) {                    window.PLOTLYENV=window.PLOTLYENV || {};                                    if (document.getElementById(\"80c79e63-1698-4c5c-a240-cb4c9d458e33\")) {                    Plotly.newPlot(                        \"80c79e63-1698-4c5c-a240-cb4c9d458e33\",                        [{\"hovertemplate\":\"Pre\\u00e7o por 100g (USD)=%{x}\\u003cbr\\u003eNota (Rating)=%{y}\\u003cextra\\u003e\\u003c\\u002fextra\\u003e\",\"legendgroup\":\"\",\"marker\":{\"color\":\"#636efa\",\"symbol\":\"circle\"},\"mode\":\"markers\",\"name\":\"\",\"showlegend\":false,\"x\":[4.703198763058726,4.188786398349177,4.850173724404311,5.14118414786857,3.9661193319106154,5.144123647095481,5.291098608441066,3.747861514312422,7.2017731059336745,3.8801389795234487,5.732023492477822,6.872246696035243,3.6651982378854626,6.872246696035243,4.409248840367556,5.276401112306508,33.047320058554824,4.585618793982257,5.291098608441066,3.8801389795234487,4.629711282385933,5.585048531132237,5.8789984538234075,3.4980040800249275,5.864300957688848,4.409248840367556,4.406309341140644,4.406309341140644,5.585048531132237,4.703198763058726,4.982451189615338,4.982451189615338,5.6000000000000005,7.348748067279259,4.406309341140644,4.997148685749896,9.700347448808621,6.466898299205748,4.409248840367556,5.8789984538234075,12.345896753029155,8.436363636363636,16.16724574801437,7.348748067279259,32.62844141871991,5.65853601180503,11.020917476498704,19.81957353745216,5.864300957688848,4.982451189615338,15.600000000000003,12.998465581403554,35.0,8.796451436533271,5.570351034997678,4.629711282385933,26.45549304220533,17.63699536147022,12.125434311010777,6.0,13.227746521102665,4.997148685749896,5.276401112306508,5.8789984538234075,7.348748067279259,7.054798144588088,4.112359418449474,6.0,35.0,5.070636166422688,5.511561050459444,90.83052611157164,90.83052611157164,12.998465581403554,35.0,4.994209186522984,4.997148685749896,35.0,22.48716908587453,8.017621145374449,23.8099437379848,5.585048531132237,6.025973415168993,7.054798144588088,4.5562238017131405,4.232878886752853,4.585618793982257,4.847234225177399,6.760848221896919,4.0418114370035925,4.629711282385933,4.115298917676386,4.997148685749896,6.466898299205748,3.527399072294044,14.109596289176176,4.629711282385933,4.629711282385933,4.982451189615338,8.7655866946507,8.7655866946507,8.7655866946507,7.348748067279259,3.419117647058824,3.527399072294044,4.409248840367556,4.115298917676386,3.903654973338743,0.0033000000000000004,3.3363316225447837,4.112359418449474,4.394551344232997,4.26227387902197,5.173518639364598,35.0,19.81957353745216,5.276401112306508,4.847234225177399,6.150902132312739,4.997148685749896,5.8789984538234075,26.896417926242087,4.997148685749896,6.172948376514578,6.4904142930210424,22.48716908587453,6.4904142930210424,16.53468315137833,7.111111111111111,12.698636660258558,4.933920704845816,5.8789984538234075,4.409248840367556,6.349318330129279,7.054798144588088,10.875,6.613873260551332,4.5562238017131405,3.8801389795234487,4.982451189615338,3.527399072294044,4.938358701211662,33.06936630275666,33.06936630275666,63.93410818532955,5.732023492477822,3.7037690259087466,5.276401112306508,20.26049842148892,5.291098608441066,12.345896753029155,4.997148685749896,5.291098608441066,5.864300957688848,7.3340505711447,6.826666666666667,8.881057268722467,15.432370941286443,4.112359418449474,4.850173724404311,5.6438385156704705,4.5562238017131405,5.6438385156704705,5.291098608441066,5.920704845814978,5.291098608441066,3.1746591650646394,4.5562238017131405,4.404839591527187,4.938358701211662,3.668495035185806,9.162995594713657,4.409248840367556,2.645549304220533,4.5562238017131405,3.5251944478738606,5.291098608441066,4.519480061376744,3.747861514312422,5.732023492477822,9.244444444444445,5.291098608441066,5.6438385156704705,4.409248840367556,5.582109031905325,5.438073569786652,4.112359418449474,3.668495035185806,5.6438385156704705,5.291098608441066,5.291098608441066,5.585048531132237,4.1006014215418265,4.1006014215418265,6.172948376514578,6.025973415168993,8.0,5.638766519823789,6.613873260551332,3.8801389795234487,5.356828193832599,8.183565847722182,5.570351034997678,5.291098608441066,4.629711282385933,3.5127015761594853,0.00525,5.8789984538234075,5.8789984538234075,11.763875906100637,11.763875906100637,5.291098608441066,4.406309341140644,4.43,3.963914707490432,5.034102390316786,11.226600000000001,4.997148685749896,5.291098608441066,4.703198763058726,5.291098608441066,4.703198763058726,4.409248840367556,5.291098608441066,4.997148685749896,5.144123647095481,4.0418114370035925,5.144123647095481,6.025973415168993,6.172948376514578,5.511561050459444,4.629711282385933,4.335761359694763,5.864300957688848,11.763875906100637,5.732023492477822,5.732023492477822,5.732023492477822,33.06936630275666,4.923661205077104,4.997148685749896,3.9683239563308,4.850173724404311,3.5127015761594853,5.8789984538234075,6.172948376514578,4.703198763058726,4.982451189615338,3.527399072294044,7.200000000000001,5.291098608441066,4.091782923861091,4.982451189615338,4.761988747596959,5.864300957688848,3.6008865529668372,5.291098608441066,5.144123647095481,36.651982378854626,5.732023492477822,4.409248840367556,33.06936630275666,19.841619781654,3.9573008342298808,6.466898299205748,4.541526305578582,5.438073569786652,5.864300957688848,5.732023492477822,9.6,8.0,4.997148685749896,4.406309341140644,4.112359418449474,30.864741882572886,19.841619781654,20.458914619305453,6.172948376514578,5.291098608441066,5.570351034997678,5.625,7.054798144588088,5.876058954596495,11.023122100918888,5.732023492477822,30.833333333333336,7.9366479126616,14.109596289176176,4.994209186522984,19.841619781654,15.8732958253232,11.755057408419905,11.755057408419905,4.232878886752853,4.982451189615338,5.585048531132237,4.1006014215418265,7.642697989970429,5.732023492477822,19.81957353745216,4.409248840367555,5.144123647095481,4.700259263831814,7.054798144588088,4.112359418449474,5.288159109214154,5.144123647095481,5.288159109214154,5.8789984538234075,4.703198763058726,6.0,4.232878886752853,4.091782923861091,4.232878886752853,16.16724574801437,5.732023492477822,5.144123647095481,7.348748067279259,6.760848221896919,12.0,6.172948376514578,5.6438385156704705,19.81957353745216,6.613873260551332,5.438073569786652,6.4,4.673803770789609,4.997148685749896,5.585048531132237,5.8789984538234075,6.466898299205748,4.967753693480779,6.0,6.0,5.276401112306508,26.45549304220533,6.613873260551332,7.613302997701312,7.054798144588088,5.291098608441066,4.26227387902197,6.170008877287666,4.1006014215418265,5.585048531132237,4.112359418449474,8.796451436533271,8.796451436533271,5.291098608441066,11.763875906100637,5.585048531132237,5.291098608441066,5.291098608441066,4.407044215947371,4.703198763058726,5.291098608441066,7.613302997701312,6.907823183242503,19.333333333333332,12.088888888888889,6.907823183242503,5.291098608441066,12.720682904460398,4.703198763058726,13.227746521102665,13.227746521102665,4.409248840367556,4.850173724404311,5.72908399325091,5.585048531132237,5.291098608441066,50.0,3.5555555555555554,5.291098608441066,6.7726062188045635,4.982451189615338,4.997148685749896,4.585618793982257,4.997148685749896,15.520555918093795,16.29217446515812,4.688501266924168,4.997148685749896,3.9683239563308,10.582197216882133,5.6000000000000005,5.291098608441066,6.391206194112771,4.409248840367556,5.9524859344962,9.964902379230676,3.8213489949852146,5.438073569786652,5.585048531132237,4.76198874759696,4.938358701211662,4.112359418449474,5.933333333333334,4.688501266924168,16.53468315137833,6.760848221896919,4.688501266924168,5.291098608441066,3.9705882352941173,8.377572796698354,5.864300957688848,4.673803770789609,5.864300957688848,17.592902873066542,37.03769025908746,10.934937124111537,10.229457309652727,28.19714633415052,21.60531931780102,17.63699536147022,10.582197216882133,14.109596289176176,22.046244201837776,1.3220397773035386,2.0932908869644966,1.3958946953796953,4.703198763058726,17.066666666666666,8.533333333333333,12.345896753029155,5.291098608441066,4.394551344232997,9.386666666666667,5.732023492477822,7.3340505711447,5.8789984538234075,5.079454664103424,17.63699536147022,26.45549304220533,5.585048531132237,8.818497680735112,4.409248840367556,4.409248840367556,4.409248840367556,5.291098608441066,6.172948376514578,4.673803770789609,3.668495035185806,4.703198763058726,5.291098608441066,6.760848221896919,4.997148685749896,5.585048531132237,21.164394433764265,16.666666666666664,9.867841409691632,15.432370941286443,44.048395915271875,8.355526552496517,13.227746521102665,90.83052611157164,4.820778732135193,11.763875906100637,4.409248840367556,6.231738361052812,4.541526305578582,4.938358701211662,3.668495035185806,3.8801389795234487,6.466898299205748,8.664173971322246,4.76198874759696,7.713980846223039,16.695652173913043,7.348748067279259,9.920809890827,6.343612334801763,9.867841409691632,6.172948376514578,4.232878886752853,6.760848221896919,5.585048531132237,22.70763152789291,21.164394433764265,26.45549304220533,35.27399072294044,18.782608695652176,38.4,22.046244201837776,11.226600000000001,10.773000000000001,5.585048531132237,5.026543678019014,3.527399072294044,3.527399072294044,5.496863554324886,35.22989823453677,4.938358701211662,5.9524859344962,4.409248840367556,5.8789984538234075,6.0,5.291098608441066,4.629711282385933,6.0,4.26227387902197,17.614949117268385,4.585618793982257,3.527399072294044,8.796451436533271,5.732023492477822,26.45549304220533,32.30509650375962,5.291098608441066,6.956521739130435,5.291098608441066,25.6,19.2,5.8789984538234075,17.63699536147022,5.638766519823789,7.040100648453531,6.466898299205748,476.1904761904762,7.822222222222224,17.614949117268385,17.614949117268385,5.291098608441066,65.0,5.8789984538234075,5.291098608441066,4.703198763058726,6.4522008030711895,5.276401112306508,6.158250880380018,1.973568281938326,6.4,7.2017731059336745,5.05593867028813,5.6438385156704705,4.967753693480779,110.23122100918887,9.671111111111113,26.45549304220533,5.8789984538234075,9.120000000000001,5.864300957688848,6.172948376514578,8.0,5.864300957688848,6.172948376514578,6.4,5.291098608441066,4.982451189615338,4.8,4.982451189615338,41.123594184494735,4.232878886752853,4.232878886752853,6.170008877287666,555.5555555555555,60.0,0.0039,0.0039,17.592902873066542,4.688501266924168,4.938358701211663,4.76198874759696,5.288159109214154,5.288159109214154,5.288159109214154,8.0,5.511561050459444,2.8193832599118944,5.582109031905325,4.409248840367556,5.291098608441066,4.5,4.703198763058726,6.724104481560522,3.9683239563308,5.291098608441066,8.796451436533271,4.031313225478908,8.8,16.0,8.0,17.592902873066542,5.805510973150615,0.032,0.032,0.032,8.533333333333333,0.032,4.112359418449474,3.218751653468315,4.406309341140644,4.112359418449474,5.287571209368772,4.112359418449474,3.3186946271833135,1.5410324697084605,1.4668101142289403,1.489524426436894,0.990978676872608,3.083534689030377,27.75622145011376,45.150708125363764,6.208222367237518,4.511013215859031,5.585048531132237,6.757908722670006,3.527399072294044,5.144123647095481,5.291098608441066,6.613873260551332,5.732023492477822,7.8766519823788546,7.43612334801762,5.805510973150615,5.585048531132237,3.527399072294044,13.227746521102665,5.217611127768274,4.76198874759696,9.6,4.406309341140644,5.288159109214154,4.703198763058726,4.232878886752853,5.261703616171949,10.582197216882133,3.9683239563308,5.8789984538234075,5.879411764705882,4.115298917676386,17.61179965381098,17.61179965381098,6.170008877287666,5.864300957688848,4.409248840367556,4.997148685749896,4.997148685749896,9.700347448808621,6.613873260551332,5.291098608441066,4.997148685749896,4.115298917676386,5.291098608441066,5.8789984538234075,4.482736321040348,6.466898299205748,6.760848221896919,6.907823183242503,8.48,4.850173724404311,4.776686243731518,5.3498885929793,22.0021517134341,6.172948376514578,4.409248840367556,5.585048531132237,8.52454775804394,8.52454775804394,4.112359418449474,4.406309341140644,4.997148685749896,4.112359418449474,5.8789984538234075,4.112359418449474,44.048395915271875,6.74615072576236,4.394551344232997,5.732023492477822,5.8789984538234075,4.232878886752853,4.703198763058726,4.232878886752853,9.700347448808621,11.728601915377697,5.144123647095481,7.3340505711447,17.592902873066542,7.054798144588088,10.582197216882133,10.582197216882133,4.26227387902197,6.170008877287666,5.585048531132237,4.232878886752853,20.26049842148892,20.547099596112812,5.291098608441066,17.636995361470223,8.803800184600552,5.291098608441066,13.227746521102665,5.8789984538234075,5.864300957688848,5.585048531132237,8.458149779735683,5.6438385156704705,12.345896753029153,10.582197216882133,17.63699536147022,6.74615072576236,5.232308623902833,5.585048531132237,5.144123647095481,13.227746521102665,4.406309341140644,9.28,4.703198763058726,6.349318330129279,5.864300957688848,5.511561050459444,14.550521173212932,14.550521173212932,5.8789984538234075,6.172948376514578,6.172948376514578,4.703198763058726,4.997148685749896,3.9683239563308,2.9394992269117037,16.711053104993034,5.8789984538234075,5.291098608441066,7.3340505711447,3.1746591650646394,5.291098608441066,11.287677031340941,5.291098608441066,4.997148685749896,4.688501266924168,4.688501266924168,2.645549304220533,6.545454545454546,17.636995361470223,7.348748067279259,16.75514559339671,11.023122100918888,5.291098608441066,4.409248840367556,6.172948376514578,5.585048531132237,6.172948376514578,5.291098608441066,6.172948376514578,9.964902379230676,8.230597835352771,3.8801389795234487,0.028219192578352353,5.8789984538234075,4.982451189615338,5.364586089113859,5.276401112306508,17.61935836610875,5.585048531132237,4.115298917676386,4.115298917676386,26.411400553801656,11.728601915377697,17.61935836610875,17.592902873066542,35.185805746133084,5.7657657657657655,5.6438385156704705,5.818181818181818,8.465757773505706,9.876717402423324,5.291098608441066,11.333333333333332,5.8789984538234075,5.291098608441066,5.291098608441066,5.291098608441066,5.8789984538234075,14.697496134558518,13.815646366485007,3.911111111111112,5.291098608441066,5.8789984538234075,4.850173724404311,4.115298917676386,6.613873260551332,4.700259263831814,5.291098608441066,9.574368910512405,4.688501266924168,5.585048531132237,5.585048531132237,6.613873260551332,5.291098608441066,13.521696443793838,6.466898299205748,6.172948376514578,6.907823183242503,4.409248840367556,5.582109031905325,4.409248840367556,5.43513407055974,4.997148685749896,4.997148685749896,4.280750731305415,4.280750731305415,4.280750731305415,4.703198763058726,4.703198763058726,4.703198763058726,5.6438385156704705,4.091782923861091,5.8789984538234075,5.818181818181818,8.81849768073511,5.28,6.172948376514578,7.048458149779736,7.3340505711447,7.3340505711447,7.054798144588088,4.982451189615338,6.4,9.73913043478261,5.291098608441066,4.409248840367555,6.466898299205748,7.054798144588088,8.814970281662815,6.172948376514578,6.760848221896919,5.6438385156704705,26.411400553801656,22.0021517134341,5.864300957688848,4.1006014215418265,5.511561050459444,5.732023492477822,5.144123647095481,3.527399072294044,8.0,5.288159109214154,10.582197216882133,5.364586089113859,4.703198763058726,14.697496134558518,6.757908722670006,5.291098608441066,6.172948376514578,5.8789984538234075,5.8789984538234075,5.732023492477822,5.8789984538234075,6.343612334801763,27.75622145011376,11.023122100918888,22.0021517134341,8.814088431894742,5.570351034997678,6.025973415168993,4.703198763058726,80.0,5.585048531132237,7.613302997701312,13.227746521102665,3.8801389795234487,5.261703616171949,5.511561050459444,12.345896753029155,6.466898299205748,5.8789984538234075,6.760848221896919,14.109596289176176,6.466898299205748,4.997148685749896,10.573913043478262,7.822222222222224,6.343612334801763,4.585618793982257,6.4522008030711895,7.333333333333333,8.0,6.760848221896919,5.291098608441066,3.8213489949852146,4.850173724404311,4.850173724404311,4.850173724404311,2.9394992269117037,1.4697496134558519,1.4697496134558519,5.6438385156704705,21.164394433764265,10.578669817809837,7.348748067279259,5.291098608441066,6.907823183242503,4.982451189615338,6.74615072576236,4.585618793982257,17.592902873066542,17.592902873066542,5.8789984538234075,4.644408778520492,6.466898299205748,5.291098608441066,5.582109031905325,5.8789984538234075,5.8789984538234075,0.8,4.982451189615338,57.27614243637454,49.97148685749897,28.660117462389106,6.466898299205748,12.78682163706591,13.66867140513942,2.9394992269117037,7.348748067279259,7.348748067279259,3.8213489949852146,16.93151554701141,5.276401112306508,16.125252901915633,25.195707659243173,5.864300957688848,16.125252901915633,4.585618793982257,5.570351034997678,4.585618793982257,56.00000000000001,4.373974849644615,44.09248840367555,49.97148685749897,5.291098608441066,5.585048531132237,5.8789984538234075,5.28,15.432370941286443,33.047320058554824,17.614949117268385,5.8789984538234075,0.014109596289176176,6.349318330129279,9.6,5.291098608441066,6.343612334801763,6.4,26.411400553801656,6.170008877287666,22.0021517134341,7.3340505711447,3.818409495758303,17.592902873066542,16.53468315137833,14.550521173212932,14.330058731194553,16.53468315137833,33.86303109402282,5.864300957688848,5.291098608441066,8.803800184600552,6.466898299205748,4.703198763058726,5.288159109214154,5.288159109214154,5.288159109214154,90.83052611157164,90.83052611157164,6.466898299205748,24.250868622021553,40.0,4.115298917676386,4.409248840367556,4.409248840367556,6.172948376514578,8.803800184600552,17.49589939857846,0.008228,0.008228,4.0,4.0,6.6255506607929515,10.017391304347825,4.688501266924168,5.217611127768274,6.349318330129279,4.232878886752853,17.63699536147022,24.69179350605831,17.592902873066542,6.760848221896919,7.3340505711447,6.466898299205748,17.592902873066542,5.291098608441066,6.466898299205748,9.523977495193918,11.287677031340941,4.938358701211662,4.982451189615338,3.130434782608696,4.232878886752853,20.869565217391305,11.757996907646815,9.6,8.32,28.800000000000004,5.8789984538234075,0.016,6.172948376514578,5.570351034997678,5.8789984538234075,36.684950351858056,8.818497680735112,14.697496134558518,5.291098608441066,16.666666666666664,5.8789984538234075,4.688501266924168,5.291098608441066,4.629711282385933,11.464046984955644,66.09464011710965,6.319923337860163,4.7972627383199,11.640416938570345,4.373974849644615,8.230597835352771,5.8789984538234075,18.75,13.5,5.585048531132237,22.0021517134341,26.411400553801656,6.74615072576236,22.0021517134341,5.361646589886948,6.463958799978836,5.8789984538234075,5.8789984538234075,8.373163547857986,9.964902379230676,4.373974849644615,8.74794969928923,4.177763276248259,8.347826086956522,8.223249087285488,8.671522719389525,5.8789984538234075,5.585048531132237,4.232878886752853,4.409248840367555,4.982451189615338,4.997148685749896,5.244052863436123,5.8789984538234075,5.570351034997678,5.585048531132237,3.552422907488987,7.3340505711447,7.054798144588088,7.054798144588088,6.613873260551332,5.585048531132237,5.585048531132237,4.16553763173633,4.16553763173633,5.8789984538234075,5.12,5.585048531132237,4.982451189615338,0.010744,0.035904,6.222222222222222,6.172948376514578,5.585048531132237,4.409248840367556,9.244444444444445,3.8213489949852146,5.291098608441066,4.409248840367556,6.025973415168993,5.291098608441066,5.585048531132237,5.511561050459444,4.406309341140644,5.585048531132237,5.585048531132237,5.570351034997678,26.411400553801656,8.789102688465993,35.22989823453677,17.592902873066542,7.3340505711447,4.629711282385933,5.8789984538234075,6.172948376514578,5.638766519823789,11.9049718689924,4.582091394909963,3.6743740336396296,5.818181818181818,4.629711282385933,3.9683239563308,4.629711282385933,4.629711282385933,22.0021517134341,5.805510973150615,11.728601915377697,5.570351034997678,22.0021517134341,5.288159109214154,8.809679183054374,6.956521739130435,3.9627426286847642,3.9627426286847642,4.078555177339989,5.276401112306508,4.703198763058726,8.818497680735112,4.703198763058726,4.703198763058726,4.703198763058726,4.703198763058726,38.58092735321611,26.45549304220533,12.345896753029153,8.52454775804394,14.550521173212932,25.195707659243173,5.291098608441066,4.703198763058726,13.815646366485007,5.8789984538234075,5.291098608441066,5.119999999999999,4.977777777777778,5.502742552778709,8.52454775804394,6.466898299205748,12.345896753029155,25.17051195158393,7.716185470643222,5.585048531132237,4.16553763173633,4.76198874759696,4.16553763173633,6.343612334801763,4.16553763173633,8.803800184600552,4.078555177339989,40.0,4.409248840367555,13.227746521102665,4.703198763058726,26.411400553801656,4.982451189615338,5.8789984538234075,5.6438385156704705,8.533333333333333,7.348748067279259,5.732023492477822,7.048458149779736,12.687224669603525,5.12,7.894273127753304,7.3340505711447,7.348748067279259,7.273055962186283,9.171237587964514,15.520555918093795,3.2496163953508885,7.111111111111111,5.8789984538234075,8.818497680735112,4.585618793982257,4.232878886752853,8.0,8.8,10.0,5.276401112306508,4.115298917676386,5.276401112306508,4.115298917676386,4.688501266924168,6.466898299205748,7.348748067279259,7.348748067279259,7.345808568052346,4.644408778520492,7.275260586606466,7.9366479126616,6.4,26.411400553801656,4.700259263831814,7.054798144588088,5.8789984538234075,5.8789984538234075,4.997148685749896,4.982451189615338,6.319923337860163,3.9661193319106154,5.144123647095481,6.613873260551332,3.104111183618759,5.640311116598176,7.3340505711447,4.091782923861091,6.02303391594208,19.75343480484665,4.585618793982257,5.291098608441066,7.054798144588088,25.573643274131825,8.230597835352771,7.348748067279259,10.666666666666668,7.348748067279259,13.866666666666665,30.933333333333334,22.046244201837776,13.227746521102665,8.521608258817029,6.025973415168993,6.172948376514578,5.8789984538234075,4.688501266924168,15.432370941286443,9.6,7.9366479126616,15.432370941286443,15.432370941286443,3.574431059924631,3.574431059924631,5.291098608441066,5.784934478562233,3.8801389795234487,8.959999999999999,7.048458149779736,6.343612334801763,4.394551344232997,4.091782923861091,7.048458149779736,9.58590308370044,3.8801389795234487,6.684444444444444,22.024197957635938,5.864300957688848,7.670000000000001,4.703198763058726,4.933920704845816,5.291098608441066,6.319923337860163,4.406309341140644,3.818409495758303,7.345808568052346,66.09464011710965,17.63699536147022,5.276401112306508,21.38053097345133,4.115298917676386,6.466898299205748,4.5150708125363765,4.0,3.6651982378854626,13.227746521102665,5.582109031905325,16.15254825187981,5.732023492477822,5.291098608441066,6.025973415168993,6.025973415168993,11.743299411512256,6.466898299205748,3.668495035185806,5.585048531132237,5.291098608441066,4.409248840367556,11.023122100918888,9.162995594713657,17.636995361470223,39.0,17.94,18.58407079646018,18.58407079646018,7.3340505711447,25.71428571428571,7.054798144588088,8.789102688465993,22.0021517134341,5.8789984538234075,7.054798144588088,5.276401112306508,4.703198763058726,4.688501266924168,7.348748067279259,6.907823183242503,4.997148685749896,4.703198763058726,4.16,4.16,4.688501266924168,3.6920110290011,3.6920110290011,4.394551344232997,22.784000000000002,7.296000000000001,20.224,19.2,6.172948376514578,11.170097062264475,17.066666666666666,4.266666666666667,22.0021517134341,7.3340505711447,22.0021517134341,9.479885006790244,6.172948376514578,5.585048531132237,7.9366479126616,5.864300957688848,4.078555177339989,5.864300957688848,7.642697989970429,6.466898299205748,3.6306536337456894,7.054798144588088,23.51599381529363,6.907823183242503,6.025973415168993,1.4128035320088301,14.109596289176176,21.157339635619675,8.81849768073511,17.63699536147022,18.812795052234904,21.44658635954779,4.982451189615338,5.570351034997678,4.982451189615338,5.6438385156704705,10.288247294190962,10.288247294190962,3.8801389795234487,5.291098608441066,8.465757773505706,4.585618793982257,6.610933761324421,7.642697989970429,5.72908399325091,4.112359418449474,12.345896753029155,7.348748067279259,7.3340505711447,3.524229074889868,6.613873260551332,5.638766519823789,5.8789984538234075,8.818497680735112,12.521739130434783,4.406309341140644,4.1006014215418265,11.020917476498704,12.444444444444445,5.585048531132237,6.172948376514578,5.570351034997678,7.9366479126616,10.573378719201397,5.291098608441066,44.09248840367555,7.04,4.703198763058726,5.276401112306508,4.409248840367556,16.93151554701141,3.9506869609693296,27.75622145011376,23.36901885394804,26.45549304220533,27.75622145011376,6.760848221896919,5.864300957688848,6.466898299205748,7.348748067279259,4.703198763058726,6.466898299205748,7.348748067279259,83.77572796698355,10.582197216882133,26.45549304220533,70.5479814458809,35.27399072294044,25.6,16.0,5.438073569786652,6.6000000000000005,39.66119331910616,22.024197957635938,4.700259263831814,6.907823183242503,4.700259263831814,5.8789984538234075,3.818409495758303,11.666666666666666,8.230597835352771,16.226035732552603,7.048458149779736,5.356828193832599,6.172948376514578,22.024197957635938,132.27746521102665,127.8682163706591,29.394992269117036,16.75514559339671,6.466898299205748,6.463958799978836,6.170008877287666,5.291098608441066,22.046244201837776,35.27399072294044,0.039506869609693296,0.028219192578352353,11.757996907646815,400.0,7.348748067279259,4.997148685749896,4.078555177339989,5.8789984538234075,6.4,4.409248840367556,22.53333333333333,3.8213489949852146,3.8213489949852146,7.054798144588088,2.9394992269117037,3.8213489949852146,4.850173724404311,1.4697496134558519,4.850173724404311,4.850173724404311,3.8213489949852146,1.4697496134558519,5.6438385156704705,5.291098608441066,5.291098608441066,5.291098608441066,7.760277959046897,4.115298917676386,3.9473275332814306,22.046244201837776,6.466898299205748,5.585048531132237,26.45549304220533,6.025973415168993,5.8789984538234075,4.997148685749896,7.048458149779736,13.227746521102665,44.09248840367555,7.348748067279259,8.81849768073511,7.642697989970429,10.582197216882133,7.642697989970429,5.6438385156704705,12.301804264625478,4.982451189615338,8.52454775804394,7.054798144588088,10.4,11.023122100918888,5.585048531132237,11.023122100918888,5.585048531132237,4.571428571428571,7.348748067279259,3.9473275332814306,8.8,4.115298917676386,4.115298917676386,7.716185470643222,15.410324697084606,4.700259263831814,4.700259263831814,11.00107585671705,3.818409495758303,6.000000000000001,5.585048531132237,5.291098608441066,11.287677031340941,5.291098608441066,5.8789984538234075,7.9366479126616,5.585048531132237,11.31707202361006,13.451327433628318,7.348748067279259,5.333333333333334,6.760848221896919,5.8789984538234075,3.9473275332814306,5.291098608441066,10.453333333333333,2.8219192578352352,4.703198763058726,5.291098608441066,4.997148685749896,4.703198763058726,4.703198763058726,3.84,6.466898299205748,9.920809890827,5.585048531132237,5.144123647095481,5.288159109214154,7.348748067279259,5.288159109214154,4.700259263831814,5.585048531132237,15.8732958253232,6.684444444444444,5.262222222222222,6.349318330129279,6.349318330129279,5.262222222222222,4.232878886752853,22.024197957635938,7.345808568052346,5.582109031905325,4.666666666666667,7.9366479126616,11.023122100918888,6.172948376514578,6.466898299205748,4.26227387902197,5.217611127768274,6.466898299205748,40.56508933138151,35.27399072294044,36.11174800261028,35.27399072294044,22.046244201837776,10.582197216882133,10.582197216882133,37.03769025908746,11.464046984955644,17.63699536147022,6.172948376514578,6.172948376514578,5.585048531132237,2.2555066079295156,14.109596289176176,4.938358701211662,5.8789984538234075,7.642697989970429,5.585048531132237,5.8789984538234075,5.079454664103424,5.6438385156704705,8.208695652173912,10.572687224669604,5.8789984538234075,7.9366479126616,7.054798144588088,6.172948376514578,26.45549304220533,5.8789984538234075,5.8789984538234075,25.6,22.400000000000002,29.078996102224025,115.20000000000002,8.818497680735112,7.2017731059336745,10.053087356038027,4.26227387902197,5.0,6.981818181818182,3.9573008342298808,3.8948364756580074,4.409248840367556,3.818409495758303,2.67494429648965,2.9336202284578805,19.75343480484665,11.287677031340941,5.288159109214154,7.642697989970429,5.585048531132237,14.991446057249687,5.732023492477822,7.642697989970429,5.585048531132237,7.054798144588088,5.291098608441066,5.291098608441066,5.864300957688848,5.291098608441066,4.982451189615338,6.907823183242503,6.466898299205748,7.054798144588088,123.45896753029155,7.054798144588088,22.046244201837776,5.585048531132237,5.8789984538234075,5.732023492477822,5.291098608441066,5.291098608441066,4.997148685749896,26.45549304220533,26.45549304220533,26.45549304220533,10.288247294190962,14.109596289176176,4.933920704845816,7.048458149779736,4.933920704845816,4.933920704845816,4.933920704845816,16.5,6.466898299205748,5.291098608441066,6.760848221896919,4.850173724404311,5.438073569786652,6.760848221896919,5.6438385156704705,15.432370941286443,8.465757773505706,3.9506869609693296,5.565217391304348,11.287677031340941,8.230597835352771,4.7972627383199,4.078555177339989,5.079454664103424,7.75330396475771,13.392070484581497,5.570351034997678,8.818497680735112,11.170097062264475,6.550883991403225,5.8789984538234075,5.291098608441066,14.697496134558518,6.343612334801763,6.343612334801763,8.818497680735112,9.345132743362832,5.732023492477822,5.291098608441066,5.291098608441066,5.876058954596495,61.657142857142865,5.291098608441066,6.545454545454546,6.760848221896919,5.585048531132237,4.585618793982257,4.585618793982257,5.291098608441066,5.217611127768274,5.511561050459444,7.9366479126615985,28.660117462389106,26.45549304220533,5.582109031905325,5.582109031905325,5.511561050459444,6.760848221896919,5.732023492477822,15.712959503855286,4.924249104922486,15.57934590263203,15.57934590263203,11.132471472160004,4.924249104922486,4.115298917676386,11.464046984955644,4.112359418449474,4.115298917676386,4.115298917676386,4.115298917676386,4.112359418449474,6.760848221896919,5.8789984538234075,6.172948376514578,6.466898299205748,4.688501266924168,5.864300957688848,11.596324450166671,13.227746521102665,96.00000000000001,9.6,3.2422907488986783,6.172948376514578,7.642697989970429,5.8789984538234075,7.348748067279259,14.08,10.08,4.938358701211662,15.520555918093795,5.276401112306508,26.45549304220533,5.585048531132237,11.170097062264475,6.343612334801763,6.343612334801763,6.343612334801763,5.144123647095481,5.144123647095481,5.482166058190327,28.660117462389106,6.466898299205748,8.0,4.409248840367556,4.994209186522984,6.172948376514578,4.739942503395122,7.054798144588088,4.078555177339989,7.054798144588088,5.585048531132237,44.09248840367555,7.9366479126616,44.09248840367555,11.023122100918888,40.0,7.048458149779736,8.458149779735683,7.048458149779736,6.086956521739131,4.186581773928993,66.66666666666666,7.048458149779736,22.024197957635938,5.144123647095481,6.466898299205748,10.582197216882133,6.466898299205748,8.377572796698356,5.438073569786652,5.864300957688848,5.629728919381295,6.053016808056579,7.054798144588088,4.997148685749896,3.527399072294044,2.8219192578352352,3.8213489949852146,9.244444444444445,6.466898299205748,5.585048531132237,6.298926914810793,7.642697989970429,4.9089637089425455,7.054798144588088,11.61102194630123,35.27399072294044,4.997148685749896,5.288159109214154,5.288159109214154,4.994209186522984,5.570351034997678,8.8,9.171237587964514,12.629333333333333,4.4,5.8789984538234075,8.458149779735683,10.434782608695652,6.349318330129279,7.348748067279259,7.054798144588088,25.57364327413182,17.284255454240814,5.502742552778709,7.495723028624844,8.465757773505706,9.876717402423324,6.466898299205748,14.219827510185365,4.703198763058726,3.736838392211503,11.333333333333332,6.466898299205748,6.613873260551332,7.642697989970429,7.642697989970429,5.585048531132237,5.291098608441066,7.330396475770925,5.8789984538234075,8.8,8.8,6.4522008030711895,4.982451189615338,5.6438385156704705,5.6438385156704705,21.14234818956243,6.802841067995656,6.878428190973386,6.802841067995656,26.45549304220533,4.585618793982257,5.6000000000000005,5.2,7.200000000000001,5.2,8.0,7.200000000000001,5.2,12.5,7.348748067279259,7.348748067279259,9.0,7.330396475770925,7.407538051817493,5.3057961045756254,6.907823183242503,9.460869565217392,5.291098608441066,5.8789984538234075,6.4904142930210424,7.75330396475771,7.048458149779736,6.466898299205748,5.291098608441066,8.818497680735112,33.86303109402282,38.4,3.8213489949852146,4.850173724404311,1.4697496134558519,1.4697496134558519,11.023122100918888,11.023122100918888,11.023122100918888,11.023122100918888,11.023122100918888,4.997148685749896,8.81849768073511,13.518756944566926,5.570351034997678,128.0,6.760848221896919,12.933796598411496,10.0,6.172948376514578,5.585048531132237,9.167710188892219,8.8,6.08,5.8789984538234075,10.666666666666668,5.8789984538234075,13.227746521102665,8.113017866276302,7.642697989970429,7.04,4.703198763058726,4.703198763058726,2.9394992269117037,2.9394992269117037,4.703198763058726],\"xaxis\":\"x\",\"y\":[92,92,94,93,93,93,93,94,95,93,90,92,92,91,87,93,97,95,92,95,94,93,92,89,93,92,91,90,93,93,92,89,95,93,93,93,93,95,94,93,93,94,96,95,94,96,95,95,95,93,95,93,93,92,96,91,95,93,92,96,92,93,94,95,92,91,90,90,94,93,95,93,93,90,95,94,92,93,95,92,95,92,91,92,92,93,94,93,92,92,92,94,93,93,93,93,94,93,93,96,92,90,91,92,92,94,93,93,92,92,94,94,92,95,92,95,94,93,93,93,93,94,94,94,94,95,94,95,92,94,92,91,94,92,92,92,92,93,94,93,89,94,96,95,95,93,93,94,94,93,93,93,94,93,93,92,92,95,91,92,92,91,91,91,90,93,93,92,93,94,93,92,92,92,90,90,90,93,93,92,92,92,95,93,94,94,90,93,93,93,93,93,92,90,93,91,93,92,95,94,92,95,93,92,94,93,92,92,91,95,92,94,92,90,68,63,93,93,93,93,94,93,92,93,93,93,92,94,94,90,93,91,95,93,96,94,94,94,96,94,93,93,93,93,93,92,92,92,92,93,96,95,93,90,94,92,91,91,92,95,92,95,96,92,92,91,92,95,94,93,93,90,90,90,95,94,95,94,93,93,93,93,93,93,92,90,95,94,94,94,94,93,93,94,93,91,90,94,93,96,91,91,93,94,92,94,93,94,93,92,95,94,95,94,93,93,93,92,92,96,92,92,95,94,94,93,90,93,95,93,94,94,93,93,93,97,94,94,94,94,92,95,92,92,91,94,91,92,93,93,93,94,94,95,93,93,93,93,92,93,93,91,93,93,92,91,92,93,94,94,92,94,97,93,92,95,95,94,94,93,93,92,91,90,92,92,92,91,94,90,90,92,95,92,95,92,93,90,95,92,90,94,94,93,93,91,92,94,94,93,93,93,93,93,92,92,90,90,87,87,91,94,94,93,92,92,95,94,94,94,94,93,96,92,93,92,91,90,93,93,93,93,93,96,94,92,94,90,96,93,94,93,90,93,93,93,94,92,97,92,95,94,94,93,94,92,92,92,91,91,93,92,94,94,92,92,94,96,95,94,94,94,94,92,90,94,93,94,93,93,92,94,91,91,93,93,93,94,94,92,95,94,92,92,94,96,96,93,93,93,92,92,93,93,93,93,93,98,95,93,93,91,96,91,92,92,95,93,93,91,93,93,96,94,90,97,91,96,93,95,93,93,93,93,92,91,90,90,93,93,94,94,94,95,97,97,94,94,93,93,93,92,91,90,88,94,94,93,93,92,92,92,92,91,86,93,92,92,95,94,93,96,95,94,92,92,91,90,92,91,90,90,90,90,90,89,89,88,87,87,95,94,91,90,93,94,93,93,92,92,92,93,91,94,94,92,91,92,90,94,93,92,92,94,91,92,91,95,93,88,91,90,95,92,90,92,90,96,94,93,93,93,92,92,92,92,94,94,92,94,93,92,93,92,93,93,94,94,94,91,93,92,91,90,95,94,90,93,93,94,93,93,92,93,92,94,93,92,92,91,96,96,95,95,94,94,93,94,94,93,94,93,93,93,92,93,94,93,93,94,94,93,92,92,85,95,92,92,93,93,93,92,93,94,94,93,93,92,90,94,94,94,94,94,92,92,95,93,90,90,93,94,94,94,95,93,92,91,95,94,94,93,95,94,93,95,94,94,93,93,92,93,94,94,90,95,94,94,92,92,93,94,93,95,94,93,93,90,93,93,92,91,94,93,87,95,95,94,94,94,94,94,93,92,92,92,90,93,92,95,94,94,93,94,93,94,90,86,92,91,90,95,93,91,96,94,94,93,93,93,92,92,95,93,93,92,94,93,93,92,94,94,94,95,92,93,96,94,94,91,94,92,91,93,94,93,92,92,92,92,92,93,93,94,94,94,93,94,95,84,93,92,92,94,94,94,92,92,94,94,95,94,94,92,92,91,90,95,95,95,95,94,94,94,94,94,94,94,94,93,92,90,89,86,86,97,94,94,94,93,92,94,92,91,95,94,94,93,93,93,94,92,92,98,94,94,95,95,93,94,93,91,94,93,94,95,94,93,93,93,92,95,92,94,94,94,98,95,91,94,93,94,97,96,94,92,94,93,93,93,95,94,95,95,93,93,92,92,95,94,93,93,96,95,93,93,93,92,93,93,93,94,93,94,94,94,93,92,92,91,93,94,93,93,94,92,93,92,93,92,95,94,92,96,95,95,94,93,93,94,93,93,92,94,90,93,93,92,93,94,93,93,88,93,86,94,93,94,94,94,93,93,94,92,93,93,92,95,95,95,94,95,93,94,94,93,93,94,94,93,93,95,95,93,92,96,95,95,94,93,93,93,93,92,93,93,93,94,94,95,93,93,93,95,93,93,93,95,94,93,91,90,94,94,94,92,96,94,93,93,93,92,94,91,92,92,92,92,93,93,92,92,92,94,94,94,93,92,92,90,94,93,91,94,92,91,94,93,92,92,92,94,93,93,93,93,94,94,94,92,92,93,92,92,92,91,91,90,90,96,95,94,94,94,94,93,93,93,91,95,94,94,94,95,95,95,94,95,93,91,93,90,92,88,93,93,96,93,92,92,94,90,93,93,93,94,91,96,94,93,95,95,94,94,93,93,93,93,93,93,94,93,95,94,94,94,92,92,91,92,95,94,94,94,93,90,94,93,94,92,95,94,94,94,94,94,94,93,93,93,92,95,96,95,95,95,95,95,94,94,93,93,93,93,92,95,94,93,95,95,94,93,94,94,94,93,93,92,93,95,95,94,94,94,93,93,94,93,94,94,93,94,91,93,94,94,95,92,92,90,93,95,92,92,94,90,93,94,93,91,95,93,97,93,94,93,93,93,93,93,93,93,92,92,92,94,93,91,93,93,95,95,94,94,94,92,95,93,93,92,93,93,92,92,93,93,92,91,90,92,94,92,90,96,94,93,93,93,95,94,94,95,95,95,94,94,92,93,95,93,92,92,95,94,94,92,95,94,93,93,93,92,93,94,93,93,92,90,94,94,94,93,96,95,94,93,94,94,95,91,94,94,93,94,93,92,92,94,93,95,95,94,95,94,94,93,94,93,92,91,95,94,96,95,95,95,93,94,95,94,94,94,94,96,96,95,95,94,94,94,90,94,95,95,93,93,90,92,91,94,93,96,92,93,88,96,97,96,94,94,95,96,94,94,95,96,95,94,93,95,92,92,91,92,92,90,90,90,90,93,92,87,87,88,90,92,88,89,93,93,94,93,94,86,87,94,93,92,94,93,92,88,92,95,95,95,93,95,94,93,94,94,94,92,93,93,95,94,94,92,92,92,90,93,88,86,91,94,94,92,92,92,92,94,95,96,93,95,94,93,92,95,94,92,93,91,94,94,94,93,93,93,93,92,92,92,94,92,93,93,93,92,92,92,94,94,94,93,93,93,93,91,95,95,94,93,94,94,93,94,93,93,93,96,97,94,94,95,93,95,92,91,92,95,93,95,92,96,95,94,94,94,94,94,93,93,95,93,95,94,93,95,92,92,95,94,95,95,94,94,94,93,93,93,92,92,91,90,87,84,96,94,93,95,94,94,93,94,93,93,93,92,93,93,92,94,92,93,96,94,94,93,93,95,93,93,93,94,95,95,93,94,94,95,93,94,93,95,94,93,94,93,93,92,94,97,95,93,93,93,93,93,92,93,94,95,95,94,94,93,93,93,92,92,90,94,95,92,90,93,93,95,94,94,95,94,95,95,93,93,93,95,95,95,94,93,95,94,92,95,94,93,92,93,92,94,94,92,93,92,91,90,93,93,93,93,93,93,94,95,95,94,91,94,93,92,95,94,92,95,94,90,95,94,94,93,93,92,93,92,95,95,94,93,92,92,94,94,93,92,90,95,95,94,94,94,95,93,92,91,94,91,95,92,96,93,95,94,93,95,94,91,93,93,95,92,93,93,93,93,93,93,92,91,91,96,94,95,94,93,92,91,93,95,95,92,93,94,95,94,93,92,92,94,94,96,95,95,95,93,94,93,93,93,93,92,94,94,93,92,93,94,95,94,94,92,94,92,96,94,94,94,93,95,94,92,92,92,92,93,90,95,93,92,94,93,93,93,93,93,93,92,95,94,95,95,93,94,96,95,94,92,91,91,95,93,94,93,94,92,95,95,94,96,93,94,93,93,92,92,92,92,91,92,91,95,94,94,92,93,92,93,93,93],\"yaxis\":\"y\",\"type\":\"scattergl\"}],                        {\"template\":{\"data\":{\"histogram2dcontour\":[{\"type\":\"histogram2dcontour\",\"colorbar\":{\"outlinewidth\":0,\"ticks\":\"\"},\"colorscale\":[[0.0,\"#0d0887\"],[0.1111111111111111,\"#46039f\"],[0.2222222222222222,\"#7201a8\"],[0.3333333333333333,\"#9c179e\"],[0.4444444444444444,\"#bd3786\"],[0.5555555555555556,\"#d8576b\"],[0.6666666666666666,\"#ed7953\"],[0.7777777777777778,\"#fb9f3a\"],[0.8888888888888888,\"#fdca26\"],[1.0,\"#f0f921\"]]}],\"choropleth\":[{\"type\":\"choropleth\",\"colorbar\":{\"outlinewidth\":0,\"ticks\":\"\"}}],\"histogram2d\":[{\"type\":\"histogram2d\",\"colorbar\":{\"outlinewidth\":0,\"ticks\":\"\"},\"colorscale\":[[0.0,\"#0d0887\"],[0.1111111111111111,\"#46039f\"],[0.2222222222222222,\"#7201a8\"],[0.3333333333333333,\"#9c179e\"],[0.4444444444444444,\"#bd3786\"],[0.5555555555555556,\"#d8576b\"],[0.6666666666666666,\"#ed7953\"],[0.7777777777777778,\"#fb9f3a\"],[0.8888888888888888,\"#fdca26\"],[1.0,\"#f0f921\"]]}],\"heatmap\":[{\"type\":\"heatmap\",\"colorbar\":{\"outlinewidth\":0,\"ticks\":\"\"},\"colorscale\":[[0.0,\"#0d0887\"],[0.1111111111111111,\"#46039f\"],[0.2222222222222222,\"#7201a8\"],[0.3333333333333333,\"#9c179e\"],[0.4444444444444444,\"#bd3786\"],[0.5555555555555556,\"#d8576b\"],[0.6666666666666666,\"#ed7953\"],[0.7777777777777778,\"#fb9f3a\"],[0.8888888888888888,\"#fdca26\"],[1.0,\"#f0f921\"]]}],\"heatmapgl\":[{\"type\":\"heatmapgl\",\"colorbar\":{\"outlinewidth\":0,\"ticks\":\"\"},\"colorscale\":[[0.0,\"#0d0887\"],[0.1111111111111111,\"#46039f\"],[0.2222222222222222,\"#7201a8\"],[0.3333333333333333,\"#9c179e\"],[0.4444444444444444,\"#bd3786\"],[0.5555555555555556,\"#d8576b\"],[0.6666666666666666,\"#ed7953\"],[0.7777777777777778,\"#fb9f3a\"],[0.8888888888888888,\"#fdca26\"],[1.0,\"#f0f921\"]]}],\"contourcarpet\":[{\"type\":\"contourcarpet\",\"colorbar\":{\"outlinewidth\":0,\"ticks\":\"\"}}],\"contour\":[{\"type\":\"contour\",\"colorbar\":{\"outlinewidth\":0,\"ticks\":\"\"},\"colorscale\":[[0.0,\"#0d0887\"],[0.1111111111111111,\"#46039f\"],[0.2222222222222222,\"#7201a8\"],[0.3333333333333333,\"#9c179e\"],[0.4444444444444444,\"#bd3786\"],[0.5555555555555556,\"#d8576b\"],[0.6666666666666666,\"#ed7953\"],[0.7777777777777778,\"#fb9f3a\"],[0.8888888888888888,\"#fdca26\"],[1.0,\"#f0f921\"]]}],\"surface\":[{\"type\":\"surface\",\"colorbar\":{\"outlinewidth\":0,\"ticks\":\"\"},\"colorscale\":[[0.0,\"#0d0887\"],[0.1111111111111111,\"#46039f\"],[0.2222222222222222,\"#7201a8\"],[0.3333333333333333,\"#9c179e\"],[0.4444444444444444,\"#bd3786\"],[0.5555555555555556,\"#d8576b\"],[0.6666666666666666,\"#ed7953\"],[0.7777777777777778,\"#fb9f3a\"],[0.8888888888888888,\"#fdca26\"],[1.0,\"#f0f921\"]]}],\"mesh3d\":[{\"type\":\"mesh3d\",\"colorbar\":{\"outlinewidth\":0,\"ticks\":\"\"}}],\"scatter\":[{\"fillpattern\":{\"fillmode\":\"overlay\",\"size\":10,\"solidity\":0.2},\"type\":\"scatter\"}],\"parcoords\":[{\"type\":\"parcoords\",\"line\":{\"colorbar\":{\"outlinewidth\":0,\"ticks\":\"\"}}}],\"scatterpolargl\":[{\"type\":\"scatterpolargl\",\"marker\":{\"colorbar\":{\"outlinewidth\":0,\"ticks\":\"\"}}}],\"bar\":[{\"error_x\":{\"color\":\"#2a3f5f\"},\"error_y\":{\"color\":\"#2a3f5f\"},\"marker\":{\"line\":{\"color\":\"#E5ECF6\",\"width\":0.5},\"pattern\":{\"fillmode\":\"overlay\",\"size\":10,\"solidity\":0.2}},\"type\":\"bar\"}],\"scattergeo\":[{\"type\":\"scattergeo\",\"marker\":{\"colorbar\":{\"outlinewidth\":0,\"ticks\":\"\"}}}],\"scatterpolar\":[{\"type\":\"scatterpolar\",\"marker\":{\"colorbar\":{\"outlinewidth\":0,\"ticks\":\"\"}}}],\"histogram\":[{\"marker\":{\"pattern\":{\"fillmode\":\"overlay\",\"size\":10,\"solidity\":0.2}},\"type\":\"histogram\"}],\"scattergl\":[{\"type\":\"scattergl\",\"marker\":{\"colorbar\":{\"outlinewidth\":0,\"ticks\":\"\"}}}],\"scatter3d\":[{\"type\":\"scatter3d\",\"line\":{\"colorbar\":{\"outlinewidth\":0,\"ticks\":\"\"}},\"marker\":{\"colorbar\":{\"outlinewidth\":0,\"ticks\":\"\"}}}],\"scattermapbox\":[{\"type\":\"scattermapbox\",\"marker\":{\"colorbar\":{\"outlinewidth\":0,\"ticks\":\"\"}}}],\"scatterternary\":[{\"type\":\"scatterternary\",\"marker\":{\"colorbar\":{\"outlinewidth\":0,\"ticks\":\"\"}}}],\"scattercarpet\":[{\"type\":\"scattercarpet\",\"marker\":{\"colorbar\":{\"outlinewidth\":0,\"ticks\":\"\"}}}],\"carpet\":[{\"aaxis\":{\"endlinecolor\":\"#2a3f5f\",\"gridcolor\":\"white\",\"linecolor\":\"white\",\"minorgridcolor\":\"white\",\"startlinecolor\":\"#2a3f5f\"},\"baxis\":{\"endlinecolor\":\"#2a3f5f\",\"gridcolor\":\"white\",\"linecolor\":\"white\",\"minorgridcolor\":\"white\",\"startlinecolor\":\"#2a3f5f\"},\"type\":\"carpet\"}],\"table\":[{\"cells\":{\"fill\":{\"color\":\"#EBF0F8\"},\"line\":{\"color\":\"white\"}},\"header\":{\"fill\":{\"color\":\"#C8D4E3\"},\"line\":{\"color\":\"white\"}},\"type\":\"table\"}],\"barpolar\":[{\"marker\":{\"line\":{\"color\":\"#E5ECF6\",\"width\":0.5},\"pattern\":{\"fillmode\":\"overlay\",\"size\":10,\"solidity\":0.2}},\"type\":\"barpolar\"}],\"pie\":[{\"automargin\":true,\"type\":\"pie\"}]},\"layout\":{\"autotypenumbers\":\"strict\",\"colorway\":[\"#636efa\",\"#EF553B\",\"#00cc96\",\"#ab63fa\",\"#FFA15A\",\"#19d3f3\",\"#FF6692\",\"#B6E880\",\"#FF97FF\",\"#FECB52\"],\"font\":{\"color\":\"#2a3f5f\"},\"hovermode\":\"closest\",\"hoverlabel\":{\"align\":\"left\"},\"paper_bgcolor\":\"white\",\"plot_bgcolor\":\"#E5ECF6\",\"polar\":{\"bgcolor\":\"#E5ECF6\",\"angularaxis\":{\"gridcolor\":\"white\",\"linecolor\":\"white\",\"ticks\":\"\"},\"radialaxis\":{\"gridcolor\":\"white\",\"linecolor\":\"white\",\"ticks\":\"\"}},\"ternary\":{\"bgcolor\":\"#E5ECF6\",\"aaxis\":{\"gridcolor\":\"white\",\"linecolor\":\"white\",\"ticks\":\"\"},\"baxis\":{\"gridcolor\":\"white\",\"linecolor\":\"white\",\"ticks\":\"\"},\"caxis\":{\"gridcolor\":\"white\",\"linecolor\":\"white\",\"ticks\":\"\"}},\"coloraxis\":{\"colorbar\":{\"outlinewidth\":0,\"ticks\":\"\"}},\"colorscale\":{\"sequential\":[[0.0,\"#0d0887\"],[0.1111111111111111,\"#46039f\"],[0.2222222222222222,\"#7201a8\"],[0.3333333333333333,\"#9c179e\"],[0.4444444444444444,\"#bd3786\"],[0.5555555555555556,\"#d8576b\"],[0.6666666666666666,\"#ed7953\"],[0.7777777777777778,\"#fb9f3a\"],[0.8888888888888888,\"#fdca26\"],[1.0,\"#f0f921\"]],\"sequentialminus\":[[0.0,\"#0d0887\"],[0.1111111111111111,\"#46039f\"],[0.2222222222222222,\"#7201a8\"],[0.3333333333333333,\"#9c179e\"],[0.4444444444444444,\"#bd3786\"],[0.5555555555555556,\"#d8576b\"],[0.6666666666666666,\"#ed7953\"],[0.7777777777777778,\"#fb9f3a\"],[0.8888888888888888,\"#fdca26\"],[1.0,\"#f0f921\"]],\"diverging\":[[0,\"#8e0152\"],[0.1,\"#c51b7d\"],[0.2,\"#de77ae\"],[0.3,\"#f1b6da\"],[0.4,\"#fde0ef\"],[0.5,\"#f7f7f7\"],[0.6,\"#e6f5d0\"],[0.7,\"#b8e186\"],[0.8,\"#7fbc41\"],[0.9,\"#4d9221\"],[1,\"#276419\"]]},\"xaxis\":{\"gridcolor\":\"white\",\"linecolor\":\"white\",\"ticks\":\"\",\"title\":{\"standoff\":15},\"zerolinecolor\":\"white\",\"automargin\":true,\"zerolinewidth\":2},\"yaxis\":{\"gridcolor\":\"white\",\"linecolor\":\"white\",\"ticks\":\"\",\"title\":{\"standoff\":15},\"zerolinecolor\":\"white\",\"automargin\":true,\"zerolinewidth\":2},\"scene\":{\"xaxis\":{\"backgroundcolor\":\"#E5ECF6\",\"gridcolor\":\"white\",\"linecolor\":\"white\",\"showbackground\":true,\"ticks\":\"\",\"zerolinecolor\":\"white\",\"gridwidth\":2},\"yaxis\":{\"backgroundcolor\":\"#E5ECF6\",\"gridcolor\":\"white\",\"linecolor\":\"white\",\"showbackground\":true,\"ticks\":\"\",\"zerolinecolor\":\"white\",\"gridwidth\":2},\"zaxis\":{\"backgroundcolor\":\"#E5ECF6\",\"gridcolor\":\"white\",\"linecolor\":\"white\",\"showbackground\":true,\"ticks\":\"\",\"zerolinecolor\":\"white\",\"gridwidth\":2}},\"shapedefaults\":{\"line\":{\"color\":\"#2a3f5f\"}},\"annotationdefaults\":{\"arrowcolor\":\"#2a3f5f\",\"arrowhead\":0,\"arrowwidth\":1},\"geo\":{\"bgcolor\":\"white\",\"landcolor\":\"#E5ECF6\",\"subunitcolor\":\"white\",\"showland\":true,\"showlakes\":true,\"lakecolor\":\"white\"},\"title\":{\"x\":0.05},\"mapbox\":{\"style\":\"light\"}}},\"xaxis\":{\"anchor\":\"y\",\"domain\":[0.0,1.0],\"title\":{\"text\":\"Pre\\u00e7o por 100g (USD)\"}},\"yaxis\":{\"anchor\":\"x\",\"domain\":[0.0,1.0],\"title\":{\"text\":\"Nota (Rating)\"}},\"legend\":{\"tracegroupgap\":0},\"title\":{\"text\":\"Dispers\\u00e3o: Pre\\u00e7o vs Nota (Rating)\"}},                        {\"responsive\": true}                    ).then(function(){\n",
       "                            \n",
       "var gd = document.getElementById('80c79e63-1698-4c5c-a240-cb4c9d458e33');\n",
       "var x = new MutationObserver(function (mutations, observer) {{\n",
       "        var display = window.getComputedStyle(gd).display;\n",
       "        if (!display || display === 'none') {{\n",
       "            console.log([gd, 'removed!']);\n",
       "            Plotly.purge(gd);\n",
       "            observer.disconnect();\n",
       "        }}\n",
       "}});\n",
       "\n",
       "// Listen for the removal of the full notebook cells\n",
       "var notebookContainer = gd.closest('#notebook-container');\n",
       "if (notebookContainer) {{\n",
       "    x.observe(notebookContainer, {childList: true});\n",
       "}}\n",
       "\n",
       "// Listen for the clearing of the current output cell\n",
       "var outputEl = gd.closest('.output');\n",
       "if (outputEl) {{\n",
       "    x.observe(outputEl, {childList: true});\n",
       "}}\n",
       "\n",
       "                        })                };                });            </script>        </div>"
      ]
     },
     "metadata": {},
     "output_type": "display_data"
    }
   ],
   "source": [
    "# Criando o gráfico de dispersão preço vs rating\n",
    "fig_scatter = px.scatter(coffee_raw_df, x='price_per_100g', y='rating', \n",
    "                         title='Dispersão: Preço vs Nota (Rating)',\n",
    "                         labels={'price_per_100g': 'Preço por 100g (USD)', 'rating': 'Nota (Rating)'})\n",
    "fig_scatter.show()"
   ]
  },
  {
   "cell_type": "code",
   "execution_count": null,
   "metadata": {},
   "outputs": [],
   "source": []
  }
 ],
 "metadata": {
  "kernelspec": {
   "display_name": "coffee_data_project",
   "language": "python",
   "name": "coffee_data_project"
  },
  "language_info": {
   "codemirror_mode": {
    "name": "ipython",
    "version": 3
   },
   "file_extension": ".py",
   "mimetype": "text/x-python",
   "name": "python",
   "nbconvert_exporter": "python",
   "pygments_lexer": "ipython3",
   "version": "3.12.6"
  }
 },
 "nbformat": 4,
 "nbformat_minor": 2
}
